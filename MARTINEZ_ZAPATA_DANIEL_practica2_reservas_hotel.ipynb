{
  "cells": [
    {
      "cell_type": "code",
      "execution_count": null,
      "id": "2ae82f01",
      "metadata": {
        "id": "2ae82f01",
        "outputId": "44e158ad-feae-4b62-a912-ea2ddb36e186"
      },
      "outputs": [
        {
          "data": {
            "text/html": [
              "<style>.container {width:100%} important! </style>"
            ],
            "text/plain": [
              "<IPython.core.display.HTML object>"
            ]
          },
          "metadata": {},
          "output_type": "display_data"
        }
      ],
      "source": [
        "from IPython.display import HTML, display\n",
        "display(HTML ('<style>.container {width:100%} important! </style>'))"
      ]
    },
    {
      "cell_type": "markdown",
      "id": "808be310",
      "metadata": {
        "id": "808be310"
      },
      "source": [
        "**Alumno: Daniel Martínez Zapata**\n",
        "\n",
        "**Diplomado en Ciencia de Datos**\n",
        "\n",
        "**Profesora: Lorena Pineda Rodríguez**\n",
        "\n",
        "**Práctica 2: Predecir si un cliente cancelará una reservación de hotel**"
      ]
    },
    {
      "cell_type": "markdown",
      "id": "8ee5c187",
      "metadata": {
        "id": "8ee5c187"
      },
      "source": [
        "![image-3.png](attachment:image-3.png)"
      ]
    },
    {
      "cell_type": "markdown",
      "id": "f33b338d",
      "metadata": {
        "id": "f33b338d"
      },
      "source": [
        "# Librerías"
      ]
    },
    {
      "cell_type": "code",
      "execution_count": null,
      "id": "f86b7cc3",
      "metadata": {
        "id": "f86b7cc3"
      },
      "outputs": [],
      "source": [
        "import pandas as pd\n",
        "import numpy as np\n",
        "import seaborn as sns\n",
        "import os\n",
        "import missingno as msno\n",
        "\n",
        "\n",
        "from sklearn.impute import SimpleImputer\n",
        "from sklearn.model_selection import train_test_split\n",
        "from sklearn.metrics import roc_auc_score,accuracy_score,confusion_matrix\n",
        "from sklearn.linear_model import LogisticRegression\n",
        "from sklearn.preprocessing import KBinsDiscretizer\n",
        "from sklearn.feature_selection import VarianceThreshold\n",
        "from sklearn.metrics import roc_auc_score, accuracy_score, confusion_matrix\n",
        "from sklearn.linear_model import LogisticRegression\n",
        "from sklearn.model_selection import cross_val_score, train_test_split\n",
        "from sklearn.linear_model import LogisticRegression, LinearRegression\n",
        "from sklearn.feature_selection import SelectKBest, f_classif, f_regression\n",
        "from sklearn.metrics import accuracy_score, roc_auc_score, mean_absolute_error, mean_squared_error, r2_score\n",
        "\n",
        "\n",
        "\n",
        "from scipy.stats import ks_2samp\n",
        "from varclushi import VarClusHi\n",
        "from scikitplot.metrics import plot_roc_curve\n"
      ]
    },
    {
      "cell_type": "code",
      "execution_count": null,
      "id": "accf30c0",
      "metadata": {
        "id": "accf30c0"
      },
      "outputs": [],
      "source": [
        "pd.set_option('display.max_columns', 100)"
      ]
    },
    {
      "cell_type": "markdown",
      "id": "8a5cba88",
      "metadata": {
        "id": "8a5cba88"
      },
      "source": [
        "# Lectura de Datos"
      ]
    },
    {
      "cell_type": "code",
      "execution_count": null,
      "id": "fd12874a",
      "metadata": {
        "id": "fd12874a"
      },
      "outputs": [],
      "source": [
        "df = pd.read_csv('hotel_booking.csv')"
      ]
    },
    {
      "cell_type": "code",
      "execution_count": null,
      "id": "0b7bea98",
      "metadata": {
        "id": "0b7bea98",
        "outputId": "3a319dad-c58d-4aad-eb90-a4de64770d70"
      },
      "outputs": [
        {
          "data": {
            "text/html": [
              "<div>\n",
              "<style scoped>\n",
              "    .dataframe tbody tr th:only-of-type {\n",
              "        vertical-align: middle;\n",
              "    }\n",
              "\n",
              "    .dataframe tbody tr th {\n",
              "        vertical-align: top;\n",
              "    }\n",
              "\n",
              "    .dataframe thead th {\n",
              "        text-align: right;\n",
              "    }\n",
              "</style>\n",
              "<table border=\"1\" class=\"dataframe\">\n",
              "  <thead>\n",
              "    <tr style=\"text-align: right;\">\n",
              "      <th></th>\n",
              "      <th>hotel</th>\n",
              "      <th>is_canceled</th>\n",
              "      <th>lead_time</th>\n",
              "      <th>arrival_date_year</th>\n",
              "      <th>arrival_date_month</th>\n",
              "      <th>arrival_date_week_number</th>\n",
              "      <th>arrival_date_day_of_month</th>\n",
              "      <th>stays_in_weekend_nights</th>\n",
              "      <th>stays_in_week_nights</th>\n",
              "      <th>adults</th>\n",
              "      <th>children</th>\n",
              "      <th>babies</th>\n",
              "      <th>meal</th>\n",
              "      <th>country</th>\n",
              "      <th>market_segment</th>\n",
              "      <th>distribution_channel</th>\n",
              "      <th>is_repeated_guest</th>\n",
              "      <th>previous_cancellations</th>\n",
              "      <th>previous_bookings_not_canceled</th>\n",
              "      <th>reserved_room_type</th>\n",
              "      <th>assigned_room_type</th>\n",
              "      <th>booking_changes</th>\n",
              "      <th>deposit_type</th>\n",
              "      <th>agent</th>\n",
              "      <th>company</th>\n",
              "      <th>days_in_waiting_list</th>\n",
              "      <th>customer_type</th>\n",
              "      <th>adr</th>\n",
              "      <th>required_car_parking_spaces</th>\n",
              "      <th>total_of_special_requests</th>\n",
              "      <th>reservation_status</th>\n",
              "      <th>reservation_status_date</th>\n",
              "      <th>name</th>\n",
              "      <th>email</th>\n",
              "      <th>phone-number</th>\n",
              "      <th>credit_card</th>\n",
              "    </tr>\n",
              "  </thead>\n",
              "  <tbody>\n",
              "    <tr>\n",
              "      <th>0</th>\n",
              "      <td>Resort Hotel</td>\n",
              "      <td>0</td>\n",
              "      <td>342</td>\n",
              "      <td>2015</td>\n",
              "      <td>July</td>\n",
              "      <td>27</td>\n",
              "      <td>1</td>\n",
              "      <td>0</td>\n",
              "      <td>0</td>\n",
              "      <td>2</td>\n",
              "      <td>0.0</td>\n",
              "      <td>0</td>\n",
              "      <td>BB</td>\n",
              "      <td>PRT</td>\n",
              "      <td>Direct</td>\n",
              "      <td>Direct</td>\n",
              "      <td>0</td>\n",
              "      <td>0</td>\n",
              "      <td>0</td>\n",
              "      <td>C</td>\n",
              "      <td>C</td>\n",
              "      <td>3</td>\n",
              "      <td>No Deposit</td>\n",
              "      <td>NaN</td>\n",
              "      <td>NaN</td>\n",
              "      <td>0</td>\n",
              "      <td>Transient</td>\n",
              "      <td>0.0</td>\n",
              "      <td>0</td>\n",
              "      <td>0</td>\n",
              "      <td>Check-Out</td>\n",
              "      <td>2015-07-01</td>\n",
              "      <td>Ernest Barnes</td>\n",
              "      <td>Ernest.Barnes31@outlook.com</td>\n",
              "      <td>669-792-1661</td>\n",
              "      <td>************4322</td>\n",
              "    </tr>\n",
              "    <tr>\n",
              "      <th>1</th>\n",
              "      <td>Resort Hotel</td>\n",
              "      <td>0</td>\n",
              "      <td>737</td>\n",
              "      <td>2015</td>\n",
              "      <td>July</td>\n",
              "      <td>27</td>\n",
              "      <td>1</td>\n",
              "      <td>0</td>\n",
              "      <td>0</td>\n",
              "      <td>2</td>\n",
              "      <td>0.0</td>\n",
              "      <td>0</td>\n",
              "      <td>BB</td>\n",
              "      <td>PRT</td>\n",
              "      <td>Direct</td>\n",
              "      <td>Direct</td>\n",
              "      <td>0</td>\n",
              "      <td>0</td>\n",
              "      <td>0</td>\n",
              "      <td>C</td>\n",
              "      <td>C</td>\n",
              "      <td>4</td>\n",
              "      <td>No Deposit</td>\n",
              "      <td>NaN</td>\n",
              "      <td>NaN</td>\n",
              "      <td>0</td>\n",
              "      <td>Transient</td>\n",
              "      <td>0.0</td>\n",
              "      <td>0</td>\n",
              "      <td>0</td>\n",
              "      <td>Check-Out</td>\n",
              "      <td>2015-07-01</td>\n",
              "      <td>Andrea Baker</td>\n",
              "      <td>Andrea_Baker94@aol.com</td>\n",
              "      <td>858-637-6955</td>\n",
              "      <td>************9157</td>\n",
              "    </tr>\n",
              "    <tr>\n",
              "      <th>2</th>\n",
              "      <td>Resort Hotel</td>\n",
              "      <td>0</td>\n",
              "      <td>7</td>\n",
              "      <td>2015</td>\n",
              "      <td>July</td>\n",
              "      <td>27</td>\n",
              "      <td>1</td>\n",
              "      <td>0</td>\n",
              "      <td>1</td>\n",
              "      <td>1</td>\n",
              "      <td>0.0</td>\n",
              "      <td>0</td>\n",
              "      <td>BB</td>\n",
              "      <td>GBR</td>\n",
              "      <td>Direct</td>\n",
              "      <td>Direct</td>\n",
              "      <td>0</td>\n",
              "      <td>0</td>\n",
              "      <td>0</td>\n",
              "      <td>A</td>\n",
              "      <td>C</td>\n",
              "      <td>0</td>\n",
              "      <td>No Deposit</td>\n",
              "      <td>NaN</td>\n",
              "      <td>NaN</td>\n",
              "      <td>0</td>\n",
              "      <td>Transient</td>\n",
              "      <td>75.0</td>\n",
              "      <td>0</td>\n",
              "      <td>0</td>\n",
              "      <td>Check-Out</td>\n",
              "      <td>2015-07-02</td>\n",
              "      <td>Rebecca Parker</td>\n",
              "      <td>Rebecca_Parker@comcast.net</td>\n",
              "      <td>652-885-2745</td>\n",
              "      <td>************3734</td>\n",
              "    </tr>\n",
              "    <tr>\n",
              "      <th>3</th>\n",
              "      <td>Resort Hotel</td>\n",
              "      <td>0</td>\n",
              "      <td>13</td>\n",
              "      <td>2015</td>\n",
              "      <td>July</td>\n",
              "      <td>27</td>\n",
              "      <td>1</td>\n",
              "      <td>0</td>\n",
              "      <td>1</td>\n",
              "      <td>1</td>\n",
              "      <td>0.0</td>\n",
              "      <td>0</td>\n",
              "      <td>BB</td>\n",
              "      <td>GBR</td>\n",
              "      <td>Corporate</td>\n",
              "      <td>Corporate</td>\n",
              "      <td>0</td>\n",
              "      <td>0</td>\n",
              "      <td>0</td>\n",
              "      <td>A</td>\n",
              "      <td>A</td>\n",
              "      <td>0</td>\n",
              "      <td>No Deposit</td>\n",
              "      <td>304.0</td>\n",
              "      <td>NaN</td>\n",
              "      <td>0</td>\n",
              "      <td>Transient</td>\n",
              "      <td>75.0</td>\n",
              "      <td>0</td>\n",
              "      <td>0</td>\n",
              "      <td>Check-Out</td>\n",
              "      <td>2015-07-02</td>\n",
              "      <td>Laura Murray</td>\n",
              "      <td>Laura_M@gmail.com</td>\n",
              "      <td>364-656-8427</td>\n",
              "      <td>************5677</td>\n",
              "    </tr>\n",
              "    <tr>\n",
              "      <th>4</th>\n",
              "      <td>Resort Hotel</td>\n",
              "      <td>0</td>\n",
              "      <td>14</td>\n",
              "      <td>2015</td>\n",
              "      <td>July</td>\n",
              "      <td>27</td>\n",
              "      <td>1</td>\n",
              "      <td>0</td>\n",
              "      <td>2</td>\n",
              "      <td>2</td>\n",
              "      <td>0.0</td>\n",
              "      <td>0</td>\n",
              "      <td>BB</td>\n",
              "      <td>GBR</td>\n",
              "      <td>Online TA</td>\n",
              "      <td>TA/TO</td>\n",
              "      <td>0</td>\n",
              "      <td>0</td>\n",
              "      <td>0</td>\n",
              "      <td>A</td>\n",
              "      <td>A</td>\n",
              "      <td>0</td>\n",
              "      <td>No Deposit</td>\n",
              "      <td>240.0</td>\n",
              "      <td>NaN</td>\n",
              "      <td>0</td>\n",
              "      <td>Transient</td>\n",
              "      <td>98.0</td>\n",
              "      <td>0</td>\n",
              "      <td>1</td>\n",
              "      <td>Check-Out</td>\n",
              "      <td>2015-07-03</td>\n",
              "      <td>Linda Hines</td>\n",
              "      <td>LHines@verizon.com</td>\n",
              "      <td>713-226-5883</td>\n",
              "      <td>************5498</td>\n",
              "    </tr>\n",
              "  </tbody>\n",
              "</table>\n",
              "</div>"
            ],
            "text/plain": [
              "          hotel  is_canceled  lead_time  arrival_date_year arrival_date_month  \\\n",
              "0  Resort Hotel            0        342               2015               July   \n",
              "1  Resort Hotel            0        737               2015               July   \n",
              "2  Resort Hotel            0          7               2015               July   \n",
              "3  Resort Hotel            0         13               2015               July   \n",
              "4  Resort Hotel            0         14               2015               July   \n",
              "\n",
              "   arrival_date_week_number  arrival_date_day_of_month  \\\n",
              "0                        27                          1   \n",
              "1                        27                          1   \n",
              "2                        27                          1   \n",
              "3                        27                          1   \n",
              "4                        27                          1   \n",
              "\n",
              "   stays_in_weekend_nights  stays_in_week_nights  adults  children  babies  \\\n",
              "0                        0                     0       2       0.0       0   \n",
              "1                        0                     0       2       0.0       0   \n",
              "2                        0                     1       1       0.0       0   \n",
              "3                        0                     1       1       0.0       0   \n",
              "4                        0                     2       2       0.0       0   \n",
              "\n",
              "  meal country market_segment distribution_channel  is_repeated_guest  \\\n",
              "0   BB     PRT         Direct               Direct                  0   \n",
              "1   BB     PRT         Direct               Direct                  0   \n",
              "2   BB     GBR         Direct               Direct                  0   \n",
              "3   BB     GBR      Corporate            Corporate                  0   \n",
              "4   BB     GBR      Online TA                TA/TO                  0   \n",
              "\n",
              "   previous_cancellations  previous_bookings_not_canceled reserved_room_type  \\\n",
              "0                       0                               0                  C   \n",
              "1                       0                               0                  C   \n",
              "2                       0                               0                  A   \n",
              "3                       0                               0                  A   \n",
              "4                       0                               0                  A   \n",
              "\n",
              "  assigned_room_type  booking_changes deposit_type  agent  company  \\\n",
              "0                  C                3   No Deposit    NaN      NaN   \n",
              "1                  C                4   No Deposit    NaN      NaN   \n",
              "2                  C                0   No Deposit    NaN      NaN   \n",
              "3                  A                0   No Deposit  304.0      NaN   \n",
              "4                  A                0   No Deposit  240.0      NaN   \n",
              "\n",
              "   days_in_waiting_list customer_type   adr  required_car_parking_spaces  \\\n",
              "0                     0     Transient   0.0                            0   \n",
              "1                     0     Transient   0.0                            0   \n",
              "2                     0     Transient  75.0                            0   \n",
              "3                     0     Transient  75.0                            0   \n",
              "4                     0     Transient  98.0                            0   \n",
              "\n",
              "   total_of_special_requests reservation_status reservation_status_date  \\\n",
              "0                          0          Check-Out              2015-07-01   \n",
              "1                          0          Check-Out              2015-07-01   \n",
              "2                          0          Check-Out              2015-07-02   \n",
              "3                          0          Check-Out              2015-07-02   \n",
              "4                          1          Check-Out              2015-07-03   \n",
              "\n",
              "             name                        email  phone-number       credit_card  \n",
              "0   Ernest Barnes  Ernest.Barnes31@outlook.com  669-792-1661  ************4322  \n",
              "1    Andrea Baker       Andrea_Baker94@aol.com  858-637-6955  ************9157  \n",
              "2  Rebecca Parker   Rebecca_Parker@comcast.net  652-885-2745  ************3734  \n",
              "3    Laura Murray            Laura_M@gmail.com  364-656-8427  ************5677  \n",
              "4     Linda Hines           LHines@verizon.com  713-226-5883  ************5498  "
            ]
          },
          "execution_count": 5,
          "metadata": {},
          "output_type": "execute_result"
        }
      ],
      "source": [
        "df.head()"
      ]
    },
    {
      "cell_type": "markdown",
      "id": "7e54973d",
      "metadata": {
        "id": "7e54973d"
      },
      "source": [
        "# Limpieza de datos - Pretratamiento"
      ]
    },
    {
      "cell_type": "code",
      "execution_count": null,
      "id": "4e77dc78",
      "metadata": {
        "id": "4e77dc78",
        "outputId": "68c5ecc7-9f3f-41c2-c31e-5b6dbe8a0729"
      },
      "outputs": [
        {
          "data": {
            "text/plain": [
              "(119390, 36)"
            ]
          },
          "execution_count": 6,
          "metadata": {},
          "output_type": "execute_result"
        }
      ],
      "source": [
        "df.shape"
      ]
    },
    {
      "cell_type": "code",
      "execution_count": null,
      "id": "7d1dc678",
      "metadata": {
        "id": "7d1dc678",
        "outputId": "7f62d875-2bd4-4f8e-e92d-2f558fdee169"
      },
      "outputs": [
        {
          "data": {
            "text/plain": [
              "hotel                              object\n",
              "is_canceled                         int64\n",
              "lead_time                           int64\n",
              "arrival_date_year                   int64\n",
              "arrival_date_month                 object\n",
              "arrival_date_week_number            int64\n",
              "arrival_date_day_of_month           int64\n",
              "stays_in_weekend_nights             int64\n",
              "stays_in_week_nights                int64\n",
              "adults                              int64\n",
              "children                          float64\n",
              "babies                              int64\n",
              "meal                               object\n",
              "country                            object\n",
              "market_segment                     object\n",
              "distribution_channel               object\n",
              "is_repeated_guest                   int64\n",
              "previous_cancellations              int64\n",
              "previous_bookings_not_canceled      int64\n",
              "reserved_room_type                 object\n",
              "assigned_room_type                 object\n",
              "booking_changes                     int64\n",
              "deposit_type                       object\n",
              "agent                             float64\n",
              "company                           float64\n",
              "days_in_waiting_list                int64\n",
              "customer_type                      object\n",
              "adr                               float64\n",
              "required_car_parking_spaces         int64\n",
              "total_of_special_requests           int64\n",
              "reservation_status                 object\n",
              "reservation_status_date            object\n",
              "name                               object\n",
              "email                              object\n",
              "phone-number                       object\n",
              "credit_card                        object\n",
              "dtype: object"
            ]
          },
          "execution_count": 7,
          "metadata": {},
          "output_type": "execute_result"
        }
      ],
      "source": [
        "df.dtypes"
      ]
    },
    {
      "cell_type": "code",
      "execution_count": null,
      "id": "9dfd4216",
      "metadata": {
        "id": "9dfd4216",
        "outputId": "634d6f44-eb43-40b7-8288-0a1db3cea506"
      },
      "outputs": [
        {
          "name": "stdout",
          "output_type": "stream",
          "text": [
            "hotel [<class 'str'>] \n",
            "\n",
            "is_canceled [<class 'int'>] \n",
            "\n",
            "lead_time [<class 'int'>] \n",
            "\n",
            "arrival_date_year [<class 'int'>] \n",
            "\n",
            "arrival_date_month [<class 'str'>] \n",
            "\n",
            "arrival_date_week_number [<class 'int'>] \n",
            "\n",
            "arrival_date_day_of_month [<class 'int'>] \n",
            "\n",
            "stays_in_weekend_nights [<class 'int'>] \n",
            "\n",
            "stays_in_week_nights [<class 'int'>] \n",
            "\n",
            "adults [<class 'int'>] \n",
            "\n",
            "children [<class 'float'>] \n",
            "\n",
            "babies [<class 'int'>] \n",
            "\n",
            "meal [<class 'str'>] \n",
            "\n",
            "country [<class 'str'>, <class 'float'>] \n",
            "\n",
            "market_segment [<class 'str'>] \n",
            "\n",
            "distribution_channel [<class 'str'>] \n",
            "\n",
            "is_repeated_guest [<class 'int'>] \n",
            "\n",
            "previous_cancellations [<class 'int'>] \n",
            "\n",
            "previous_bookings_not_canceled [<class 'int'>] \n",
            "\n",
            "reserved_room_type [<class 'str'>] \n",
            "\n",
            "assigned_room_type [<class 'str'>] \n",
            "\n",
            "booking_changes [<class 'int'>] \n",
            "\n",
            "deposit_type [<class 'str'>] \n",
            "\n",
            "agent [<class 'float'>] \n",
            "\n",
            "company [<class 'float'>] \n",
            "\n",
            "days_in_waiting_list [<class 'int'>] \n",
            "\n",
            "customer_type [<class 'str'>] \n",
            "\n",
            "adr [<class 'float'>] \n",
            "\n",
            "required_car_parking_spaces [<class 'int'>] \n",
            "\n",
            "total_of_special_requests [<class 'int'>] \n",
            "\n",
            "reservation_status [<class 'str'>] \n",
            "\n",
            "reservation_status_date [<class 'str'>] \n",
            "\n",
            "name [<class 'str'>] \n",
            "\n",
            "email [<class 'str'>] \n",
            "\n",
            "phone-number [<class 'str'>] \n",
            "\n",
            "credit_card [<class 'str'>] \n",
            "\n"
          ]
        }
      ],
      "source": [
        "for d in df.columns:\n",
        "    print( d , df[d].map(type).unique().tolist()  , \"\\n\"*1 )"
      ]
    },
    {
      "cell_type": "code",
      "execution_count": null,
      "id": "8dade145",
      "metadata": {
        "id": "8dade145",
        "outputId": "c316d5d2-43bd-4961-c54a-2f0dec533904"
      },
      "outputs": [
        {
          "data": {
            "text/plain": [
              "PRT    48590\n",
              "GBR    12129\n",
              "FRA    10415\n",
              "ESP     8568\n",
              "DEU     7287\n",
              "       ...  \n",
              "DJI        1\n",
              "BWA        1\n",
              "HND        1\n",
              "VGB        1\n",
              "NAM        1\n",
              "Name: country, Length: 177, dtype: int64"
            ]
          },
          "execution_count": 9,
          "metadata": {},
          "output_type": "execute_result"
        }
      ],
      "source": [
        "df['country'].value_counts()"
      ]
    },
    {
      "cell_type": "code",
      "execution_count": null,
      "id": "405a2760",
      "metadata": {
        "id": "405a2760"
      },
      "outputs": [],
      "source": [
        "df['country'] = df['country'].astype(str)"
      ]
    },
    {
      "cell_type": "code",
      "execution_count": null,
      "id": "359a394e",
      "metadata": {
        "id": "359a394e"
      },
      "outputs": [],
      "source": [
        "# Revisar que categorías están completas."
      ]
    },
    {
      "cell_type": "code",
      "execution_count": null,
      "id": "a438b869",
      "metadata": {
        "id": "a438b869",
        "outputId": "d832167c-1077-47ac-ba7b-37f87d5ff8d4"
      },
      "outputs": [
        {
          "data": {
            "text/plain": [
              "((119390, 36), (217, 36), 0.0018175726610268866)"
            ]
          },
          "execution_count": 12,
          "metadata": {},
          "output_type": "execute_result"
        }
      ],
      "source": [
        "df.shape , df.dropna().shape, df.dropna().shape[0]/df.shape[0]"
      ]
    },
    {
      "cell_type": "code",
      "execution_count": null,
      "id": "d7bc8e5a",
      "metadata": {
        "id": "d7bc8e5a",
        "outputId": "6668c14c-7283-4614-a61f-2d89f5c7df94"
      },
      "outputs": [
        {
          "data": {
            "text/html": [
              "<div>\n",
              "<style scoped>\n",
              "    .dataframe tbody tr th:only-of-type {\n",
              "        vertical-align: middle;\n",
              "    }\n",
              "\n",
              "    .dataframe tbody tr th {\n",
              "        vertical-align: top;\n",
              "    }\n",
              "\n",
              "    .dataframe thead th {\n",
              "        text-align: right;\n",
              "    }\n",
              "</style>\n",
              "<table border=\"1\" class=\"dataframe\">\n",
              "  <thead>\n",
              "    <tr style=\"text-align: right;\">\n",
              "      <th></th>\n",
              "      <th>Columnas</th>\n",
              "      <th>%</th>\n",
              "    </tr>\n",
              "  </thead>\n",
              "  <tbody>\n",
              "    <tr>\n",
              "      <th>0</th>\n",
              "      <td>hotel</td>\n",
              "      <td>1.000000</td>\n",
              "    </tr>\n",
              "    <tr>\n",
              "      <th>1</th>\n",
              "      <td>is_canceled</td>\n",
              "      <td>1.000000</td>\n",
              "    </tr>\n",
              "    <tr>\n",
              "      <th>2</th>\n",
              "      <td>lead_time</td>\n",
              "      <td>1.000000</td>\n",
              "    </tr>\n",
              "    <tr>\n",
              "      <th>3</th>\n",
              "      <td>arrival_date_year</td>\n",
              "      <td>1.000000</td>\n",
              "    </tr>\n",
              "    <tr>\n",
              "      <th>4</th>\n",
              "      <td>arrival_date_month</td>\n",
              "      <td>1.000000</td>\n",
              "    </tr>\n",
              "    <tr>\n",
              "      <th>5</th>\n",
              "      <td>arrival_date_week_number</td>\n",
              "      <td>1.000000</td>\n",
              "    </tr>\n",
              "    <tr>\n",
              "      <th>6</th>\n",
              "      <td>arrival_date_day_of_month</td>\n",
              "      <td>1.000000</td>\n",
              "    </tr>\n",
              "    <tr>\n",
              "      <th>7</th>\n",
              "      <td>stays_in_weekend_nights</td>\n",
              "      <td>1.000000</td>\n",
              "    </tr>\n",
              "    <tr>\n",
              "      <th>8</th>\n",
              "      <td>stays_in_week_nights</td>\n",
              "      <td>1.000000</td>\n",
              "    </tr>\n",
              "    <tr>\n",
              "      <th>9</th>\n",
              "      <td>adults</td>\n",
              "      <td>1.000000</td>\n",
              "    </tr>\n",
              "    <tr>\n",
              "      <th>10</th>\n",
              "      <td>children</td>\n",
              "      <td>0.999966</td>\n",
              "    </tr>\n",
              "    <tr>\n",
              "      <th>11</th>\n",
              "      <td>babies</td>\n",
              "      <td>1.000000</td>\n",
              "    </tr>\n",
              "    <tr>\n",
              "      <th>12</th>\n",
              "      <td>meal</td>\n",
              "      <td>1.000000</td>\n",
              "    </tr>\n",
              "    <tr>\n",
              "      <th>13</th>\n",
              "      <td>country</td>\n",
              "      <td>1.000000</td>\n",
              "    </tr>\n",
              "    <tr>\n",
              "      <th>14</th>\n",
              "      <td>market_segment</td>\n",
              "      <td>1.000000</td>\n",
              "    </tr>\n",
              "    <tr>\n",
              "      <th>15</th>\n",
              "      <td>distribution_channel</td>\n",
              "      <td>1.000000</td>\n",
              "    </tr>\n",
              "    <tr>\n",
              "      <th>16</th>\n",
              "      <td>is_repeated_guest</td>\n",
              "      <td>1.000000</td>\n",
              "    </tr>\n",
              "    <tr>\n",
              "      <th>17</th>\n",
              "      <td>previous_cancellations</td>\n",
              "      <td>1.000000</td>\n",
              "    </tr>\n",
              "    <tr>\n",
              "      <th>18</th>\n",
              "      <td>previous_bookings_not_canceled</td>\n",
              "      <td>1.000000</td>\n",
              "    </tr>\n",
              "    <tr>\n",
              "      <th>19</th>\n",
              "      <td>reserved_room_type</td>\n",
              "      <td>1.000000</td>\n",
              "    </tr>\n",
              "    <tr>\n",
              "      <th>20</th>\n",
              "      <td>assigned_room_type</td>\n",
              "      <td>1.000000</td>\n",
              "    </tr>\n",
              "    <tr>\n",
              "      <th>21</th>\n",
              "      <td>booking_changes</td>\n",
              "      <td>1.000000</td>\n",
              "    </tr>\n",
              "    <tr>\n",
              "      <th>22</th>\n",
              "      <td>deposit_type</td>\n",
              "      <td>1.000000</td>\n",
              "    </tr>\n",
              "    <tr>\n",
              "      <th>23</th>\n",
              "      <td>agent</td>\n",
              "      <td>0.863138</td>\n",
              "    </tr>\n",
              "    <tr>\n",
              "      <th>24</th>\n",
              "      <td>company</td>\n",
              "      <td>0.056931</td>\n",
              "    </tr>\n",
              "    <tr>\n",
              "      <th>25</th>\n",
              "      <td>days_in_waiting_list</td>\n",
              "      <td>1.000000</td>\n",
              "    </tr>\n",
              "    <tr>\n",
              "      <th>26</th>\n",
              "      <td>customer_type</td>\n",
              "      <td>1.000000</td>\n",
              "    </tr>\n",
              "    <tr>\n",
              "      <th>27</th>\n",
              "      <td>adr</td>\n",
              "      <td>1.000000</td>\n",
              "    </tr>\n",
              "    <tr>\n",
              "      <th>28</th>\n",
              "      <td>required_car_parking_spaces</td>\n",
              "      <td>1.000000</td>\n",
              "    </tr>\n",
              "    <tr>\n",
              "      <th>29</th>\n",
              "      <td>total_of_special_requests</td>\n",
              "      <td>1.000000</td>\n",
              "    </tr>\n",
              "    <tr>\n",
              "      <th>30</th>\n",
              "      <td>reservation_status</td>\n",
              "      <td>1.000000</td>\n",
              "    </tr>\n",
              "    <tr>\n",
              "      <th>31</th>\n",
              "      <td>reservation_status_date</td>\n",
              "      <td>1.000000</td>\n",
              "    </tr>\n",
              "    <tr>\n",
              "      <th>32</th>\n",
              "      <td>name</td>\n",
              "      <td>1.000000</td>\n",
              "    </tr>\n",
              "    <tr>\n",
              "      <th>33</th>\n",
              "      <td>email</td>\n",
              "      <td>1.000000</td>\n",
              "    </tr>\n",
              "    <tr>\n",
              "      <th>34</th>\n",
              "      <td>phone-number</td>\n",
              "      <td>1.000000</td>\n",
              "    </tr>\n",
              "    <tr>\n",
              "      <th>35</th>\n",
              "      <td>credit_card</td>\n",
              "      <td>1.000000</td>\n",
              "    </tr>\n",
              "  </tbody>\n",
              "</table>\n",
              "</div>"
            ],
            "text/plain": [
              "                          Columnas         %\n",
              "0                            hotel  1.000000\n",
              "1                      is_canceled  1.000000\n",
              "2                        lead_time  1.000000\n",
              "3                arrival_date_year  1.000000\n",
              "4               arrival_date_month  1.000000\n",
              "5         arrival_date_week_number  1.000000\n",
              "6        arrival_date_day_of_month  1.000000\n",
              "7          stays_in_weekend_nights  1.000000\n",
              "8             stays_in_week_nights  1.000000\n",
              "9                           adults  1.000000\n",
              "10                        children  0.999966\n",
              "11                          babies  1.000000\n",
              "12                            meal  1.000000\n",
              "13                         country  1.000000\n",
              "14                  market_segment  1.000000\n",
              "15            distribution_channel  1.000000\n",
              "16               is_repeated_guest  1.000000\n",
              "17          previous_cancellations  1.000000\n",
              "18  previous_bookings_not_canceled  1.000000\n",
              "19              reserved_room_type  1.000000\n",
              "20              assigned_room_type  1.000000\n",
              "21                 booking_changes  1.000000\n",
              "22                    deposit_type  1.000000\n",
              "23                           agent  0.863138\n",
              "24                         company  0.056931\n",
              "25            days_in_waiting_list  1.000000\n",
              "26                   customer_type  1.000000\n",
              "27                             adr  1.000000\n",
              "28     required_car_parking_spaces  1.000000\n",
              "29       total_of_special_requests  1.000000\n",
              "30              reservation_status  1.000000\n",
              "31         reservation_status_date  1.000000\n",
              "32                            name  1.000000\n",
              "33                           email  1.000000\n",
              "34                    phone-number  1.000000\n",
              "35                     credit_card  1.000000"
            ]
          },
          "execution_count": 13,
          "metadata": {},
          "output_type": "execute_result"
        }
      ],
      "source": [
        "pc=[(x, len(df[x].dropna())/len(df)) for x in df.columns]\n",
        "pd.DataFrame(pc, columns=['Columnas', '%'])"
      ]
    },
    {
      "cell_type": "code",
      "execution_count": null,
      "id": "b33738ef",
      "metadata": {
        "id": "b33738ef",
        "outputId": "8e09a0c4-7209-4d73-8af9-e464b7360d5d"
      },
      "outputs": [
        {
          "data": {
            "text/plain": [
              "<AxesSubplot:>"
            ]
          },
          "execution_count": 14,
          "metadata": {},
          "output_type": "execute_result"
        },
        {
          "data": {
            "image/png": "[encoded data removed]",
            "text/plain": [
              "<Figure size 1800x720 with 2 Axes>"
            ]
          },
          "metadata": {
            "needs_background": "light"
          },
          "output_type": "display_data"
        }
      ],
      "source": [
        "msno.matrix(df)"
      ]
    },
    {
      "cell_type": "code",
      "execution_count": null,
      "id": "db67e955",
      "metadata": {
        "id": "db67e955"
      },
      "outputs": [],
      "source": [
        "# Remover la columna company ya que está prácticamente vacía.\n",
        "df.drop(columns=['company'], inplace = True)"
      ]
    },
    {
      "cell_type": "code",
      "execution_count": null,
      "id": "58bbc11e",
      "metadata": {
        "id": "58bbc11e",
        "outputId": "0c647ad2-cdc9-4111-d157-cc46b4610c7f"
      },
      "outputs": [
        {
          "data": {
            "text/html": [
              "<div>\n",
              "<style scoped>\n",
              "    .dataframe tbody tr th:only-of-type {\n",
              "        vertical-align: middle;\n",
              "    }\n",
              "\n",
              "    .dataframe tbody tr th {\n",
              "        vertical-align: top;\n",
              "    }\n",
              "\n",
              "    .dataframe thead th {\n",
              "        text-align: right;\n",
              "    }\n",
              "</style>\n",
              "<table border=\"1\" class=\"dataframe\">\n",
              "  <thead>\n",
              "    <tr style=\"text-align: right;\">\n",
              "      <th></th>\n",
              "      <th>hotel</th>\n",
              "      <th>is_canceled</th>\n",
              "      <th>lead_time</th>\n",
              "      <th>arrival_date_year</th>\n",
              "      <th>arrival_date_month</th>\n",
              "      <th>arrival_date_week_number</th>\n",
              "      <th>arrival_date_day_of_month</th>\n",
              "      <th>stays_in_weekend_nights</th>\n",
              "      <th>stays_in_week_nights</th>\n",
              "      <th>adults</th>\n",
              "      <th>children</th>\n",
              "      <th>babies</th>\n",
              "      <th>meal</th>\n",
              "      <th>country</th>\n",
              "      <th>market_segment</th>\n",
              "      <th>distribution_channel</th>\n",
              "      <th>is_repeated_guest</th>\n",
              "      <th>previous_cancellations</th>\n",
              "      <th>previous_bookings_not_canceled</th>\n",
              "      <th>reserved_room_type</th>\n",
              "      <th>assigned_room_type</th>\n",
              "      <th>booking_changes</th>\n",
              "      <th>deposit_type</th>\n",
              "      <th>agent</th>\n",
              "      <th>days_in_waiting_list</th>\n",
              "      <th>customer_type</th>\n",
              "      <th>adr</th>\n",
              "      <th>required_car_parking_spaces</th>\n",
              "      <th>total_of_special_requests</th>\n",
              "      <th>reservation_status</th>\n",
              "      <th>reservation_status_date</th>\n",
              "      <th>name</th>\n",
              "      <th>email</th>\n",
              "      <th>phone-number</th>\n",
              "      <th>credit_card</th>\n",
              "    </tr>\n",
              "  </thead>\n",
              "  <tbody>\n",
              "    <tr>\n",
              "      <th>0</th>\n",
              "      <td>Resort Hotel</td>\n",
              "      <td>0</td>\n",
              "      <td>342</td>\n",
              "      <td>2015</td>\n",
              "      <td>July</td>\n",
              "      <td>27</td>\n",
              "      <td>1</td>\n",
              "      <td>0</td>\n",
              "      <td>0</td>\n",
              "      <td>2</td>\n",
              "      <td>0.0</td>\n",
              "      <td>0</td>\n",
              "      <td>BB</td>\n",
              "      <td>PRT</td>\n",
              "      <td>Direct</td>\n",
              "      <td>Direct</td>\n",
              "      <td>0</td>\n",
              "      <td>0</td>\n",
              "      <td>0</td>\n",
              "      <td>C</td>\n",
              "      <td>C</td>\n",
              "      <td>3</td>\n",
              "      <td>No Deposit</td>\n",
              "      <td>NaN</td>\n",
              "      <td>0</td>\n",
              "      <td>Transient</td>\n",
              "      <td>0.0</td>\n",
              "      <td>0</td>\n",
              "      <td>0</td>\n",
              "      <td>Check-Out</td>\n",
              "      <td>2015-07-01</td>\n",
              "      <td>Ernest Barnes</td>\n",
              "      <td>Ernest.Barnes31@outlook.com</td>\n",
              "      <td>669-792-1661</td>\n",
              "      <td>************4322</td>\n",
              "    </tr>\n",
              "    <tr>\n",
              "      <th>1</th>\n",
              "      <td>Resort Hotel</td>\n",
              "      <td>0</td>\n",
              "      <td>737</td>\n",
              "      <td>2015</td>\n",
              "      <td>July</td>\n",
              "      <td>27</td>\n",
              "      <td>1</td>\n",
              "      <td>0</td>\n",
              "      <td>0</td>\n",
              "      <td>2</td>\n",
              "      <td>0.0</td>\n",
              "      <td>0</td>\n",
              "      <td>BB</td>\n",
              "      <td>PRT</td>\n",
              "      <td>Direct</td>\n",
              "      <td>Direct</td>\n",
              "      <td>0</td>\n",
              "      <td>0</td>\n",
              "      <td>0</td>\n",
              "      <td>C</td>\n",
              "      <td>C</td>\n",
              "      <td>4</td>\n",
              "      <td>No Deposit</td>\n",
              "      <td>NaN</td>\n",
              "      <td>0</td>\n",
              "      <td>Transient</td>\n",
              "      <td>0.0</td>\n",
              "      <td>0</td>\n",
              "      <td>0</td>\n",
              "      <td>Check-Out</td>\n",
              "      <td>2015-07-01</td>\n",
              "      <td>Andrea Baker</td>\n",
              "      <td>Andrea_Baker94@aol.com</td>\n",
              "      <td>858-637-6955</td>\n",
              "      <td>************9157</td>\n",
              "    </tr>\n",
              "    <tr>\n",
              "      <th>2</th>\n",
              "      <td>Resort Hotel</td>\n",
              "      <td>0</td>\n",
              "      <td>7</td>\n",
              "      <td>2015</td>\n",
              "      <td>July</td>\n",
              "      <td>27</td>\n",
              "      <td>1</td>\n",
              "      <td>0</td>\n",
              "      <td>1</td>\n",
              "      <td>1</td>\n",
              "      <td>0.0</td>\n",
              "      <td>0</td>\n",
              "      <td>BB</td>\n",
              "      <td>GBR</td>\n",
              "      <td>Direct</td>\n",
              "      <td>Direct</td>\n",
              "      <td>0</td>\n",
              "      <td>0</td>\n",
              "      <td>0</td>\n",
              "      <td>A</td>\n",
              "      <td>C</td>\n",
              "      <td>0</td>\n",
              "      <td>No Deposit</td>\n",
              "      <td>NaN</td>\n",
              "      <td>0</td>\n",
              "      <td>Transient</td>\n",
              "      <td>75.0</td>\n",
              "      <td>0</td>\n",
              "      <td>0</td>\n",
              "      <td>Check-Out</td>\n",
              "      <td>2015-07-02</td>\n",
              "      <td>Rebecca Parker</td>\n",
              "      <td>Rebecca_Parker@comcast.net</td>\n",
              "      <td>652-885-2745</td>\n",
              "      <td>************3734</td>\n",
              "    </tr>\n",
              "    <tr>\n",
              "      <th>3</th>\n",
              "      <td>Resort Hotel</td>\n",
              "      <td>0</td>\n",
              "      <td>13</td>\n",
              "      <td>2015</td>\n",
              "      <td>July</td>\n",
              "      <td>27</td>\n",
              "      <td>1</td>\n",
              "      <td>0</td>\n",
              "      <td>1</td>\n",
              "      <td>1</td>\n",
              "      <td>0.0</td>\n",
              "      <td>0</td>\n",
              "      <td>BB</td>\n",
              "      <td>GBR</td>\n",
              "      <td>Corporate</td>\n",
              "      <td>Corporate</td>\n",
              "      <td>0</td>\n",
              "      <td>0</td>\n",
              "      <td>0</td>\n",
              "      <td>A</td>\n",
              "      <td>A</td>\n",
              "      <td>0</td>\n",
              "      <td>No Deposit</td>\n",
              "      <td>304.0</td>\n",
              "      <td>0</td>\n",
              "      <td>Transient</td>\n",
              "      <td>75.0</td>\n",
              "      <td>0</td>\n",
              "      <td>0</td>\n",
              "      <td>Check-Out</td>\n",
              "      <td>2015-07-02</td>\n",
              "      <td>Laura Murray</td>\n",
              "      <td>Laura_M@gmail.com</td>\n",
              "      <td>364-656-8427</td>\n",
              "      <td>************5677</td>\n",
              "    </tr>\n",
              "    <tr>\n",
              "      <th>4</th>\n",
              "      <td>Resort Hotel</td>\n",
              "      <td>0</td>\n",
              "      <td>14</td>\n",
              "      <td>2015</td>\n",
              "      <td>July</td>\n",
              "      <td>27</td>\n",
              "      <td>1</td>\n",
              "      <td>0</td>\n",
              "      <td>2</td>\n",
              "      <td>2</td>\n",
              "      <td>0.0</td>\n",
              "      <td>0</td>\n",
              "      <td>BB</td>\n",
              "      <td>GBR</td>\n",
              "      <td>Online TA</td>\n",
              "      <td>TA/TO</td>\n",
              "      <td>0</td>\n",
              "      <td>0</td>\n",
              "      <td>0</td>\n",
              "      <td>A</td>\n",
              "      <td>A</td>\n",
              "      <td>0</td>\n",
              "      <td>No Deposit</td>\n",
              "      <td>240.0</td>\n",
              "      <td>0</td>\n",
              "      <td>Transient</td>\n",
              "      <td>98.0</td>\n",
              "      <td>0</td>\n",
              "      <td>1</td>\n",
              "      <td>Check-Out</td>\n",
              "      <td>2015-07-03</td>\n",
              "      <td>Linda Hines</td>\n",
              "      <td>LHines@verizon.com</td>\n",
              "      <td>713-226-5883</td>\n",
              "      <td>************5498</td>\n",
              "    </tr>\n",
              "  </tbody>\n",
              "</table>\n",
              "</div>"
            ],
            "text/plain": [
              "          hotel  is_canceled  lead_time  arrival_date_year arrival_date_month  \\\n",
              "0  Resort Hotel            0        342               2015               July   \n",
              "1  Resort Hotel            0        737               2015               July   \n",
              "2  Resort Hotel            0          7               2015               July   \n",
              "3  Resort Hotel            0         13               2015               July   \n",
              "4  Resort Hotel            0         14               2015               July   \n",
              "\n",
              "   arrival_date_week_number  arrival_date_day_of_month  \\\n",
              "0                        27                          1   \n",
              "1                        27                          1   \n",
              "2                        27                          1   \n",
              "3                        27                          1   \n",
              "4                        27                          1   \n",
              "\n",
              "   stays_in_weekend_nights  stays_in_week_nights  adults  children  babies  \\\n",
              "0                        0                     0       2       0.0       0   \n",
              "1                        0                     0       2       0.0       0   \n",
              "2                        0                     1       1       0.0       0   \n",
              "3                        0                     1       1       0.0       0   \n",
              "4                        0                     2       2       0.0       0   \n",
              "\n",
              "  meal country market_segment distribution_channel  is_repeated_guest  \\\n",
              "0   BB     PRT         Direct               Direct                  0   \n",
              "1   BB     PRT         Direct               Direct                  0   \n",
              "2   BB     GBR         Direct               Direct                  0   \n",
              "3   BB     GBR      Corporate            Corporate                  0   \n",
              "4   BB     GBR      Online TA                TA/TO                  0   \n",
              "\n",
              "   previous_cancellations  previous_bookings_not_canceled reserved_room_type  \\\n",
              "0                       0                               0                  C   \n",
              "1                       0                               0                  C   \n",
              "2                       0                               0                  A   \n",
              "3                       0                               0                  A   \n",
              "4                       0                               0                  A   \n",
              "\n",
              "  assigned_room_type  booking_changes deposit_type  agent  \\\n",
              "0                  C                3   No Deposit    NaN   \n",
              "1                  C                4   No Deposit    NaN   \n",
              "2                  C                0   No Deposit    NaN   \n",
              "3                  A                0   No Deposit  304.0   \n",
              "4                  A                0   No Deposit  240.0   \n",
              "\n",
              "   days_in_waiting_list customer_type   adr  required_car_parking_spaces  \\\n",
              "0                     0     Transient   0.0                            0   \n",
              "1                     0     Transient   0.0                            0   \n",
              "2                     0     Transient  75.0                            0   \n",
              "3                     0     Transient  75.0                            0   \n",
              "4                     0     Transient  98.0                            0   \n",
              "\n",
              "   total_of_special_requests reservation_status reservation_status_date  \\\n",
              "0                          0          Check-Out              2015-07-01   \n",
              "1                          0          Check-Out              2015-07-01   \n",
              "2                          0          Check-Out              2015-07-02   \n",
              "3                          0          Check-Out              2015-07-02   \n",
              "4                          1          Check-Out              2015-07-03   \n",
              "\n",
              "             name                        email  phone-number       credit_card  \n",
              "0   Ernest Barnes  Ernest.Barnes31@outlook.com  669-792-1661  ************4322  \n",
              "1    Andrea Baker       Andrea_Baker94@aol.com  858-637-6955  ************9157  \n",
              "2  Rebecca Parker   Rebecca_Parker@comcast.net  652-885-2745  ************3734  \n",
              "3    Laura Murray            Laura_M@gmail.com  364-656-8427  ************5677  \n",
              "4     Linda Hines           LHines@verizon.com  713-226-5883  ************5498  "
            ]
          },
          "execution_count": 16,
          "metadata": {},
          "output_type": "execute_result"
        }
      ],
      "source": [
        "df.head()"
      ]
    },
    {
      "cell_type": "code",
      "execution_count": null,
      "id": "e6a6743c",
      "metadata": {
        "id": "e6a6743c",
        "outputId": "fc78fb18-9c8a-436b-a97f-3a036e8d1040"
      },
      "outputs": [
        {
          "data": {
            "text/plain": [
              "0.0     110796\n",
              "1.0       4861\n",
              "2.0       3652\n",
              "3.0         76\n",
              "10.0         1\n",
              "Name: children, dtype: int64"
            ]
          },
          "execution_count": 17,
          "metadata": {},
          "output_type": "execute_result"
        }
      ],
      "source": [
        "# La variable 'children' debe ser integer.\n",
        "df['children'].value_counts()"
      ]
    },
    {
      "cell_type": "code",
      "execution_count": null,
      "id": "39447ea4",
      "metadata": {
        "id": "39447ea4",
        "outputId": "e41cfa2c-ea90-4163-b782-f19c233fd7e6"
      },
      "outputs": [
        {
          "data": {
            "text/plain": [
              "4"
            ]
          },
          "execution_count": 18,
          "metadata": {},
          "output_type": "execute_result"
        }
      ],
      "source": [
        "# Se remueven los NaNs para transformarla de float a int.\n",
        "df['children'].isna().sum()\n"
      ]
    },
    {
      "cell_type": "code",
      "execution_count": null,
      "id": "18fe6bba",
      "metadata": {
        "id": "18fe6bba"
      },
      "outputs": [],
      "source": [
        "df=df.dropna(subset=['children'])"
      ]
    },
    {
      "cell_type": "code",
      "execution_count": null,
      "id": "915c0d32",
      "metadata": {
        "id": "915c0d32",
        "outputId": "f5d0a668-18bb-4a0f-fd98-cb677a515d85"
      },
      "outputs": [
        {
          "data": {
            "text/plain": [
              "119386"
            ]
          },
          "execution_count": 20,
          "metadata": {},
          "output_type": "execute_result"
        }
      ],
      "source": [
        "len(df)"
      ]
    },
    {
      "cell_type": "code",
      "execution_count": null,
      "id": "6345d99f",
      "metadata": {
        "id": "6345d99f",
        "outputId": "b96d0e11-4cd3-4c9e-8c3e-ffc113ae16ad"
      },
      "outputs": [
        {
          "data": {
            "text/plain": [
              "0"
            ]
          },
          "execution_count": 21,
          "metadata": {},
          "output_type": "execute_result"
        }
      ],
      "source": [
        "df['children'].isna().sum()"
      ]
    },
    {
      "cell_type": "code",
      "execution_count": null,
      "id": "63e088dc",
      "metadata": {
        "id": "63e088dc"
      },
      "outputs": [],
      "source": [
        "df['children'] = df['children'].astype(int)"
      ]
    },
    {
      "cell_type": "code",
      "execution_count": null,
      "id": "e350d19d",
      "metadata": {
        "id": "e350d19d",
        "outputId": "13330057-a03d-40ac-b37b-15da9a768ddc"
      },
      "outputs": [
        {
          "data": {
            "text/plain": [
              "0     110796\n",
              "1       4861\n",
              "2       3652\n",
              "3         76\n",
              "10         1\n",
              "Name: children, dtype: int64"
            ]
          },
          "execution_count": 23,
          "metadata": {},
          "output_type": "execute_result"
        }
      ],
      "source": [
        "df['children'].value_counts()"
      ]
    },
    {
      "cell_type": "code",
      "execution_count": null,
      "id": "31e21b78",
      "metadata": {
        "id": "31e21b78"
      },
      "outputs": [],
      "source": [
        "# La variable agent se tranforma en str."
      ]
    },
    {
      "cell_type": "code",
      "execution_count": null,
      "id": "c22134ed",
      "metadata": {
        "id": "c22134ed",
        "outputId": "0c3456f4-fb97-43b9-83c2-db7298012e3e"
      },
      "outputs": [
        {
          "data": {
            "text/plain": [
              "0           NaN\n",
              "1           NaN\n",
              "2           NaN\n",
              "3         304.0\n",
              "4         240.0\n",
              "          ...  \n",
              "119385    394.0\n",
              "119386      9.0\n",
              "119387      9.0\n",
              "119388     89.0\n",
              "119389      9.0\n",
              "Name: agent, Length: 119386, dtype: float64"
            ]
          },
          "execution_count": 25,
          "metadata": {},
          "output_type": "execute_result"
        }
      ],
      "source": [
        "df['agent']"
      ]
    },
    {
      "cell_type": "code",
      "execution_count": null,
      "id": "b3975d19",
      "metadata": {
        "id": "b3975d19",
        "outputId": "bf7896d0-8beb-4e42-8899-97ae24caa5a5"
      },
      "outputs": [
        {
          "data": {
            "text/plain": [
              "16338"
            ]
          },
          "execution_count": 26,
          "metadata": {},
          "output_type": "execute_result"
        }
      ],
      "source": [
        "df['agent'].isna().sum()"
      ]
    },
    {
      "cell_type": "code",
      "execution_count": null,
      "id": "14f5324b",
      "metadata": {
        "id": "14f5324b",
        "outputId": "d208477c-3e32-4b93-86c8-223fdf645cdc"
      },
      "outputs": [
        {
          "data": {
            "text/plain": [
              "[float]"
            ]
          },
          "execution_count": 27,
          "metadata": {},
          "output_type": "execute_result"
        }
      ],
      "source": [
        "df['agent'].map(type).unique().tolist()"
      ]
    },
    {
      "cell_type": "code",
      "execution_count": null,
      "id": "e8ae2444",
      "metadata": {
        "id": "e8ae2444"
      },
      "outputs": [],
      "source": [
        "df['agent'] = df['agent'].astype(str)"
      ]
    },
    {
      "cell_type": "code",
      "execution_count": null,
      "id": "4781e512",
      "metadata": {
        "id": "4781e512",
        "outputId": "12618cf0-ff1c-429f-d1ed-ae8b9000773a"
      },
      "outputs": [
        {
          "data": {
            "text/plain": [
              "0           nan\n",
              "1           nan\n",
              "2           nan\n",
              "3         304.0\n",
              "4         240.0\n",
              "          ...  \n",
              "119385    394.0\n",
              "119386      9.0\n",
              "119387      9.0\n",
              "119388     89.0\n",
              "119389      9.0\n",
              "Name: agent, Length: 119386, dtype: object"
            ]
          },
          "execution_count": 29,
          "metadata": {},
          "output_type": "execute_result"
        }
      ],
      "source": [
        "df['agent']"
      ]
    },
    {
      "cell_type": "code",
      "execution_count": null,
      "id": "67095b99",
      "metadata": {
        "id": "67095b99"
      },
      "outputs": [],
      "source": [
        "# Remover la parte decimal."
      ]
    },
    {
      "cell_type": "code",
      "execution_count": null,
      "id": "3e756a25",
      "metadata": {
        "id": "3e756a25"
      },
      "outputs": [],
      "source": [
        "df['agent'] = df['agent'].map( lambda x: x[:-2] if x !='nan' else x )"
      ]
    },
    {
      "cell_type": "code",
      "execution_count": null,
      "id": "51af48d6",
      "metadata": {
        "id": "51af48d6"
      },
      "outputs": [],
      "source": [
        "# Reemplazar los nan por NAN."
      ]
    },
    {
      "cell_type": "code",
      "execution_count": null,
      "id": "d7d9e503",
      "metadata": {
        "id": "d7d9e503"
      },
      "outputs": [],
      "source": [
        "df.replace('nan', np.nan, inplace=True)"
      ]
    },
    {
      "cell_type": "code",
      "execution_count": null,
      "id": "838117d6",
      "metadata": {
        "id": "838117d6",
        "outputId": "15175fdd-129a-4959-9866-c46e4ae1842e"
      },
      "outputs": [
        {
          "data": {
            "text/plain": [
              "0         NaN\n",
              "1         NaN\n",
              "2         NaN\n",
              "3         304\n",
              "4         240\n",
              "         ... \n",
              "119385    394\n",
              "119386      9\n",
              "119387      9\n",
              "119388     89\n",
              "119389      9\n",
              "Name: agent, Length: 119386, dtype: object"
            ]
          },
          "execution_count": 34,
          "metadata": {},
          "output_type": "execute_result"
        }
      ],
      "source": [
        "df['agent']"
      ]
    },
    {
      "cell_type": "code",
      "execution_count": null,
      "id": "e79a5798",
      "metadata": {
        "id": "e79a5798",
        "outputId": "c13a85e6-b878-4c6c-85b7-c5f855110f28"
      },
      "outputs": [
        {
          "name": "stdout",
          "output_type": "stream",
          "text": [
            "hotel [<class 'str'>] \n",
            "\n",
            "is_canceled [<class 'int'>] \n",
            "\n",
            "lead_time [<class 'int'>] \n",
            "\n",
            "arrival_date_year [<class 'int'>] \n",
            "\n",
            "arrival_date_month [<class 'str'>] \n",
            "\n",
            "arrival_date_week_number [<class 'int'>] \n",
            "\n",
            "arrival_date_day_of_month [<class 'int'>] \n",
            "\n",
            "stays_in_weekend_nights [<class 'int'>] \n",
            "\n",
            "stays_in_week_nights [<class 'int'>] \n",
            "\n",
            "adults [<class 'int'>] \n",
            "\n",
            "children [<class 'int'>] \n",
            "\n",
            "babies [<class 'int'>] \n",
            "\n",
            "meal [<class 'str'>] \n",
            "\n",
            "country [<class 'str'>, <class 'float'>] \n",
            "\n",
            "market_segment [<class 'str'>] \n",
            "\n",
            "distribution_channel [<class 'str'>] \n",
            "\n",
            "is_repeated_guest [<class 'int'>] \n",
            "\n",
            "previous_cancellations [<class 'int'>] \n",
            "\n",
            "previous_bookings_not_canceled [<class 'int'>] \n",
            "\n",
            "reserved_room_type [<class 'str'>] \n",
            "\n",
            "assigned_room_type [<class 'str'>] \n",
            "\n",
            "booking_changes [<class 'int'>] \n",
            "\n",
            "deposit_type [<class 'str'>] \n",
            "\n",
            "agent [<class 'float'>, <class 'str'>] \n",
            "\n",
            "days_in_waiting_list [<class 'int'>] \n",
            "\n",
            "customer_type [<class 'str'>] \n",
            "\n",
            "adr [<class 'float'>] \n",
            "\n",
            "required_car_parking_spaces [<class 'int'>] \n",
            "\n",
            "total_of_special_requests [<class 'int'>] \n",
            "\n",
            "reservation_status [<class 'str'>] \n",
            "\n",
            "reservation_status_date [<class 'str'>] \n",
            "\n",
            "name [<class 'str'>] \n",
            "\n",
            "email [<class 'str'>] \n",
            "\n",
            "phone-number [<class 'str'>] \n",
            "\n",
            "credit_card [<class 'str'>] \n",
            "\n"
          ]
        }
      ],
      "source": [
        "for d in df.columns:\n",
        "    print( d , df[d].map(type).unique().tolist()  , \"\\n\"*1 )"
      ]
    },
    {
      "cell_type": "markdown",
      "id": "e6857193",
      "metadata": {
        "id": "e6857193"
      },
      "source": [
        "# Análisis Exploratorio"
      ]
    },
    {
      "cell_type": "code",
      "execution_count": null,
      "id": "8857d05b",
      "metadata": {
        "id": "8857d05b",
        "outputId": "5c0a01ca-4c6e-49cf-a187-7466598a033d"
      },
      "outputs": [
        {
          "data": {
            "text/html": [
              "<div>\n",
              "<style scoped>\n",
              "    .dataframe tbody tr th:only-of-type {\n",
              "        vertical-align: middle;\n",
              "    }\n",
              "\n",
              "    .dataframe tbody tr th {\n",
              "        vertical-align: top;\n",
              "    }\n",
              "\n",
              "    .dataframe thead th {\n",
              "        text-align: right;\n",
              "    }\n",
              "</style>\n",
              "<table border=\"1\" class=\"dataframe\">\n",
              "  <thead>\n",
              "    <tr style=\"text-align: right;\">\n",
              "      <th></th>\n",
              "      <th>hotel</th>\n",
              "      <th>is_canceled</th>\n",
              "      <th>lead_time</th>\n",
              "      <th>arrival_date_year</th>\n",
              "      <th>arrival_date_month</th>\n",
              "      <th>arrival_date_week_number</th>\n",
              "      <th>arrival_date_day_of_month</th>\n",
              "      <th>stays_in_weekend_nights</th>\n",
              "      <th>stays_in_week_nights</th>\n",
              "      <th>adults</th>\n",
              "      <th>children</th>\n",
              "      <th>babies</th>\n",
              "      <th>meal</th>\n",
              "      <th>country</th>\n",
              "      <th>market_segment</th>\n",
              "      <th>distribution_channel</th>\n",
              "      <th>is_repeated_guest</th>\n",
              "      <th>previous_cancellations</th>\n",
              "      <th>previous_bookings_not_canceled</th>\n",
              "      <th>reserved_room_type</th>\n",
              "      <th>assigned_room_type</th>\n",
              "      <th>booking_changes</th>\n",
              "      <th>deposit_type</th>\n",
              "      <th>agent</th>\n",
              "      <th>days_in_waiting_list</th>\n",
              "      <th>customer_type</th>\n",
              "      <th>adr</th>\n",
              "      <th>required_car_parking_spaces</th>\n",
              "      <th>total_of_special_requests</th>\n",
              "      <th>reservation_status</th>\n",
              "      <th>reservation_status_date</th>\n",
              "      <th>name</th>\n",
              "      <th>email</th>\n",
              "      <th>phone-number</th>\n",
              "      <th>credit_card</th>\n",
              "    </tr>\n",
              "  </thead>\n",
              "  <tbody>\n",
              "    <tr>\n",
              "      <th>0</th>\n",
              "      <td>Resort Hotel</td>\n",
              "      <td>0</td>\n",
              "      <td>342</td>\n",
              "      <td>2015</td>\n",
              "      <td>July</td>\n",
              "      <td>27</td>\n",
              "      <td>1</td>\n",
              "      <td>0</td>\n",
              "      <td>0</td>\n",
              "      <td>2</td>\n",
              "      <td>0</td>\n",
              "      <td>0</td>\n",
              "      <td>BB</td>\n",
              "      <td>PRT</td>\n",
              "      <td>Direct</td>\n",
              "      <td>Direct</td>\n",
              "      <td>0</td>\n",
              "      <td>0</td>\n",
              "      <td>0</td>\n",
              "      <td>C</td>\n",
              "      <td>C</td>\n",
              "      <td>3</td>\n",
              "      <td>No Deposit</td>\n",
              "      <td>NaN</td>\n",
              "      <td>0</td>\n",
              "      <td>Transient</td>\n",
              "      <td>0.0</td>\n",
              "      <td>0</td>\n",
              "      <td>0</td>\n",
              "      <td>Check-Out</td>\n",
              "      <td>2015-07-01</td>\n",
              "      <td>Ernest Barnes</td>\n",
              "      <td>Ernest.Barnes31@outlook.com</td>\n",
              "      <td>669-792-1661</td>\n",
              "      <td>************4322</td>\n",
              "    </tr>\n",
              "  </tbody>\n",
              "</table>\n",
              "</div>"
            ],
            "text/plain": [
              "          hotel  is_canceled  lead_time  arrival_date_year arrival_date_month  \\\n",
              "0  Resort Hotel            0        342               2015               July   \n",
              "\n",
              "   arrival_date_week_number  arrival_date_day_of_month  \\\n",
              "0                        27                          1   \n",
              "\n",
              "   stays_in_weekend_nights  stays_in_week_nights  adults  children  babies  \\\n",
              "0                        0                     0       2         0       0   \n",
              "\n",
              "  meal country market_segment distribution_channel  is_repeated_guest  \\\n",
              "0   BB     PRT         Direct               Direct                  0   \n",
              "\n",
              "   previous_cancellations  previous_bookings_not_canceled reserved_room_type  \\\n",
              "0                       0                               0                  C   \n",
              "\n",
              "  assigned_room_type  booking_changes deposit_type agent  \\\n",
              "0                  C                3   No Deposit   NaN   \n",
              "\n",
              "   days_in_waiting_list customer_type  adr  required_car_parking_spaces  \\\n",
              "0                     0     Transient  0.0                            0   \n",
              "\n",
              "   total_of_special_requests reservation_status reservation_status_date  \\\n",
              "0                          0          Check-Out              2015-07-01   \n",
              "\n",
              "            name                        email  phone-number       credit_card  \n",
              "0  Ernest Barnes  Ernest.Barnes31@outlook.com  669-792-1661  ************4322  "
            ]
          },
          "execution_count": 36,
          "metadata": {},
          "output_type": "execute_result"
        }
      ],
      "source": [
        "df.head(1)"
      ]
    },
    {
      "cell_type": "code",
      "execution_count": null,
      "id": "f61a5c93",
      "metadata": {
        "id": "f61a5c93",
        "outputId": "b6ccf55f-8a3f-4180-e38c-204340891124"
      },
      "outputs": [
        {
          "data": {
            "text/plain": [
              "119386"
            ]
          },
          "execution_count": 37,
          "metadata": {},
          "output_type": "execute_result"
        }
      ],
      "source": [
        "len(df)"
      ]
    },
    {
      "cell_type": "code",
      "execution_count": null,
      "id": "26824e77",
      "metadata": {
        "scrolled": true,
        "id": "26824e77",
        "outputId": "6acefa01-3531-4cc0-a0f4-86295132c1d1"
      },
      "outputs": [
        {
          "data": {
            "text/plain": [
              "0"
            ]
          },
          "execution_count": 38,
          "metadata": {},
          "output_type": "execute_result"
        }
      ],
      "source": [
        "# No hay registros repetidos\n",
        "df.duplicated().sum()"
      ]
    },
    {
      "cell_type": "code",
      "execution_count": null,
      "id": "4d58ba21",
      "metadata": {
        "id": "4d58ba21"
      },
      "outputs": [],
      "source": [
        "# Se agrega una columna para incorporar un id."
      ]
    },
    {
      "cell_type": "code",
      "execution_count": null,
      "id": "f28ea133",
      "metadata": {
        "id": "f28ea133"
      },
      "outputs": [],
      "source": [
        "df['id'] = df.index + 1"
      ]
    },
    {
      "cell_type": "code",
      "execution_count": null,
      "id": "8560be57",
      "metadata": {
        "id": "8560be57"
      },
      "outputs": [],
      "source": [
        "df = df[ ['id'] + [ col for col in df.columns if col != 'id' ] ]"
      ]
    },
    {
      "cell_type": "code",
      "execution_count": null,
      "id": "b88b3bde",
      "metadata": {
        "id": "b88b3bde",
        "outputId": "023a6143-6194-4413-8a84-59d262690d65"
      },
      "outputs": [
        {
          "data": {
            "text/html": [
              "<div>\n",
              "<style scoped>\n",
              "    .dataframe tbody tr th:only-of-type {\n",
              "        vertical-align: middle;\n",
              "    }\n",
              "\n",
              "    .dataframe tbody tr th {\n",
              "        vertical-align: top;\n",
              "    }\n",
              "\n",
              "    .dataframe thead th {\n",
              "        text-align: right;\n",
              "    }\n",
              "</style>\n",
              "<table border=\"1\" class=\"dataframe\">\n",
              "  <thead>\n",
              "    <tr style=\"text-align: right;\">\n",
              "      <th></th>\n",
              "      <th>id</th>\n",
              "      <th>hotel</th>\n",
              "      <th>is_canceled</th>\n",
              "      <th>lead_time</th>\n",
              "      <th>arrival_date_year</th>\n",
              "      <th>arrival_date_month</th>\n",
              "      <th>arrival_date_week_number</th>\n",
              "      <th>arrival_date_day_of_month</th>\n",
              "      <th>stays_in_weekend_nights</th>\n",
              "      <th>stays_in_week_nights</th>\n",
              "      <th>adults</th>\n",
              "      <th>children</th>\n",
              "      <th>babies</th>\n",
              "      <th>meal</th>\n",
              "      <th>country</th>\n",
              "      <th>market_segment</th>\n",
              "      <th>distribution_channel</th>\n",
              "      <th>is_repeated_guest</th>\n",
              "      <th>previous_cancellations</th>\n",
              "      <th>previous_bookings_not_canceled</th>\n",
              "      <th>reserved_room_type</th>\n",
              "      <th>assigned_room_type</th>\n",
              "      <th>booking_changes</th>\n",
              "      <th>deposit_type</th>\n",
              "      <th>agent</th>\n",
              "      <th>days_in_waiting_list</th>\n",
              "      <th>customer_type</th>\n",
              "      <th>adr</th>\n",
              "      <th>required_car_parking_spaces</th>\n",
              "      <th>total_of_special_requests</th>\n",
              "      <th>reservation_status</th>\n",
              "      <th>reservation_status_date</th>\n",
              "      <th>name</th>\n",
              "      <th>email</th>\n",
              "      <th>phone-number</th>\n",
              "      <th>credit_card</th>\n",
              "    </tr>\n",
              "  </thead>\n",
              "  <tbody>\n",
              "    <tr>\n",
              "      <th>119385</th>\n",
              "      <td>119386</td>\n",
              "      <td>City Hotel</td>\n",
              "      <td>0</td>\n",
              "      <td>23</td>\n",
              "      <td>2017</td>\n",
              "      <td>August</td>\n",
              "      <td>35</td>\n",
              "      <td>30</td>\n",
              "      <td>2</td>\n",
              "      <td>5</td>\n",
              "      <td>2</td>\n",
              "      <td>0</td>\n",
              "      <td>0</td>\n",
              "      <td>BB</td>\n",
              "      <td>BEL</td>\n",
              "      <td>Offline TA/TO</td>\n",
              "      <td>TA/TO</td>\n",
              "      <td>0</td>\n",
              "      <td>0</td>\n",
              "      <td>0</td>\n",
              "      <td>A</td>\n",
              "      <td>A</td>\n",
              "      <td>0</td>\n",
              "      <td>No Deposit</td>\n",
              "      <td>394</td>\n",
              "      <td>0</td>\n",
              "      <td>Transient</td>\n",
              "      <td>96.14</td>\n",
              "      <td>0</td>\n",
              "      <td>0</td>\n",
              "      <td>Check-Out</td>\n",
              "      <td>2017-09-06</td>\n",
              "      <td>Claudia Johnson</td>\n",
              "      <td>Claudia.J@yahoo.com</td>\n",
              "      <td>403-092-5582</td>\n",
              "      <td>************8647</td>\n",
              "    </tr>\n",
              "    <tr>\n",
              "      <th>119386</th>\n",
              "      <td>119387</td>\n",
              "      <td>City Hotel</td>\n",
              "      <td>0</td>\n",
              "      <td>102</td>\n",
              "      <td>2017</td>\n",
              "      <td>August</td>\n",
              "      <td>35</td>\n",
              "      <td>31</td>\n",
              "      <td>2</td>\n",
              "      <td>5</td>\n",
              "      <td>3</td>\n",
              "      <td>0</td>\n",
              "      <td>0</td>\n",
              "      <td>BB</td>\n",
              "      <td>FRA</td>\n",
              "      <td>Online TA</td>\n",
              "      <td>TA/TO</td>\n",
              "      <td>0</td>\n",
              "      <td>0</td>\n",
              "      <td>0</td>\n",
              "      <td>E</td>\n",
              "      <td>E</td>\n",
              "      <td>0</td>\n",
              "      <td>No Deposit</td>\n",
              "      <td>9</td>\n",
              "      <td>0</td>\n",
              "      <td>Transient</td>\n",
              "      <td>225.43</td>\n",
              "      <td>0</td>\n",
              "      <td>2</td>\n",
              "      <td>Check-Out</td>\n",
              "      <td>2017-09-07</td>\n",
              "      <td>Wesley Aguilar</td>\n",
              "      <td>WAguilar@xfinity.com</td>\n",
              "      <td>238-763-0612</td>\n",
              "      <td>************4333</td>\n",
              "    </tr>\n",
              "    <tr>\n",
              "      <th>119387</th>\n",
              "      <td>119388</td>\n",
              "      <td>City Hotel</td>\n",
              "      <td>0</td>\n",
              "      <td>34</td>\n",
              "      <td>2017</td>\n",
              "      <td>August</td>\n",
              "      <td>35</td>\n",
              "      <td>31</td>\n",
              "      <td>2</td>\n",
              "      <td>5</td>\n",
              "      <td>2</td>\n",
              "      <td>0</td>\n",
              "      <td>0</td>\n",
              "      <td>BB</td>\n",
              "      <td>DEU</td>\n",
              "      <td>Online TA</td>\n",
              "      <td>TA/TO</td>\n",
              "      <td>0</td>\n",
              "      <td>0</td>\n",
              "      <td>0</td>\n",
              "      <td>D</td>\n",
              "      <td>D</td>\n",
              "      <td>0</td>\n",
              "      <td>No Deposit</td>\n",
              "      <td>9</td>\n",
              "      <td>0</td>\n",
              "      <td>Transient</td>\n",
              "      <td>157.71</td>\n",
              "      <td>0</td>\n",
              "      <td>4</td>\n",
              "      <td>Check-Out</td>\n",
              "      <td>2017-09-07</td>\n",
              "      <td>Mary Morales</td>\n",
              "      <td>Mary_Morales@hotmail.com</td>\n",
              "      <td>395-518-4100</td>\n",
              "      <td>************1821</td>\n",
              "    </tr>\n",
              "    <tr>\n",
              "      <th>119388</th>\n",
              "      <td>119389</td>\n",
              "      <td>City Hotel</td>\n",
              "      <td>0</td>\n",
              "      <td>109</td>\n",
              "      <td>2017</td>\n",
              "      <td>August</td>\n",
              "      <td>35</td>\n",
              "      <td>31</td>\n",
              "      <td>2</td>\n",
              "      <td>5</td>\n",
              "      <td>2</td>\n",
              "      <td>0</td>\n",
              "      <td>0</td>\n",
              "      <td>BB</td>\n",
              "      <td>GBR</td>\n",
              "      <td>Online TA</td>\n",
              "      <td>TA/TO</td>\n",
              "      <td>0</td>\n",
              "      <td>0</td>\n",
              "      <td>0</td>\n",
              "      <td>A</td>\n",
              "      <td>A</td>\n",
              "      <td>0</td>\n",
              "      <td>No Deposit</td>\n",
              "      <td>89</td>\n",
              "      <td>0</td>\n",
              "      <td>Transient</td>\n",
              "      <td>104.40</td>\n",
              "      <td>0</td>\n",
              "      <td>0</td>\n",
              "      <td>Check-Out</td>\n",
              "      <td>2017-09-07</td>\n",
              "      <td>Caroline Conley MD</td>\n",
              "      <td>MD_Caroline@comcast.net</td>\n",
              "      <td>531-528-1017</td>\n",
              "      <td>************7860</td>\n",
              "    </tr>\n",
              "    <tr>\n",
              "      <th>119389</th>\n",
              "      <td>119390</td>\n",
              "      <td>City Hotel</td>\n",
              "      <td>0</td>\n",
              "      <td>205</td>\n",
              "      <td>2017</td>\n",
              "      <td>August</td>\n",
              "      <td>35</td>\n",
              "      <td>29</td>\n",
              "      <td>2</td>\n",
              "      <td>7</td>\n",
              "      <td>2</td>\n",
              "      <td>0</td>\n",
              "      <td>0</td>\n",
              "      <td>HB</td>\n",
              "      <td>DEU</td>\n",
              "      <td>Online TA</td>\n",
              "      <td>TA/TO</td>\n",
              "      <td>0</td>\n",
              "      <td>0</td>\n",
              "      <td>0</td>\n",
              "      <td>A</td>\n",
              "      <td>A</td>\n",
              "      <td>0</td>\n",
              "      <td>No Deposit</td>\n",
              "      <td>9</td>\n",
              "      <td>0</td>\n",
              "      <td>Transient</td>\n",
              "      <td>151.20</td>\n",
              "      <td>0</td>\n",
              "      <td>2</td>\n",
              "      <td>Check-Out</td>\n",
              "      <td>2017-09-07</td>\n",
              "      <td>Ariana Michael</td>\n",
              "      <td>Ariana_M@xfinity.com</td>\n",
              "      <td>422-804-6403</td>\n",
              "      <td>************4482</td>\n",
              "    </tr>\n",
              "  </tbody>\n",
              "</table>\n",
              "</div>"
            ],
            "text/plain": [
              "            id       hotel  is_canceled  lead_time  arrival_date_year  \\\n",
              "119385  119386  City Hotel            0         23               2017   \n",
              "119386  119387  City Hotel            0        102               2017   \n",
              "119387  119388  City Hotel            0         34               2017   \n",
              "119388  119389  City Hotel            0        109               2017   \n",
              "119389  119390  City Hotel            0        205               2017   \n",
              "\n",
              "       arrival_date_month  arrival_date_week_number  \\\n",
              "119385             August                        35   \n",
              "119386             August                        35   \n",
              "119387             August                        35   \n",
              "119388             August                        35   \n",
              "119389             August                        35   \n",
              "\n",
              "        arrival_date_day_of_month  stays_in_weekend_nights  \\\n",
              "119385                         30                        2   \n",
              "119386                         31                        2   \n",
              "119387                         31                        2   \n",
              "119388                         31                        2   \n",
              "119389                         29                        2   \n",
              "\n",
              "        stays_in_week_nights  adults  children  babies meal country  \\\n",
              "119385                     5       2         0       0   BB     BEL   \n",
              "119386                     5       3         0       0   BB     FRA   \n",
              "119387                     5       2         0       0   BB     DEU   \n",
              "119388                     5       2         0       0   BB     GBR   \n",
              "119389                     7       2         0       0   HB     DEU   \n",
              "\n",
              "       market_segment distribution_channel  is_repeated_guest  \\\n",
              "119385  Offline TA/TO                TA/TO                  0   \n",
              "119386      Online TA                TA/TO                  0   \n",
              "119387      Online TA                TA/TO                  0   \n",
              "119388      Online TA                TA/TO                  0   \n",
              "119389      Online TA                TA/TO                  0   \n",
              "\n",
              "        previous_cancellations  previous_bookings_not_canceled  \\\n",
              "119385                       0                               0   \n",
              "119386                       0                               0   \n",
              "119387                       0                               0   \n",
              "119388                       0                               0   \n",
              "119389                       0                               0   \n",
              "\n",
              "       reserved_room_type assigned_room_type  booking_changes deposit_type  \\\n",
              "119385                  A                  A                0   No Deposit   \n",
              "119386                  E                  E                0   No Deposit   \n",
              "119387                  D                  D                0   No Deposit   \n",
              "119388                  A                  A                0   No Deposit   \n",
              "119389                  A                  A                0   No Deposit   \n",
              "\n",
              "       agent  days_in_waiting_list customer_type     adr  \\\n",
              "119385   394                     0     Transient   96.14   \n",
              "119386     9                     0     Transient  225.43   \n",
              "119387     9                     0     Transient  157.71   \n",
              "119388    89                     0     Transient  104.40   \n",
              "119389     9                     0     Transient  151.20   \n",
              "\n",
              "        required_car_parking_spaces  total_of_special_requests  \\\n",
              "119385                            0                          0   \n",
              "119386                            0                          2   \n",
              "119387                            0                          4   \n",
              "119388                            0                          0   \n",
              "119389                            0                          2   \n",
              "\n",
              "       reservation_status reservation_status_date                name  \\\n",
              "119385          Check-Out              2017-09-06     Claudia Johnson   \n",
              "119386          Check-Out              2017-09-07      Wesley Aguilar   \n",
              "119387          Check-Out              2017-09-07        Mary Morales   \n",
              "119388          Check-Out              2017-09-07  Caroline Conley MD   \n",
              "119389          Check-Out              2017-09-07      Ariana Michael   \n",
              "\n",
              "                           email  phone-number       credit_card  \n",
              "119385       Claudia.J@yahoo.com  403-092-5582  ************8647  \n",
              "119386      WAguilar@xfinity.com  238-763-0612  ************4333  \n",
              "119387  Mary_Morales@hotmail.com  395-518-4100  ************1821  \n",
              "119388   MD_Caroline@comcast.net  531-528-1017  ************7860  \n",
              "119389      Ariana_M@xfinity.com  422-804-6403  ************4482  "
            ]
          },
          "execution_count": 42,
          "metadata": {},
          "output_type": "execute_result"
        }
      ],
      "source": [
        "df.tail()"
      ]
    },
    {
      "cell_type": "markdown",
      "id": "fa4e8db4",
      "metadata": {
        "id": "fa4e8db4"
      },
      "source": [
        "## Variables"
      ]
    },
    {
      "cell_type": "code",
      "execution_count": null,
      "id": "ea6b947b",
      "metadata": {
        "id": "ea6b947b",
        "outputId": "73fd7c8a-817e-4409-c729-6b3184b59dce"
      },
      "outputs": [
        {
          "data": {
            "text/html": [
              "<div>\n",
              "<style scoped>\n",
              "    .dataframe tbody tr th:only-of-type {\n",
              "        vertical-align: middle;\n",
              "    }\n",
              "\n",
              "    .dataframe tbody tr th {\n",
              "        vertical-align: top;\n",
              "    }\n",
              "\n",
              "    .dataframe thead th {\n",
              "        text-align: right;\n",
              "    }\n",
              "</style>\n",
              "<table border=\"1\" class=\"dataframe\">\n",
              "  <thead>\n",
              "    <tr style=\"text-align: right;\">\n",
              "      <th></th>\n",
              "      <th>id</th>\n",
              "      <th>hotel</th>\n",
              "      <th>is_canceled</th>\n",
              "      <th>lead_time</th>\n",
              "      <th>arrival_date_year</th>\n",
              "      <th>arrival_date_month</th>\n",
              "      <th>arrival_date_week_number</th>\n",
              "      <th>arrival_date_day_of_month</th>\n",
              "      <th>stays_in_weekend_nights</th>\n",
              "      <th>stays_in_week_nights</th>\n",
              "      <th>adults</th>\n",
              "      <th>children</th>\n",
              "      <th>babies</th>\n",
              "      <th>meal</th>\n",
              "      <th>country</th>\n",
              "      <th>market_segment</th>\n",
              "      <th>distribution_channel</th>\n",
              "      <th>is_repeated_guest</th>\n",
              "      <th>previous_cancellations</th>\n",
              "      <th>previous_bookings_not_canceled</th>\n",
              "      <th>reserved_room_type</th>\n",
              "      <th>assigned_room_type</th>\n",
              "      <th>booking_changes</th>\n",
              "      <th>deposit_type</th>\n",
              "      <th>agent</th>\n",
              "      <th>days_in_waiting_list</th>\n",
              "      <th>customer_type</th>\n",
              "      <th>adr</th>\n",
              "      <th>required_car_parking_spaces</th>\n",
              "      <th>total_of_special_requests</th>\n",
              "      <th>reservation_status</th>\n",
              "      <th>reservation_status_date</th>\n",
              "      <th>name</th>\n",
              "      <th>email</th>\n",
              "      <th>phone-number</th>\n",
              "      <th>credit_card</th>\n",
              "    </tr>\n",
              "  </thead>\n",
              "  <tbody>\n",
              "    <tr>\n",
              "      <th>0</th>\n",
              "      <td>1</td>\n",
              "      <td>Resort Hotel</td>\n",
              "      <td>0</td>\n",
              "      <td>342</td>\n",
              "      <td>2015</td>\n",
              "      <td>July</td>\n",
              "      <td>27</td>\n",
              "      <td>1</td>\n",
              "      <td>0</td>\n",
              "      <td>0</td>\n",
              "      <td>2</td>\n",
              "      <td>0</td>\n",
              "      <td>0</td>\n",
              "      <td>BB</td>\n",
              "      <td>PRT</td>\n",
              "      <td>Direct</td>\n",
              "      <td>Direct</td>\n",
              "      <td>0</td>\n",
              "      <td>0</td>\n",
              "      <td>0</td>\n",
              "      <td>C</td>\n",
              "      <td>C</td>\n",
              "      <td>3</td>\n",
              "      <td>No Deposit</td>\n",
              "      <td>NaN</td>\n",
              "      <td>0</td>\n",
              "      <td>Transient</td>\n",
              "      <td>0.0</td>\n",
              "      <td>0</td>\n",
              "      <td>0</td>\n",
              "      <td>Check-Out</td>\n",
              "      <td>2015-07-01</td>\n",
              "      <td>Ernest Barnes</td>\n",
              "      <td>Ernest.Barnes31@outlook.com</td>\n",
              "      <td>669-792-1661</td>\n",
              "      <td>************4322</td>\n",
              "    </tr>\n",
              "  </tbody>\n",
              "</table>\n",
              "</div>"
            ],
            "text/plain": [
              "   id         hotel  is_canceled  lead_time  arrival_date_year  \\\n",
              "0   1  Resort Hotel            0        342               2015   \n",
              "\n",
              "  arrival_date_month  arrival_date_week_number  arrival_date_day_of_month  \\\n",
              "0               July                        27                          1   \n",
              "\n",
              "   stays_in_weekend_nights  stays_in_week_nights  adults  children  babies  \\\n",
              "0                        0                     0       2         0       0   \n",
              "\n",
              "  meal country market_segment distribution_channel  is_repeated_guest  \\\n",
              "0   BB     PRT         Direct               Direct                  0   \n",
              "\n",
              "   previous_cancellations  previous_bookings_not_canceled reserved_room_type  \\\n",
              "0                       0                               0                  C   \n",
              "\n",
              "  assigned_room_type  booking_changes deposit_type agent  \\\n",
              "0                  C                3   No Deposit   NaN   \n",
              "\n",
              "   days_in_waiting_list customer_type  adr  required_car_parking_spaces  \\\n",
              "0                     0     Transient  0.0                            0   \n",
              "\n",
              "   total_of_special_requests reservation_status reservation_status_date  \\\n",
              "0                          0          Check-Out              2015-07-01   \n",
              "\n",
              "            name                        email  phone-number       credit_card  \n",
              "0  Ernest Barnes  Ernest.Barnes31@outlook.com  669-792-1661  ************4322  "
            ]
          },
          "execution_count": 43,
          "metadata": {},
          "output_type": "execute_result"
        }
      ],
      "source": [
        "df.head(1)"
      ]
    },
    {
      "cell_type": "code",
      "execution_count": null,
      "id": "f0791fe9",
      "metadata": {
        "id": "f0791fe9"
      },
      "outputs": [],
      "source": [
        "# Clasificación de variables discretas y continuas."
      ]
    },
    {
      "cell_type": "code",
      "execution_count": null,
      "id": "3404afd4",
      "metadata": {
        "id": "3404afd4"
      },
      "outputs": [],
      "source": [
        "um = ['id']\n",
        "vard = ['hotel', 'arrival_date_year', 'arrival_date_month', 'arrival_date_week_number', 'arrival_date_day_of_month', 'meal', 'country', 'market_segment', 'distribution_channel', 'is_repeated_guest', 'reserved_room_type', 'assigned_room_type', 'deposit_type', 'agent', 'customer_type', 'reservation_status', 'reservation_status_date', 'name', 'email', 'phone-number', 'credit_card']\n",
        "varc = ['lead_time', 'stays_in_weekend_nights', 'stays_in_week_nights', 'adults', 'children', 'babies', 'previous_cancellations', 'previous_bookings_not_canceled', 'booking_changes', 'days_in_waiting_list', 'adr', 'required_car_parking_spaces', 'total_of_special_requests']\n",
        "tgt = ['is_canceled']"
      ]
    },
    {
      "cell_type": "code",
      "execution_count": null,
      "id": "3bf86fc0",
      "metadata": {
        "id": "3bf86fc0",
        "outputId": "54f58ef8-25bd-4d88-92d8-a52b36b47856"
      },
      "outputs": [
        {
          "data": {
            "text/plain": [
              "36"
            ]
          },
          "execution_count": 46,
          "metadata": {},
          "output_type": "execute_result"
        }
      ],
      "source": [
        "len(vard) + len(um) + len(varc) + len(tgt)"
      ]
    },
    {
      "cell_type": "code",
      "execution_count": null,
      "id": "d7c9b73f",
      "metadata": {
        "id": "d7c9b73f",
        "outputId": "4378221b-1907-45a3-a769-c19adb45def7"
      },
      "outputs": [
        {
          "data": {
            "text/plain": [
              "36"
            ]
          },
          "execution_count": 47,
          "metadata": {},
          "output_type": "execute_result"
        }
      ],
      "source": [
        "len(df.columns)"
      ]
    },
    {
      "cell_type": "markdown",
      "id": "b4716f69",
      "metadata": {
        "id": "b4716f69"
      },
      "source": [
        "## Variables Discretas"
      ]
    },
    {
      "cell_type": "markdown",
      "id": "a193a591",
      "metadata": {
        "id": "a193a591"
      },
      "source": [
        "### Reemplazo de NaN por \"SIN CATEGORIA\""
      ]
    },
    {
      "cell_type": "code",
      "execution_count": null,
      "id": "f057434c",
      "metadata": {
        "id": "f057434c"
      },
      "outputs": [],
      "source": [
        "for v in vard:\n",
        "    df[v] = df[v].fillna('SIN CATEGORIA')"
      ]
    },
    {
      "cell_type": "code",
      "execution_count": null,
      "id": "50523654",
      "metadata": {
        "id": "50523654",
        "outputId": "815ba62c-25ce-435a-8a1e-d1c10538f3c6"
      },
      "outputs": [
        {
          "data": {
            "text/plain": [
              "0         SIN CATEGORIA\n",
              "1         SIN CATEGORIA\n",
              "2         SIN CATEGORIA\n",
              "3                   304\n",
              "4                   240\n",
              "              ...      \n",
              "119385              394\n",
              "119386                9\n",
              "119387                9\n",
              "119388               89\n",
              "119389                9\n",
              "Name: agent, Length: 119386, dtype: object"
            ]
          },
          "execution_count": 49,
          "metadata": {},
          "output_type": "execute_result"
        }
      ],
      "source": [
        "df['agent']"
      ]
    },
    {
      "cell_type": "markdown",
      "id": "d42fccdb",
      "metadata": {
        "id": "d42fccdb"
      },
      "source": [
        "### Frecuencias"
      ]
    },
    {
      "cell_type": "code",
      "execution_count": null,
      "id": "3711013d",
      "metadata": {
        "id": "3711013d"
      },
      "outputs": [],
      "source": [
        "def frecuencias(df, var):\n",
        "    if type(var) != list:\n",
        "        var = [var]\n",
        "    for v in var:\n",
        "        aux = df[v].value_counts().to_frame().rename(columns = {v:'FA'})\n",
        "        aux['FR'] = aux['FA']/aux['FA'].sum()\n",
        "        aux[['FAA', 'FRA']] = aux.apply(np.cumsum)\n",
        "        print(f\"Tabla de frecuencias para la variable {v} \\n\")\n",
        "        print(aux, \"\\n\")"
      ]
    },
    {
      "cell_type": "code",
      "execution_count": null,
      "id": "4ce854c3",
      "metadata": {
        "id": "4ce854c3",
        "outputId": "5b5e9842-8747-4c6b-b776-f4723c13454d"
      },
      "outputs": [
        {
          "name": "stdout",
          "output_type": "stream",
          "text": [
            "Tabla de frecuencias para la variable hotel \n",
            "\n",
            "                 FA       FR     FAA      FRA\n",
            "City Hotel    79326  0.66445   79326  0.66445\n",
            "Resort Hotel  40060  0.33555  119386  1.00000 \n",
            "\n",
            "Tabla de frecuencias para la variable arrival_date_year \n",
            "\n",
            "         FA        FR     FAA       FRA\n",
            "2016  56707  0.474989   56707  0.474989\n",
            "2017  40687  0.340802   97394  0.815791\n",
            "2015  21992  0.184209  119386  1.000000 \n",
            "\n",
            "Tabla de frecuencias para la variable arrival_date_month \n",
            "\n",
            "              FA        FR     FAA       FRA\n",
            "August     13873  0.116203   13873  0.116203\n",
            "July       12661  0.106051   26534  0.222254\n",
            "May        11791  0.098764   38325  0.321018\n",
            "October    11160  0.093478   49485  0.414496\n",
            "April      11089  0.092884   60574  0.507379\n",
            "June       10939  0.091627   71513  0.599007\n",
            "September  10508  0.088017   82021  0.687024\n",
            "March       9794  0.082036   91815  0.769060\n",
            "February    8068  0.067579   99883  0.836639\n",
            "November    6794  0.056908  106677  0.893547\n",
            "December    6780  0.056791  113457  0.950338\n",
            "January     5929  0.049662  119386  1.000000 \n",
            "\n",
            "Tabla de frecuencias para la variable arrival_date_week_number \n",
            "\n",
            "      FA        FR     FAA       FRA\n",
            "33  3579  0.029978    3579  0.029978\n",
            "30  3087  0.025857    6666  0.055836\n",
            "32  3042  0.025480    9708  0.081316\n",
            "34  3040  0.025464   12748  0.106780\n",
            "18  2926  0.024509   15674  0.131288\n",
            "21  2854  0.023906   18528  0.155194\n",
            "28  2853  0.023897   21381  0.179091\n",
            "17  2805  0.023495   24186  0.202587\n",
            "20  2785  0.023328   26971  0.225914\n",
            "29  2763  0.023143   29734  0.249058\n",
            "42  2756  0.023085   32490  0.272142\n",
            "31  2741  0.022959   35231  0.295102\n",
            "41  2699  0.022607   37930  0.317709\n",
            "15  2689  0.022524   40619  0.340233\n",
            "27  2664  0.022314   43283  0.362547\n",
            "25  2663  0.022306   45946  0.384852\n",
            "38  2661  0.022289   48607  0.407142\n",
            "23  2621  0.021954   51228  0.429096\n",
            "35  2593  0.021719   53821  0.450815\n",
            "39  2581  0.021619   56402  0.472434\n",
            "22  2546  0.021326   58948  0.493760\n",
            "24  2498  0.020924   61446  0.514683\n",
            "13  2416  0.020237   63862  0.534920\n",
            "16  2405  0.020145   66267  0.555065\n",
            "19  2402  0.020120   68669  0.575185\n",
            "40  2397  0.020078   71066  0.595262\n",
            "26  2391  0.020027   73457  0.615290\n",
            "43  2352  0.019701   75809  0.634991\n",
            "44  2272  0.019031   78081  0.654021\n",
            "14  2264  0.018964   80345  0.672985\n",
            "37  2229  0.018671   82574  0.691656\n",
            "8   2216  0.018562   84790  0.710217\n",
            "36  2167  0.018151   86957  0.728368\n",
            "10  2149  0.018000   89106  0.746369\n",
            "9   2117  0.017732   91223  0.764101\n",
            "7   2109  0.017665   93332  0.781767\n",
            "12  2083  0.017448   95415  0.799214\n",
            "11  2070  0.017339   97485  0.816553\n",
            "45  1941  0.016258   99426  0.832811\n",
            "53  1816  0.015211  101242  0.848022\n",
            "49  1782  0.014926  103024  0.862949\n",
            "47  1685  0.014114  104709  0.877063\n",
            "46  1574  0.013184  106283  0.890247\n",
            "6   1508  0.012631  107791  0.902878\n",
            "50  1505  0.012606  109296  0.915484\n",
            "48  1504  0.012598  110800  0.928082\n",
            "4   1487  0.012455  112287  0.940537\n",
            "5   1387  0.011618  113674  0.952155\n",
            "3   1319  0.011048  114993  0.963203\n",
            "2   1218  0.010202  116211  0.973406\n",
            "52  1195  0.010010  117406  0.983415\n",
            "1   1047  0.008770  118453  0.992185\n",
            "51   933  0.007815  119386  1.000000 \n",
            "\n",
            "Tabla de frecuencias para la variable arrival_date_day_of_month \n",
            "\n",
            "      FA        FR     FAA       FRA\n",
            "17  4406  0.036905    4406  0.036905\n",
            "5   4315  0.036143    8721  0.073049\n",
            "15  4196  0.035146   12917  0.108195\n",
            "25  4160  0.034845   17077  0.143040\n",
            "26  4147  0.034736   21224  0.177776\n",
            "9   4096  0.034309   25320  0.212085\n",
            "12  4087  0.034233   29407  0.246319\n",
            "16  4078  0.034158   33485  0.280477\n",
            "2   4055  0.033965   37540  0.314442\n",
            "19  4052  0.033940   41592  0.348383\n",
            "20  4032  0.033773   45624  0.382155\n",
            "18  4002  0.033522   49626  0.415677\n",
            "24  3993  0.033446   53619  0.449123\n",
            "28  3946  0.033052   57565  0.482175\n",
            "8   3921  0.032843   61486  0.515019\n",
            "3   3854  0.032282   65340  0.547300\n",
            "30  3853  0.032273   69193  0.579574\n",
            "6   3833  0.032106   73026  0.611680\n",
            "14  3819  0.031989   76845  0.643668\n",
            "27  3802  0.031846   80647  0.675515\n",
            "21  3767  0.031553   84414  0.707068\n",
            "4   3763  0.031520   88177  0.738587\n",
            "13  3744  0.031360   91921  0.769948\n",
            "7   3665  0.030699   95586  0.800647\n",
            "1   3626  0.030372   99212  0.831019\n",
            "23  3616  0.030288  102828  0.861307\n",
            "11  3599  0.030146  106427  0.891453\n",
            "22  3596  0.030121  110023  0.921574\n",
            "29  3580  0.029987  113603  0.951560\n",
            "10  3575  0.029945  117178  0.981505\n",
            "31  2208  0.018495  119386  1.000000 \n",
            "\n",
            "Tabla de frecuencias para la variable meal \n",
            "\n",
            "              FA        FR     FAA       FRA\n",
            "BB         92306  0.773173   92306  0.773173\n",
            "HB         14463  0.121145  106769  0.894318\n",
            "SC         10650  0.089206  117419  0.983524\n",
            "Undefined   1169  0.009792  118588  0.993316\n",
            "FB           798  0.006684  119386  1.000000 \n",
            "\n",
            "Tabla de frecuencias para la variable country \n",
            "\n",
            "        FA        FR     FAA       FRA\n",
            "PRT  48586  0.406966   48586  0.406966\n",
            "GBR  12129  0.101595   60715  0.508560\n",
            "FRA  10415  0.087238   71130  0.595799\n",
            "ESP   8568  0.071767   79698  0.667566\n",
            "DEU   7287  0.061037   86985  0.728603\n",
            "..     ...       ...     ...       ...\n",
            "DJI      1  0.000008  119382  0.999966\n",
            "BWA      1  0.000008  119383  0.999975\n",
            "HND      1  0.000008  119384  0.999983\n",
            "VGB      1  0.000008  119385  0.999992\n",
            "NAM      1  0.000008  119386  1.000000\n",
            "\n",
            "[178 rows x 4 columns] \n",
            "\n",
            "Tabla de frecuencias para la variable market_segment \n",
            "\n",
            "                  FA        FR     FAA       FRA\n",
            "Online TA      56476  0.473054   56476  0.473054\n",
            "Offline TA/TO  24219  0.202863   80695  0.675917\n",
            "Groups         19811  0.165941  100506  0.841858\n",
            "Direct         12605  0.105582  113111  0.947439\n",
            "Corporate       5295  0.044352  118406  0.991791\n",
            "Complementary    743  0.006224  119149  0.998015\n",
            "Aviation         237  0.001985  119386  1.000000 \n",
            "\n",
            "Tabla de frecuencias para la variable distribution_channel \n",
            "\n",
            "              FA        FR     FAA       FRA\n",
            "TA/TO      97870  0.819778   97870  0.819778\n",
            "Direct     14645  0.122669  112515  0.942447\n",
            "Corporate   6677  0.055928  119192  0.998375\n",
            "GDS          193  0.001617  119385  0.999992\n",
            "Undefined      1  0.000008  119386  1.000000 \n",
            "\n",
            "Tabla de frecuencias para la variable is_repeated_guest \n",
            "\n",
            "       FA        FR     FAA       FRA\n",
            "0  115576  0.968087  115576  0.968087\n",
            "1    3810  0.031913  119386  1.000000 \n",
            "\n",
            "Tabla de frecuencias para la variable reserved_room_type \n",
            "\n",
            "      FA        FR     FAA       FRA\n",
            "A  85994  0.720302   85994  0.720302\n",
            "D  19201  0.160831  105195  0.881133\n",
            "E   6535  0.054738  111730  0.935872\n",
            "F   2897  0.024266  114627  0.960138\n",
            "G   2094  0.017540  116721  0.977677\n",
            "B   1114  0.009331  117835  0.987009\n",
            "C    932  0.007807  118767  0.994815\n",
            "H    601  0.005034  119368  0.999849\n",
            "P     12  0.000101  119380  0.999950\n",
            "L      6  0.000050  119386  1.000000 \n",
            "\n",
            "Tabla de frecuencias para la variable assigned_room_type \n",
            "\n",
            "      FA        FR     FAA       FRA\n",
            "A  74053  0.620282   74053  0.620282\n",
            "D  25322  0.212102   99375  0.832384\n",
            "E   7806  0.065385  107181  0.897769\n",
            "F   3751  0.031419  110932  0.929188\n",
            "G   2553  0.021384  113485  0.950572\n",
            "C   2375  0.019893  115860  0.970466\n",
            "B   2159  0.018084  118019  0.988550\n",
            "H    712  0.005964  118731  0.994514\n",
            "I    363  0.003041  119094  0.997554\n",
            "K    279  0.002337  119373  0.999891\n",
            "P     12  0.000101  119385  0.999992\n",
            "L      1  0.000008  119386  1.000000 \n",
            "\n",
            "Tabla de frecuencias para la variable deposit_type \n",
            "\n",
            "                FA        FR     FAA       FRA\n",
            "No Deposit  104637  0.876460  104637  0.876460\n",
            "Non Refund   14587  0.122184  119224  0.998643\n",
            "Refundable     162  0.001357  119386  1.000000 \n",
            "\n",
            "Tabla de frecuencias para la variable agent \n",
            "\n",
            "                  FA        FR     FAA       FRA\n",
            "9              31960  0.267703   31960  0.267703\n",
            "SIN CATEGORIA  16338  0.136850   48298  0.404553\n",
            "240            13922  0.116613   62220  0.521167\n",
            "1               7191  0.060233   69411  0.581400\n",
            "14              3639  0.030481   73050  0.611881\n",
            "...              ...       ...     ...       ...\n",
            "280                1  0.000008  119382  0.999966\n",
            "285                1  0.000008  119383  0.999975\n",
            "289                1  0.000008  119384  0.999983\n",
            "265                1  0.000008  119385  0.999992\n",
            "497                1  0.000008  119386  1.000000\n",
            "\n",
            "[334 rows x 4 columns] \n",
            "\n",
            "Tabla de frecuencias para la variable customer_type \n",
            "\n",
            "                    FA        FR     FAA       FRA\n",
            "Transient        89613  0.750616   89613  0.750616\n",
            "Transient-Party  25120  0.210410  114733  0.961026\n",
            "Contract          4076  0.034141  118809  0.995167\n",
            "Group              577  0.004833  119386  1.000000 \n",
            "\n",
            "Tabla de frecuencias para la variable reservation_status \n",
            "\n",
            "              FA        FR     FAA       FRA\n",
            "Check-Out  75166  0.629605   75166  0.629605\n",
            "Canceled   43013  0.360285  118179  0.989890\n",
            "No-Show     1207  0.010110  119386  1.000000 \n",
            "\n",
            "Tabla de frecuencias para la variable reservation_status_date \n",
            "\n",
            "              FA        FR     FAA       FRA\n",
            "2015-10-21  1461  0.012238    1461  0.012238\n",
            "2015-07-06   805  0.006743    2266  0.018980\n",
            "2016-11-25   790  0.006617    3056  0.025598\n",
            "2015-01-01   763  0.006391    3819  0.031989\n",
            "2016-01-18   625  0.005235    4444  0.037224\n",
            "...          ...       ...     ...       ...\n",
            "2015-02-27     1  0.000008  119382  0.999966\n",
            "2015-04-25     1  0.000008  119383  0.999975\n",
            "2015-03-11     1  0.000008  119384  0.999983\n",
            "2015-06-14     1  0.000008  119385  0.999992\n",
            "2015-02-12     1  0.000008  119386  1.000000\n",
            "\n",
            "[926 rows x 4 columns] \n",
            "\n"
          ]
        },
        {
          "name": "stdout",
          "output_type": "stream",
          "text": [
            "Tabla de frecuencias para la variable name \n",
            "\n",
            "                   FA        FR     FAA       FRA\n",
            "Michael Johnson    48  0.000402      48  0.000402\n",
            "Robert Smith       48  0.000402      96  0.000804\n",
            "Michael Smith      47  0.000394     143  0.001198\n",
            "John Smith         46  0.000385     189  0.001583\n",
            "Christopher Smith  44  0.000369     233  0.001952\n",
            "...                ..       ...     ...       ...\n",
            "Jimmy Griffin       1  0.000008  119382  0.999966\n",
            "Colleen Kelly       1  0.000008  119383  0.999975\n",
            "Lucas Young         1  0.000008  119384  0.999983\n",
            "Brendan Martinez    1  0.000008  119385  0.999992\n",
            "Ariana Michael      1  0.000008  119386  1.000000\n",
            "\n",
            "[81501 rows x 4 columns] \n",
            "\n",
            "Tabla de frecuencias para la variable email \n",
            "\n",
            "                               FA        FR     FAA       FRA\n",
            "Michael.C@gmail.com             6  0.000050       6  0.000050\n",
            "David.M@zoho.com                5  0.000042      11  0.000092\n",
            "Ashley_W@yahoo.com              5  0.000042      16  0.000134\n",
            "James.M@mail.com                5  0.000042      21  0.000176\n",
            "JSmith@gmail.com                5  0.000042      26  0.000218\n",
            "...                            ..       ...     ...       ...\n",
            "Carrie_Walker@yahoo.com         1  0.000008  119382  0.999966\n",
            "Hamilton_Willie@mail.com        1  0.000008  119383  0.999975\n",
            "Potter.Charles@protonmail.com   1  0.000008  119384  0.999983\n",
            "Ronald_Wallace@protonmail.com   1  0.000008  119385  0.999992\n",
            "Ariana_M@xfinity.com            1  0.000008  119386  1.000000\n",
            "\n",
            "[115885 rows x 4 columns] \n",
            "\n",
            "Tabla de frecuencias para la variable phone-number \n",
            "\n",
            "              FA        FR     FAA       FRA\n",
            "669-792-1661   1  0.000008       1  0.000008\n",
            "759-544-4151   1  0.000008       2  0.000017\n",
            "158-803-0192   1  0.000008       3  0.000025\n",
            "446-228-8858   1  0.000008       4  0.000034\n",
            "325-224-7726   1  0.000008       5  0.000042\n",
            "...           ..       ...     ...       ...\n",
            "783-942-7089   1  0.000008  119382  0.999966\n",
            "425-944-8128   1  0.000008  119383  0.999975\n",
            "895-951-9632   1  0.000008  119384  0.999983\n",
            "698-892-6790   1  0.000008  119385  0.999992\n",
            "422-804-6403   1  0.000008  119386  1.000000\n",
            "\n",
            "[119386 rows x 4 columns] \n",
            "\n",
            "Tabla de frecuencias para la variable credit_card \n",
            "\n",
            "                  FA        FR     FAA       FRA\n",
            "************4923  28  0.000235      28  0.000235\n",
            "************3627  28  0.000235      56  0.000469\n",
            "************3793  27  0.000226      83  0.000695\n",
            "************9864  27  0.000226     110  0.000921\n",
            "************3972  27  0.000226     137  0.001148\n",
            "...               ..       ...     ...       ...\n",
            "************1462   3  0.000025  119376  0.999916\n",
            "************5337   3  0.000025  119379  0.999941\n",
            "************7959   3  0.000025  119382  0.999966\n",
            "************4916   2  0.000017  119384  0.999983\n",
            "************9283   2  0.000017  119386  1.000000\n",
            "\n",
            "[9000 rows x 4 columns] \n",
            "\n"
          ]
        }
      ],
      "source": [
        "for v in vard:\n",
        "    frecuencias(df,v)"
      ]
    },
    {
      "cell_type": "markdown",
      "id": "93acf048",
      "metadata": {
        "id": "93acf048"
      },
      "source": [
        "### Normalización"
      ]
    },
    {
      "cell_type": "code",
      "execution_count": null,
      "id": "4c335bae",
      "metadata": {
        "id": "4c335bae"
      },
      "outputs": [],
      "source": [
        "def normalizacion(df, v, umbral):\n",
        "\n",
        "    aux = df[v].value_counts(True).to_frame()\n",
        "    aux[f'norm_{v}'] = np.where(aux[v] < umbral , 'CATEG_PEQUENAS', aux.index )\n",
        "    moda = aux.head(1)[f'norm_{v}'].values[0]\n",
        "    if aux.loc[aux[f'norm_{v}'] == 'CATEG_PEQUENAS'][v].sum () < umbral:\n",
        "        aux[f'norm_{v}'].replace({'CATEG_PEQUENAS':moda}, inplace = True)\n",
        "\n",
        "    aux.drop(v, axis=1, inplace=True)\n",
        "    aux.reset_index(inplace=True)\n",
        "\n",
        "    return df.merge(aux, left_on=v, right_on = 'index', how = 'inner').drop('index', axis = 1)"
      ]
    },
    {
      "cell_type": "code",
      "execution_count": null,
      "id": "aed351b1",
      "metadata": {
        "id": "aed351b1"
      },
      "outputs": [],
      "source": [
        "for v in vard:\n",
        "    df = normalizacion(df, v, 0.03)"
      ]
    },
    {
      "cell_type": "code",
      "execution_count": null,
      "id": "fa2a0fb3",
      "metadata": {
        "id": "fa2a0fb3",
        "outputId": "bdd9e21e-d680-4b9c-9b8a-bc81f6936248"
      },
      "outputs": [
        {
          "data": {
            "text/html": [
              "<div>\n",
              "<style scoped>\n",
              "    .dataframe tbody tr th:only-of-type {\n",
              "        vertical-align: middle;\n",
              "    }\n",
              "\n",
              "    .dataframe tbody tr th {\n",
              "        vertical-align: top;\n",
              "    }\n",
              "\n",
              "    .dataframe thead th {\n",
              "        text-align: right;\n",
              "    }\n",
              "</style>\n",
              "<table border=\"1\" class=\"dataframe\">\n",
              "  <thead>\n",
              "    <tr style=\"text-align: right;\">\n",
              "      <th></th>\n",
              "      <th>id</th>\n",
              "      <th>hotel</th>\n",
              "      <th>is_canceled</th>\n",
              "      <th>lead_time</th>\n",
              "      <th>arrival_date_year</th>\n",
              "      <th>arrival_date_month</th>\n",
              "      <th>arrival_date_week_number</th>\n",
              "      <th>arrival_date_day_of_month</th>\n",
              "      <th>stays_in_weekend_nights</th>\n",
              "      <th>stays_in_week_nights</th>\n",
              "      <th>adults</th>\n",
              "      <th>children</th>\n",
              "      <th>babies</th>\n",
              "      <th>meal</th>\n",
              "      <th>country</th>\n",
              "      <th>market_segment</th>\n",
              "      <th>distribution_channel</th>\n",
              "      <th>is_repeated_guest</th>\n",
              "      <th>previous_cancellations</th>\n",
              "      <th>previous_bookings_not_canceled</th>\n",
              "      <th>reserved_room_type</th>\n",
              "      <th>assigned_room_type</th>\n",
              "      <th>booking_changes</th>\n",
              "      <th>deposit_type</th>\n",
              "      <th>agent</th>\n",
              "      <th>days_in_waiting_list</th>\n",
              "      <th>customer_type</th>\n",
              "      <th>adr</th>\n",
              "      <th>required_car_parking_spaces</th>\n",
              "      <th>total_of_special_requests</th>\n",
              "      <th>reservation_status</th>\n",
              "      <th>reservation_status_date</th>\n",
              "      <th>name</th>\n",
              "      <th>email</th>\n",
              "      <th>phone-number</th>\n",
              "      <th>credit_card</th>\n",
              "      <th>norm_hotel</th>\n",
              "      <th>norm_arrival_date_year</th>\n",
              "      <th>norm_arrival_date_month</th>\n",
              "      <th>norm_arrival_date_week_number</th>\n",
              "      <th>norm_arrival_date_day_of_month</th>\n",
              "      <th>norm_meal</th>\n",
              "      <th>norm_country</th>\n",
              "      <th>norm_market_segment</th>\n",
              "      <th>norm_distribution_channel</th>\n",
              "      <th>norm_is_repeated_guest</th>\n",
              "      <th>norm_reserved_room_type</th>\n",
              "      <th>norm_assigned_room_type</th>\n",
              "      <th>norm_deposit_type</th>\n",
              "      <th>norm_agent</th>\n",
              "      <th>norm_customer_type</th>\n",
              "      <th>norm_reservation_status</th>\n",
              "      <th>norm_reservation_status_date</th>\n",
              "      <th>norm_name</th>\n",
              "      <th>norm_email</th>\n",
              "      <th>norm_phone-number</th>\n",
              "      <th>norm_credit_card</th>\n",
              "    </tr>\n",
              "  </thead>\n",
              "  <tbody>\n",
              "    <tr>\n",
              "      <th>0</th>\n",
              "      <td>1</td>\n",
              "      <td>Resort Hotel</td>\n",
              "      <td>0</td>\n",
              "      <td>342</td>\n",
              "      <td>2015</td>\n",
              "      <td>July</td>\n",
              "      <td>27</td>\n",
              "      <td>1</td>\n",
              "      <td>0</td>\n",
              "      <td>0</td>\n",
              "      <td>2</td>\n",
              "      <td>0</td>\n",
              "      <td>0</td>\n",
              "      <td>BB</td>\n",
              "      <td>PRT</td>\n",
              "      <td>Direct</td>\n",
              "      <td>Direct</td>\n",
              "      <td>0</td>\n",
              "      <td>0</td>\n",
              "      <td>0</td>\n",
              "      <td>C</td>\n",
              "      <td>C</td>\n",
              "      <td>3</td>\n",
              "      <td>No Deposit</td>\n",
              "      <td>SIN CATEGORIA</td>\n",
              "      <td>0</td>\n",
              "      <td>Transient</td>\n",
              "      <td>0.0</td>\n",
              "      <td>0</td>\n",
              "      <td>0</td>\n",
              "      <td>Check-Out</td>\n",
              "      <td>2015-07-01</td>\n",
              "      <td>Ernest Barnes</td>\n",
              "      <td>Ernest.Barnes31@outlook.com</td>\n",
              "      <td>669-792-1661</td>\n",
              "      <td>************4322</td>\n",
              "      <td>Resort Hotel</td>\n",
              "      <td>2015</td>\n",
              "      <td>July</td>\n",
              "      <td>CATEG_PEQUENAS</td>\n",
              "      <td>1</td>\n",
              "      <td>BB</td>\n",
              "      <td>PRT</td>\n",
              "      <td>Direct</td>\n",
              "      <td>Direct</td>\n",
              "      <td>0</td>\n",
              "      <td>CATEG_PEQUENAS</td>\n",
              "      <td>CATEG_PEQUENAS</td>\n",
              "      <td>No Deposit</td>\n",
              "      <td>SIN CATEGORIA</td>\n",
              "      <td>Transient</td>\n",
              "      <td>Check-Out</td>\n",
              "      <td>CATEG_PEQUENAS</td>\n",
              "      <td>CATEG_PEQUENAS</td>\n",
              "      <td>CATEG_PEQUENAS</td>\n",
              "      <td>CATEG_PEQUENAS</td>\n",
              "      <td>CATEG_PEQUENAS</td>\n",
              "    </tr>\n",
              "    <tr>\n",
              "      <th>1</th>\n",
              "      <td>100574</td>\n",
              "      <td>City Hotel</td>\n",
              "      <td>0</td>\n",
              "      <td>199</td>\n",
              "      <td>2016</td>\n",
              "      <td>October</td>\n",
              "      <td>44</td>\n",
              "      <td>28</td>\n",
              "      <td>0</td>\n",
              "      <td>2</td>\n",
              "      <td>2</td>\n",
              "      <td>0</td>\n",
              "      <td>0</td>\n",
              "      <td>BB</td>\n",
              "      <td>FRA</td>\n",
              "      <td>Groups</td>\n",
              "      <td>TA/TO</td>\n",
              "      <td>0</td>\n",
              "      <td>0</td>\n",
              "      <td>0</td>\n",
              "      <td>A</td>\n",
              "      <td>A</td>\n",
              "      <td>0</td>\n",
              "      <td>No Deposit</td>\n",
              "      <td>29</td>\n",
              "      <td>0</td>\n",
              "      <td>Transient-Party</td>\n",
              "      <td>95.0</td>\n",
              "      <td>0</td>\n",
              "      <td>0</td>\n",
              "      <td>Check-Out</td>\n",
              "      <td>2016-10-30</td>\n",
              "      <td>Brett Taylor</td>\n",
              "      <td>Taylor.Brett@hotmail.com</td>\n",
              "      <td>511-823-8862</td>\n",
              "      <td>************4322</td>\n",
              "      <td>City Hotel</td>\n",
              "      <td>2016</td>\n",
              "      <td>October</td>\n",
              "      <td>CATEG_PEQUENAS</td>\n",
              "      <td>28</td>\n",
              "      <td>BB</td>\n",
              "      <td>FRA</td>\n",
              "      <td>Groups</td>\n",
              "      <td>TA/TO</td>\n",
              "      <td>0</td>\n",
              "      <td>A</td>\n",
              "      <td>A</td>\n",
              "      <td>No Deposit</td>\n",
              "      <td>CATEG_PEQUENAS</td>\n",
              "      <td>Transient-Party</td>\n",
              "      <td>Check-Out</td>\n",
              "      <td>CATEG_PEQUENAS</td>\n",
              "      <td>CATEG_PEQUENAS</td>\n",
              "      <td>CATEG_PEQUENAS</td>\n",
              "      <td>CATEG_PEQUENAS</td>\n",
              "      <td>CATEG_PEQUENAS</td>\n",
              "    </tr>\n",
              "    <tr>\n",
              "      <th>2</th>\n",
              "      <td>96292</td>\n",
              "      <td>City Hotel</td>\n",
              "      <td>0</td>\n",
              "      <td>1</td>\n",
              "      <td>2017</td>\n",
              "      <td>August</td>\n",
              "      <td>35</td>\n",
              "      <td>29</td>\n",
              "      <td>0</td>\n",
              "      <td>2</td>\n",
              "      <td>1</td>\n",
              "      <td>0</td>\n",
              "      <td>0</td>\n",
              "      <td>BB</td>\n",
              "      <td>PRT</td>\n",
              "      <td>Corporate</td>\n",
              "      <td>Corporate</td>\n",
              "      <td>1</td>\n",
              "      <td>0</td>\n",
              "      <td>6</td>\n",
              "      <td>A</td>\n",
              "      <td>A</td>\n",
              "      <td>0</td>\n",
              "      <td>No Deposit</td>\n",
              "      <td>SIN CATEGORIA</td>\n",
              "      <td>0</td>\n",
              "      <td>Transient</td>\n",
              "      <td>67.0</td>\n",
              "      <td>0</td>\n",
              "      <td>3</td>\n",
              "      <td>Check-Out</td>\n",
              "      <td>2017-08-31</td>\n",
              "      <td>Jeffrey Reyes</td>\n",
              "      <td>Reyes_Jeffrey84@hotmail.com</td>\n",
              "      <td>687-575-0362</td>\n",
              "      <td>************4322</td>\n",
              "      <td>City Hotel</td>\n",
              "      <td>2017</td>\n",
              "      <td>August</td>\n",
              "      <td>CATEG_PEQUENAS</td>\n",
              "      <td>CATEG_PEQUENAS</td>\n",
              "      <td>BB</td>\n",
              "      <td>PRT</td>\n",
              "      <td>Corporate</td>\n",
              "      <td>Corporate</td>\n",
              "      <td>1</td>\n",
              "      <td>A</td>\n",
              "      <td>A</td>\n",
              "      <td>No Deposit</td>\n",
              "      <td>SIN CATEGORIA</td>\n",
              "      <td>Transient</td>\n",
              "      <td>Check-Out</td>\n",
              "      <td>CATEG_PEQUENAS</td>\n",
              "      <td>CATEG_PEQUENAS</td>\n",
              "      <td>CATEG_PEQUENAS</td>\n",
              "      <td>CATEG_PEQUENAS</td>\n",
              "      <td>CATEG_PEQUENAS</td>\n",
              "    </tr>\n",
              "    <tr>\n",
              "      <th>3</th>\n",
              "      <td>17983</td>\n",
              "      <td>Resort Hotel</td>\n",
              "      <td>1</td>\n",
              "      <td>289</td>\n",
              "      <td>2015</td>\n",
              "      <td>November</td>\n",
              "      <td>47</td>\n",
              "      <td>20</td>\n",
              "      <td>1</td>\n",
              "      <td>2</td>\n",
              "      <td>2</td>\n",
              "      <td>0</td>\n",
              "      <td>0</td>\n",
              "      <td>FB</td>\n",
              "      <td>PRT</td>\n",
              "      <td>Groups</td>\n",
              "      <td>TA/TO</td>\n",
              "      <td>0</td>\n",
              "      <td>1</td>\n",
              "      <td>0</td>\n",
              "      <td>A</td>\n",
              "      <td>A</td>\n",
              "      <td>0</td>\n",
              "      <td>No Deposit</td>\n",
              "      <td>134</td>\n",
              "      <td>0</td>\n",
              "      <td>Transient-Party</td>\n",
              "      <td>69.0</td>\n",
              "      <td>0</td>\n",
              "      <td>0</td>\n",
              "      <td>Canceled</td>\n",
              "      <td>2015-10-29</td>\n",
              "      <td>Paul Smith</td>\n",
              "      <td>Paul_S@zoho.com</td>\n",
              "      <td>200-992-8667</td>\n",
              "      <td>************4322</td>\n",
              "      <td>Resort Hotel</td>\n",
              "      <td>2015</td>\n",
              "      <td>November</td>\n",
              "      <td>CATEG_PEQUENAS</td>\n",
              "      <td>20</td>\n",
              "      <td>BB</td>\n",
              "      <td>PRT</td>\n",
              "      <td>Groups</td>\n",
              "      <td>TA/TO</td>\n",
              "      <td>0</td>\n",
              "      <td>A</td>\n",
              "      <td>A</td>\n",
              "      <td>No Deposit</td>\n",
              "      <td>CATEG_PEQUENAS</td>\n",
              "      <td>Transient-Party</td>\n",
              "      <td>Canceled</td>\n",
              "      <td>CATEG_PEQUENAS</td>\n",
              "      <td>CATEG_PEQUENAS</td>\n",
              "      <td>CATEG_PEQUENAS</td>\n",
              "      <td>CATEG_PEQUENAS</td>\n",
              "      <td>CATEG_PEQUENAS</td>\n",
              "    </tr>\n",
              "    <tr>\n",
              "      <th>4</th>\n",
              "      <td>97790</td>\n",
              "      <td>City Hotel</td>\n",
              "      <td>0</td>\n",
              "      <td>12</td>\n",
              "      <td>2016</td>\n",
              "      <td>September</td>\n",
              "      <td>39</td>\n",
              "      <td>19</td>\n",
              "      <td>1</td>\n",
              "      <td>1</td>\n",
              "      <td>2</td>\n",
              "      <td>0</td>\n",
              "      <td>0</td>\n",
              "      <td>BB</td>\n",
              "      <td>NLD</td>\n",
              "      <td>Online TA</td>\n",
              "      <td>TA/TO</td>\n",
              "      <td>0</td>\n",
              "      <td>0</td>\n",
              "      <td>0</td>\n",
              "      <td>A</td>\n",
              "      <td>A</td>\n",
              "      <td>0</td>\n",
              "      <td>No Deposit</td>\n",
              "      <td>9</td>\n",
              "      <td>0</td>\n",
              "      <td>Transient</td>\n",
              "      <td>159.0</td>\n",
              "      <td>0</td>\n",
              "      <td>0</td>\n",
              "      <td>Check-Out</td>\n",
              "      <td>2016-09-21</td>\n",
              "      <td>Andrew Watson</td>\n",
              "      <td>Andrew.Watson@comcast.net</td>\n",
              "      <td>349-820-4000</td>\n",
              "      <td>************4322</td>\n",
              "      <td>City Hotel</td>\n",
              "      <td>2016</td>\n",
              "      <td>September</td>\n",
              "      <td>CATEG_PEQUENAS</td>\n",
              "      <td>19</td>\n",
              "      <td>BB</td>\n",
              "      <td>CATEG_PEQUENAS</td>\n",
              "      <td>Online TA</td>\n",
              "      <td>TA/TO</td>\n",
              "      <td>0</td>\n",
              "      <td>A</td>\n",
              "      <td>A</td>\n",
              "      <td>No Deposit</td>\n",
              "      <td>9</td>\n",
              "      <td>Transient</td>\n",
              "      <td>Check-Out</td>\n",
              "      <td>CATEG_PEQUENAS</td>\n",
              "      <td>CATEG_PEQUENAS</td>\n",
              "      <td>CATEG_PEQUENAS</td>\n",
              "      <td>CATEG_PEQUENAS</td>\n",
              "      <td>CATEG_PEQUENAS</td>\n",
              "    </tr>\n",
              "  </tbody>\n",
              "</table>\n",
              "</div>"
            ],
            "text/plain": [
              "       id         hotel  is_canceled  lead_time  arrival_date_year  \\\n",
              "0       1  Resort Hotel            0        342               2015   \n",
              "1  100574    City Hotel            0        199               2016   \n",
              "2   96292    City Hotel            0          1               2017   \n",
              "3   17983  Resort Hotel            1        289               2015   \n",
              "4   97790    City Hotel            0         12               2016   \n",
              "\n",
              "  arrival_date_month  arrival_date_week_number  arrival_date_day_of_month  \\\n",
              "0               July                        27                          1   \n",
              "1            October                        44                         28   \n",
              "2             August                        35                         29   \n",
              "3           November                        47                         20   \n",
              "4          September                        39                         19   \n",
              "\n",
              "   stays_in_weekend_nights  stays_in_week_nights  adults  children  babies  \\\n",
              "0                        0                     0       2         0       0   \n",
              "1                        0                     2       2         0       0   \n",
              "2                        0                     2       1         0       0   \n",
              "3                        1                     2       2         0       0   \n",
              "4                        1                     1       2         0       0   \n",
              "\n",
              "  meal country market_segment distribution_channel  is_repeated_guest  \\\n",
              "0   BB     PRT         Direct               Direct                  0   \n",
              "1   BB     FRA         Groups                TA/TO                  0   \n",
              "2   BB     PRT      Corporate            Corporate                  1   \n",
              "3   FB     PRT         Groups                TA/TO                  0   \n",
              "4   BB     NLD      Online TA                TA/TO                  0   \n",
              "\n",
              "   previous_cancellations  previous_bookings_not_canceled reserved_room_type  \\\n",
              "0                       0                               0                  C   \n",
              "1                       0                               0                  A   \n",
              "2                       0                               6                  A   \n",
              "3                       1                               0                  A   \n",
              "4                       0                               0                  A   \n",
              "\n",
              "  assigned_room_type  booking_changes deposit_type          agent  \\\n",
              "0                  C                3   No Deposit  SIN CATEGORIA   \n",
              "1                  A                0   No Deposit             29   \n",
              "2                  A                0   No Deposit  SIN CATEGORIA   \n",
              "3                  A                0   No Deposit            134   \n",
              "4                  A                0   No Deposit              9   \n",
              "\n",
              "   days_in_waiting_list    customer_type    adr  required_car_parking_spaces  \\\n",
              "0                     0        Transient    0.0                            0   \n",
              "1                     0  Transient-Party   95.0                            0   \n",
              "2                     0        Transient   67.0                            0   \n",
              "3                     0  Transient-Party   69.0                            0   \n",
              "4                     0        Transient  159.0                            0   \n",
              "\n",
              "   total_of_special_requests reservation_status reservation_status_date  \\\n",
              "0                          0          Check-Out              2015-07-01   \n",
              "1                          0          Check-Out              2016-10-30   \n",
              "2                          3          Check-Out              2017-08-31   \n",
              "3                          0           Canceled              2015-10-29   \n",
              "4                          0          Check-Out              2016-09-21   \n",
              "\n",
              "            name                        email  phone-number       credit_card  \\\n",
              "0  Ernest Barnes  Ernest.Barnes31@outlook.com  669-792-1661  ************4322   \n",
              "1   Brett Taylor     Taylor.Brett@hotmail.com  511-823-8862  ************4322   \n",
              "2  Jeffrey Reyes  Reyes_Jeffrey84@hotmail.com  687-575-0362  ************4322   \n",
              "3     Paul Smith              Paul_S@zoho.com  200-992-8667  ************4322   \n",
              "4  Andrew Watson    Andrew.Watson@comcast.net  349-820-4000  ************4322   \n",
              "\n",
              "     norm_hotel norm_arrival_date_year norm_arrival_date_month  \\\n",
              "0  Resort Hotel                   2015                    July   \n",
              "1    City Hotel                   2016                 October   \n",
              "2    City Hotel                   2017                  August   \n",
              "3  Resort Hotel                   2015                November   \n",
              "4    City Hotel                   2016               September   \n",
              "\n",
              "  norm_arrival_date_week_number norm_arrival_date_day_of_month norm_meal  \\\n",
              "0                CATEG_PEQUENAS                              1        BB   \n",
              "1                CATEG_PEQUENAS                             28        BB   \n",
              "2                CATEG_PEQUENAS                 CATEG_PEQUENAS        BB   \n",
              "3                CATEG_PEQUENAS                             20        BB   \n",
              "4                CATEG_PEQUENAS                             19        BB   \n",
              "\n",
              "     norm_country norm_market_segment norm_distribution_channel  \\\n",
              "0             PRT              Direct                    Direct   \n",
              "1             FRA              Groups                     TA/TO   \n",
              "2             PRT           Corporate                 Corporate   \n",
              "3             PRT              Groups                     TA/TO   \n",
              "4  CATEG_PEQUENAS           Online TA                     TA/TO   \n",
              "\n",
              "  norm_is_repeated_guest norm_reserved_room_type norm_assigned_room_type  \\\n",
              "0                      0          CATEG_PEQUENAS          CATEG_PEQUENAS   \n",
              "1                      0                       A                       A   \n",
              "2                      1                       A                       A   \n",
              "3                      0                       A                       A   \n",
              "4                      0                       A                       A   \n",
              "\n",
              "  norm_deposit_type      norm_agent norm_customer_type  \\\n",
              "0        No Deposit   SIN CATEGORIA          Transient   \n",
              "1        No Deposit  CATEG_PEQUENAS    Transient-Party   \n",
              "2        No Deposit   SIN CATEGORIA          Transient   \n",
              "3        No Deposit  CATEG_PEQUENAS    Transient-Party   \n",
              "4        No Deposit               9          Transient   \n",
              "\n",
              "  norm_reservation_status norm_reservation_status_date       norm_name  \\\n",
              "0               Check-Out               CATEG_PEQUENAS  CATEG_PEQUENAS   \n",
              "1               Check-Out               CATEG_PEQUENAS  CATEG_PEQUENAS   \n",
              "2               Check-Out               CATEG_PEQUENAS  CATEG_PEQUENAS   \n",
              "3                Canceled               CATEG_PEQUENAS  CATEG_PEQUENAS   \n",
              "4               Check-Out               CATEG_PEQUENAS  CATEG_PEQUENAS   \n",
              "\n",
              "       norm_email norm_phone-number norm_credit_card  \n",
              "0  CATEG_PEQUENAS    CATEG_PEQUENAS   CATEG_PEQUENAS  \n",
              "1  CATEG_PEQUENAS    CATEG_PEQUENAS   CATEG_PEQUENAS  \n",
              "2  CATEG_PEQUENAS    CATEG_PEQUENAS   CATEG_PEQUENAS  \n",
              "3  CATEG_PEQUENAS    CATEG_PEQUENAS   CATEG_PEQUENAS  \n",
              "4  CATEG_PEQUENAS    CATEG_PEQUENAS   CATEG_PEQUENAS  "
            ]
          },
          "execution_count": 54,
          "metadata": {},
          "output_type": "execute_result"
        }
      ],
      "source": [
        "df.head()"
      ]
    },
    {
      "cell_type": "code",
      "execution_count": null,
      "id": "ed01ecaf",
      "metadata": {
        "id": "ed01ecaf",
        "outputId": "98eb5381-2539-4d54-c5d5-055153069654"
      },
      "outputs": [
        {
          "data": {
            "text/plain": [
              "['norm_hotel',\n",
              " 'norm_arrival_date_year',\n",
              " 'norm_arrival_date_month',\n",
              " 'norm_arrival_date_week_number',\n",
              " 'norm_arrival_date_day_of_month',\n",
              " 'norm_meal',\n",
              " 'norm_country',\n",
              " 'norm_market_segment',\n",
              " 'norm_distribution_channel',\n",
              " 'norm_is_repeated_guest',\n",
              " 'norm_reserved_room_type',\n",
              " 'norm_assigned_room_type',\n",
              " 'norm_deposit_type',\n",
              " 'norm_agent',\n",
              " 'norm_customer_type',\n",
              " 'norm_reservation_status',\n",
              " 'norm_reservation_status_date',\n",
              " 'norm_name',\n",
              " 'norm_email',\n",
              " 'norm_phone-number',\n",
              " 'norm_credit_card']"
            ]
          },
          "execution_count": 55,
          "metadata": {},
          "output_type": "execute_result"
        }
      ],
      "source": [
        "varn = df.filter(like='norm_').columns.tolist()\n",
        "varn"
      ]
    },
    {
      "cell_type": "code",
      "execution_count": null,
      "id": "cc9f7b6d",
      "metadata": {
        "id": "cc9f7b6d",
        "outputId": "57d14102-f5ac-4ba7-edbb-c56b964df2a5"
      },
      "outputs": [
        {
          "name": "stdout",
          "output_type": "stream",
          "text": [
            "Tabla de frecuencias para la variable norm_hotel \n",
            "\n",
            "                 FA       FR     FAA      FRA\n",
            "City Hotel    79326  0.66445   79326  0.66445\n",
            "Resort Hotel  40060  0.33555  119386  1.00000 \n",
            "\n",
            "Tabla de frecuencias para la variable norm_arrival_date_year \n",
            "\n",
            "         FA        FR     FAA       FRA\n",
            "2016  56707  0.474989   56707  0.474989\n",
            "2017  40687  0.340802   97394  0.815791\n",
            "2015  21992  0.184209  119386  1.000000 \n",
            "\n",
            "Tabla de frecuencias para la variable norm_arrival_date_month \n",
            "\n",
            "              FA        FR     FAA       FRA\n",
            "August     13873  0.116203   13873  0.116203\n",
            "July       12661  0.106051   26534  0.222254\n",
            "May        11791  0.098764   38325  0.321018\n",
            "October    11160  0.093478   49485  0.414496\n",
            "April      11089  0.092884   60574  0.507379\n",
            "June       10939  0.091627   71513  0.599007\n",
            "September  10508  0.088017   82021  0.687024\n",
            "March       9794  0.082036   91815  0.769060\n",
            "February    8068  0.067579   99883  0.836639\n",
            "November    6794  0.056908  106677  0.893547\n",
            "December    6780  0.056791  113457  0.950338\n",
            "January     5929  0.049662  119386  1.000000 \n",
            "\n",
            "Tabla de frecuencias para la variable norm_arrival_date_week_number \n",
            "\n",
            "                    FA   FR     FAA  FRA\n",
            "CATEG_PEQUENAS  119386  1.0  119386  1.0 \n",
            "\n",
            "Tabla de frecuencias para la variable norm_arrival_date_day_of_month \n",
            "\n",
            "                  FA        FR     FAA       FRA\n",
            "CATEG_PEQUENAS  9363  0.078426    9363  0.078426\n",
            "17              4406  0.036905   13769  0.115332\n",
            "5               4315  0.036143   18084  0.151475\n",
            "15              4196  0.035146   22280  0.186622\n",
            "25              4160  0.034845   26440  0.221467\n",
            "26              4147  0.034736   30587  0.256203\n",
            "9               4096  0.034309   34683  0.290511\n",
            "12              4087  0.034233   38770  0.324745\n",
            "16              4078  0.034158   42848  0.358903\n",
            "2               4055  0.033965   46903  0.392869\n",
            "19              4052  0.033940   50955  0.426809\n",
            "20              4032  0.033773   54987  0.460582\n",
            "18              4002  0.033522   58989  0.494103\n",
            "24              3993  0.033446   62982  0.527549\n",
            "28              3946  0.033052   66928  0.560602\n",
            "8               3921  0.032843   70849  0.593445\n",
            "3               3854  0.032282   74703  0.625727\n",
            "30              3853  0.032273   78556  0.658000\n",
            "6               3833  0.032106   82389  0.690106\n",
            "14              3819  0.031989   86208  0.722095\n",
            "27              3802  0.031846   90010  0.753941\n",
            "21              3767  0.031553   93777  0.785494\n",
            "4               3763  0.031520   97540  0.817014\n",
            "13              3744  0.031360  101284  0.848374\n",
            "7               3665  0.030699  104949  0.879073\n",
            "1               3626  0.030372  108575  0.909445\n",
            "23              3616  0.030288  112191  0.939733\n",
            "11              3599  0.030146  115790  0.969879\n",
            "22              3596  0.030121  119386  1.000000 \n",
            "\n",
            "Tabla de frecuencias para la variable norm_meal \n",
            "\n",
            "       FA        FR     FAA       FRA\n",
            "BB  94273  0.789649   94273  0.789649\n",
            "HB  14463  0.121145  108736  0.910794\n",
            "SC  10650  0.089206  119386  1.000000 \n",
            "\n",
            "Tabla de frecuencias para la variable norm_country \n",
            "\n",
            "                   FA        FR     FAA       FRA\n",
            "PRT             48586  0.406966   48586  0.406966\n",
            "CATEG_PEQUENAS  28635  0.239852   77221  0.646818\n",
            "GBR             12129  0.101595   89350  0.748413\n",
            "FRA             10415  0.087238   99765  0.835651\n",
            "ESP              8568  0.071767  108333  0.907418\n",
            "DEU              7287  0.061037  115620  0.968455\n",
            "ITA              3766  0.031545  119386  1.000000 \n",
            "\n",
            "Tabla de frecuencias para la variable norm_market_segment \n",
            "\n",
            "                  FA        FR     FAA       FRA\n",
            "Online TA      57456  0.481262   57456  0.481262\n",
            "Offline TA/TO  24219  0.202863   81675  0.684125\n",
            "Groups         19811  0.165941  101486  0.850066\n",
            "Direct         12605  0.105582  114091  0.955648\n",
            "Corporate       5295  0.044352  119386  1.000000 \n",
            "\n",
            "Tabla de frecuencias para la variable norm_distribution_channel \n",
            "\n",
            "              FA        FR     FAA       FRA\n",
            "TA/TO      98064  0.821403   98064  0.821403\n",
            "Direct     14645  0.122669  112709  0.944072\n",
            "Corporate   6677  0.055928  119386  1.000000 \n",
            "\n",
            "Tabla de frecuencias para la variable norm_is_repeated_guest \n",
            "\n",
            "       FA        FR     FAA       FRA\n",
            "0  115576  0.968087  115576  0.968087\n",
            "1    3810  0.031913  119386  1.000000 \n",
            "\n",
            "Tabla de frecuencias para la variable norm_reserved_room_type \n",
            "\n",
            "                   FA        FR     FAA       FRA\n",
            "A               85994  0.720302   85994  0.720302\n",
            "D               19201  0.160831  105195  0.881133\n",
            "CATEG_PEQUENAS   7656  0.064128  112851  0.945262\n",
            "E                6535  0.054738  119386  1.000000 \n",
            "\n",
            "Tabla de frecuencias para la variable norm_assigned_room_type \n",
            "\n",
            "                   FA        FR     FAA       FRA\n",
            "A               74053  0.620282   74053  0.620282\n",
            "D               25322  0.212102   99375  0.832384\n",
            "CATEG_PEQUENAS   8454  0.070812  107829  0.903196\n",
            "E                7806  0.065385  115635  0.968581\n",
            "F                3751  0.031419  119386  1.000000 \n",
            "\n",
            "Tabla de frecuencias para la variable norm_deposit_type \n",
            "\n",
            "                FA        FR     FAA       FRA\n",
            "No Deposit  104799  0.877816  104799  0.877816\n",
            "Non Refund   14587  0.122184  119386  1.000000 \n",
            "\n",
            "Tabla de frecuencias para la variable norm_agent \n",
            "\n",
            "                   FA        FR     FAA       FRA\n",
            "CATEG_PEQUENAS  46336  0.388119   46336  0.388119\n",
            "9               31960  0.267703   78296  0.655822\n",
            "SIN CATEGORIA   16338  0.136850   94634  0.792673\n",
            "240             13922  0.116613  108556  0.909286\n",
            "1                7191  0.060233  115747  0.969519\n",
            "14               3639  0.030481  119386  1.000000 \n",
            "\n",
            "Tabla de frecuencias para la variable norm_customer_type \n",
            "\n",
            "                    FA        FR     FAA       FRA\n",
            "Transient        90190  0.755449   90190  0.755449\n",
            "Transient-Party  25120  0.210410  115310  0.965859\n",
            "Contract          4076  0.034141  119386  1.000000 \n",
            "\n",
            "Tabla de frecuencias para la variable norm_reservation_status \n",
            "\n",
            "              FA        FR     FAA       FRA\n",
            "Check-Out  76373  0.639715   76373  0.639715\n",
            "Canceled   43013  0.360285  119386  1.000000 \n",
            "\n",
            "Tabla de frecuencias para la variable norm_reservation_status_date \n",
            "\n",
            "                    FA   FR     FAA  FRA\n",
            "CATEG_PEQUENAS  119386  1.0  119386  1.0 \n",
            "\n",
            "Tabla de frecuencias para la variable norm_name \n",
            "\n",
            "                    FA   FR     FAA  FRA\n",
            "CATEG_PEQUENAS  119386  1.0  119386  1.0 \n",
            "\n",
            "Tabla de frecuencias para la variable norm_email \n",
            "\n",
            "                    FA   FR     FAA  FRA\n",
            "CATEG_PEQUENAS  119386  1.0  119386  1.0 \n",
            "\n",
            "Tabla de frecuencias para la variable norm_phone-number \n",
            "\n",
            "                    FA   FR     FAA  FRA\n",
            "CATEG_PEQUENAS  119386  1.0  119386  1.0 \n",
            "\n",
            "Tabla de frecuencias para la variable norm_credit_card \n",
            "\n",
            "                    FA   FR     FAA  FRA\n",
            "CATEG_PEQUENAS  119386  1.0  119386  1.0 \n",
            "\n"
          ]
        }
      ],
      "source": [
        "frecuencias(df,varn)"
      ]
    },
    {
      "cell_type": "markdown",
      "id": "85b547d5",
      "metadata": {
        "id": "85b547d5"
      },
      "source": [
        "### Unarias"
      ]
    },
    {
      "cell_type": "code",
      "execution_count": null,
      "id": "c1424c53",
      "metadata": {
        "id": "c1424c53"
      },
      "outputs": [],
      "source": [
        "v_unarias = [ v for v, conteo in zip(varn, [df[v].unique().shape[0] for v in varn] ) if conteo ==1 ]"
      ]
    },
    {
      "cell_type": "code",
      "execution_count": null,
      "id": "354bcd41",
      "metadata": {
        "id": "354bcd41",
        "outputId": "20457ad2-ea27-412b-ea2d-d6259f611b9c"
      },
      "outputs": [
        {
          "data": {
            "text/plain": [
              "['norm_arrival_date_week_number',\n",
              " 'norm_reservation_status_date',\n",
              " 'norm_name',\n",
              " 'norm_email',\n",
              " 'norm_phone-number',\n",
              " 'norm_credit_card']"
            ]
          },
          "execution_count": 58,
          "metadata": {},
          "output_type": "execute_result"
        }
      ],
      "source": [
        "v_unarias"
      ]
    },
    {
      "cell_type": "code",
      "execution_count": null,
      "id": "d760c174",
      "metadata": {
        "id": "d760c174",
        "outputId": "5c69bd00-f467-4ee8-f8f8-771f72c1d171"
      },
      "outputs": [
        {
          "data": {
            "text/plain": [
              "21"
            ]
          },
          "execution_count": 59,
          "metadata": {},
          "output_type": "execute_result"
        }
      ],
      "source": [
        "len(varn)"
      ]
    },
    {
      "cell_type": "code",
      "execution_count": null,
      "id": "abf8707b",
      "metadata": {
        "id": "abf8707b"
      },
      "outputs": [],
      "source": [
        "varn = [v for v in varn if v not in v_unarias]"
      ]
    },
    {
      "cell_type": "code",
      "execution_count": null,
      "id": "f8367a81",
      "metadata": {
        "id": "f8367a81",
        "outputId": "f6c87603-1198-4d14-91be-5ba4459dac65"
      },
      "outputs": [
        {
          "data": {
            "text/plain": [
              "(15,\n",
              " ['norm_hotel',\n",
              "  'norm_arrival_date_year',\n",
              "  'norm_arrival_date_month',\n",
              "  'norm_arrival_date_day_of_month',\n",
              "  'norm_meal',\n",
              "  'norm_country',\n",
              "  'norm_market_segment',\n",
              "  'norm_distribution_channel',\n",
              "  'norm_is_repeated_guest',\n",
              "  'norm_reserved_room_type',\n",
              "  'norm_assigned_room_type',\n",
              "  'norm_deposit_type',\n",
              "  'norm_agent',\n",
              "  'norm_customer_type',\n",
              "  'norm_reservation_status'])"
            ]
          },
          "execution_count": 61,
          "metadata": {},
          "output_type": "execute_result"
        }
      ],
      "source": [
        "len(varn), varn"
      ]
    },
    {
      "cell_type": "markdown",
      "id": "0add232a",
      "metadata": {
        "id": "0add232a"
      },
      "source": [
        "## Variables Continuas"
      ]
    },
    {
      "cell_type": "markdown",
      "id": "e97fa8e7",
      "metadata": {
        "id": "e97fa8e7"
      },
      "source": [
        "### Análisis Univariado"
      ]
    },
    {
      "cell_type": "code",
      "execution_count": null,
      "id": "4ab52b78",
      "metadata": {
        "id": "4ab52b78",
        "outputId": "0194fe83-4e88-4466-cdda-6e17bac40fba"
      },
      "outputs": [
        {
          "data": {
            "text/plain": [
              "['lead_time',\n",
              " 'stays_in_weekend_nights',\n",
              " 'stays_in_week_nights',\n",
              " 'adults',\n",
              " 'children',\n",
              " 'babies',\n",
              " 'previous_cancellations',\n",
              " 'previous_bookings_not_canceled',\n",
              " 'booking_changes',\n",
              " 'days_in_waiting_list',\n",
              " 'adr',\n",
              " 'required_car_parking_spaces',\n",
              " 'total_of_special_requests']"
            ]
          },
          "execution_count": 62,
          "metadata": {},
          "output_type": "execute_result"
        }
      ],
      "source": [
        "varc"
      ]
    },
    {
      "cell_type": "code",
      "execution_count": null,
      "id": "b34a1b71",
      "metadata": {
        "id": "b34a1b71"
      },
      "outputs": [],
      "source": [
        "X = df[varc].copy()"
      ]
    },
    {
      "cell_type": "code",
      "execution_count": null,
      "id": "aebfd47d",
      "metadata": {
        "id": "aebfd47d",
        "outputId": "e0f50539-e3d5-49ff-f7e1-1cf57f3f2d9a"
      },
      "outputs": [
        {
          "data": {
            "text/plain": [
              "(119386, 13)"
            ]
          },
          "execution_count": 64,
          "metadata": {},
          "output_type": "execute_result"
        }
      ],
      "source": [
        "X.shape"
      ]
    },
    {
      "cell_type": "code",
      "execution_count": null,
      "id": "b6865530",
      "metadata": {
        "id": "b6865530",
        "outputId": "eb0d02de-b8b3-4789-a9ef-5f85e8c17dfc"
      },
      "outputs": [
        {
          "data": {
            "text/plain": [
              "array([[<AxesSubplot:title={'center':'lead_time'}>,\n",
              "        <AxesSubplot:title={'center':'stays_in_weekend_nights'}>,\n",
              "        <AxesSubplot:title={'center':'stays_in_week_nights'}>,\n",
              "        <AxesSubplot:title={'center':'adults'}>],\n",
              "       [<AxesSubplot:title={'center':'children'}>,\n",
              "        <AxesSubplot:title={'center':'babies'}>,\n",
              "        <AxesSubplot:title={'center':'previous_cancellations'}>,\n",
              "        <AxesSubplot:title={'center':'previous_bookings_not_canceled'}>],\n",
              "       [<AxesSubplot:title={'center':'booking_changes'}>,\n",
              "        <AxesSubplot:title={'center':'days_in_waiting_list'}>,\n",
              "        <AxesSubplot:title={'center':'adr'}>,\n",
              "        <AxesSubplot:title={'center':'required_car_parking_spaces'}>],\n",
              "       [<AxesSubplot:title={'center':'total_of_special_requests'}>,\n",
              "        <AxesSubplot:>, <AxesSubplot:>, <AxesSubplot:>]], dtype=object)"
            ]
          },
          "execution_count": 65,
          "metadata": {},
          "output_type": "execute_result"
        },
        {
          "data": {
            "image/png": "[encoded data removed]",
            "text/plain": [
              "<Figure size 720x720 with 16 Axes>"
            ]
          },
          "metadata": {
            "needs_background": "light"
          },
          "output_type": "display_data"
        }
      ],
      "source": [
        "X[varc].hist(figsize=(10,10))"
      ]
    },
    {
      "cell_type": "code",
      "execution_count": null,
      "id": "9ce023c3",
      "metadata": {
        "id": "9ce023c3",
        "outputId": "28719eda-0681-42fd-8329-8e718dff6959"
      },
      "outputs": [
        {
          "data": {
            "text/html": [
              "<div>\n",
              "<style scoped>\n",
              "    .dataframe tbody tr th:only-of-type {\n",
              "        vertical-align: middle;\n",
              "    }\n",
              "\n",
              "    .dataframe tbody tr th {\n",
              "        vertical-align: top;\n",
              "    }\n",
              "\n",
              "    .dataframe thead th {\n",
              "        text-align: right;\n",
              "    }\n",
              "</style>\n",
              "<table border=\"1\" class=\"dataframe\">\n",
              "  <thead>\n",
              "    <tr style=\"text-align: right;\">\n",
              "      <th></th>\n",
              "      <th>lead_time</th>\n",
              "      <th>stays_in_weekend_nights</th>\n",
              "      <th>stays_in_week_nights</th>\n",
              "      <th>adults</th>\n",
              "      <th>children</th>\n",
              "      <th>babies</th>\n",
              "      <th>previous_cancellations</th>\n",
              "      <th>previous_bookings_not_canceled</th>\n",
              "      <th>booking_changes</th>\n",
              "      <th>days_in_waiting_list</th>\n",
              "      <th>adr</th>\n",
              "      <th>required_car_parking_spaces</th>\n",
              "      <th>total_of_special_requests</th>\n",
              "    </tr>\n",
              "  </thead>\n",
              "  <tbody>\n",
              "    <tr>\n",
              "      <th>count</th>\n",
              "      <td>119386.000000</td>\n",
              "      <td>119386.000000</td>\n",
              "      <td>119386.000000</td>\n",
              "      <td>119386.000000</td>\n",
              "      <td>119386.000000</td>\n",
              "      <td>119386.000000</td>\n",
              "      <td>119386.000000</td>\n",
              "      <td>119386.000000</td>\n",
              "      <td>119386.000000</td>\n",
              "      <td>119386.000000</td>\n",
              "      <td>119386.000000</td>\n",
              "      <td>119386.000000</td>\n",
              "      <td>119386.000000</td>\n",
              "    </tr>\n",
              "    <tr>\n",
              "      <th>mean</th>\n",
              "      <td>104.014801</td>\n",
              "      <td>0.927605</td>\n",
              "      <td>2.500310</td>\n",
              "      <td>1.856390</td>\n",
              "      <td>0.103890</td>\n",
              "      <td>0.007949</td>\n",
              "      <td>0.087121</td>\n",
              "      <td>0.137102</td>\n",
              "      <td>0.221131</td>\n",
              "      <td>2.321227</td>\n",
              "      <td>101.833541</td>\n",
              "      <td>0.062520</td>\n",
              "      <td>0.571340</td>\n",
              "    </tr>\n",
              "    <tr>\n",
              "      <th>std</th>\n",
              "      <td>106.863286</td>\n",
              "      <td>0.998618</td>\n",
              "      <td>1.908289</td>\n",
              "      <td>0.579261</td>\n",
              "      <td>0.398561</td>\n",
              "      <td>0.097438</td>\n",
              "      <td>0.844350</td>\n",
              "      <td>1.497462</td>\n",
              "      <td>0.652315</td>\n",
              "      <td>17.595011</td>\n",
              "      <td>50.534664</td>\n",
              "      <td>0.245295</td>\n",
              "      <td>0.792798</td>\n",
              "    </tr>\n",
              "    <tr>\n",
              "      <th>min</th>\n",
              "      <td>0.000000</td>\n",
              "      <td>0.000000</td>\n",
              "      <td>0.000000</td>\n",
              "      <td>0.000000</td>\n",
              "      <td>0.000000</td>\n",
              "      <td>0.000000</td>\n",
              "      <td>0.000000</td>\n",
              "      <td>0.000000</td>\n",
              "      <td>0.000000</td>\n",
              "      <td>0.000000</td>\n",
              "      <td>-6.380000</td>\n",
              "      <td>0.000000</td>\n",
              "      <td>0.000000</td>\n",
              "    </tr>\n",
              "    <tr>\n",
              "      <th>1%</th>\n",
              "      <td>0.000000</td>\n",
              "      <td>0.000000</td>\n",
              "      <td>0.000000</td>\n",
              "      <td>1.000000</td>\n",
              "      <td>0.000000</td>\n",
              "      <td>0.000000</td>\n",
              "      <td>0.000000</td>\n",
              "      <td>0.000000</td>\n",
              "      <td>0.000000</td>\n",
              "      <td>0.000000</td>\n",
              "      <td>0.000000</td>\n",
              "      <td>0.000000</td>\n",
              "      <td>0.000000</td>\n",
              "    </tr>\n",
              "    <tr>\n",
              "      <th>10%</th>\n",
              "      <td>3.000000</td>\n",
              "      <td>0.000000</td>\n",
              "      <td>1.000000</td>\n",
              "      <td>1.000000</td>\n",
              "      <td>0.000000</td>\n",
              "      <td>0.000000</td>\n",
              "      <td>0.000000</td>\n",
              "      <td>0.000000</td>\n",
              "      <td>0.000000</td>\n",
              "      <td>0.000000</td>\n",
              "      <td>50.000000</td>\n",
              "      <td>0.000000</td>\n",
              "      <td>0.000000</td>\n",
              "    </tr>\n",
              "    <tr>\n",
              "      <th>50%</th>\n",
              "      <td>69.000000</td>\n",
              "      <td>1.000000</td>\n",
              "      <td>2.000000</td>\n",
              "      <td>2.000000</td>\n",
              "      <td>0.000000</td>\n",
              "      <td>0.000000</td>\n",
              "      <td>0.000000</td>\n",
              "      <td>0.000000</td>\n",
              "      <td>0.000000</td>\n",
              "      <td>0.000000</td>\n",
              "      <td>94.590000</td>\n",
              "      <td>0.000000</td>\n",
              "      <td>0.000000</td>\n",
              "    </tr>\n",
              "    <tr>\n",
              "      <th>90%</th>\n",
              "      <td>265.000000</td>\n",
              "      <td>2.000000</td>\n",
              "      <td>5.000000</td>\n",
              "      <td>2.000000</td>\n",
              "      <td>0.000000</td>\n",
              "      <td>0.000000</td>\n",
              "      <td>0.000000</td>\n",
              "      <td>0.000000</td>\n",
              "      <td>1.000000</td>\n",
              "      <td>0.000000</td>\n",
              "      <td>164.000000</td>\n",
              "      <td>0.000000</td>\n",
              "      <td>2.000000</td>\n",
              "    </tr>\n",
              "    <tr>\n",
              "      <th>99%</th>\n",
              "      <td>444.000000</td>\n",
              "      <td>4.000000</td>\n",
              "      <td>10.000000</td>\n",
              "      <td>3.000000</td>\n",
              "      <td>2.000000</td>\n",
              "      <td>0.000000</td>\n",
              "      <td>1.000000</td>\n",
              "      <td>3.000000</td>\n",
              "      <td>3.000000</td>\n",
              "      <td>75.000000</td>\n",
              "      <td>252.000000</td>\n",
              "      <td>1.000000</td>\n",
              "      <td>3.000000</td>\n",
              "    </tr>\n",
              "    <tr>\n",
              "      <th>max</th>\n",
              "      <td>737.000000</td>\n",
              "      <td>19.000000</td>\n",
              "      <td>50.000000</td>\n",
              "      <td>55.000000</td>\n",
              "      <td>10.000000</td>\n",
              "      <td>10.000000</td>\n",
              "      <td>26.000000</td>\n",
              "      <td>72.000000</td>\n",
              "      <td>21.000000</td>\n",
              "      <td>391.000000</td>\n",
              "      <td>5400.000000</td>\n",
              "      <td>8.000000</td>\n",
              "      <td>5.000000</td>\n",
              "    </tr>\n",
              "  </tbody>\n",
              "</table>\n",
              "</div>"
            ],
            "text/plain": [
              "           lead_time  stays_in_weekend_nights  stays_in_week_nights  \\\n",
              "count  119386.000000            119386.000000         119386.000000   \n",
              "mean      104.014801                 0.927605              2.500310   \n",
              "std       106.863286                 0.998618              1.908289   \n",
              "min         0.000000                 0.000000              0.000000   \n",
              "1%          0.000000                 0.000000              0.000000   \n",
              "10%         3.000000                 0.000000              1.000000   \n",
              "50%        69.000000                 1.000000              2.000000   \n",
              "90%       265.000000                 2.000000              5.000000   \n",
              "99%       444.000000                 4.000000             10.000000   \n",
              "max       737.000000                19.000000             50.000000   \n",
              "\n",
              "              adults       children         babies  previous_cancellations  \\\n",
              "count  119386.000000  119386.000000  119386.000000           119386.000000   \n",
              "mean        1.856390       0.103890       0.007949                0.087121   \n",
              "std         0.579261       0.398561       0.097438                0.844350   \n",
              "min         0.000000       0.000000       0.000000                0.000000   \n",
              "1%          1.000000       0.000000       0.000000                0.000000   \n",
              "10%         1.000000       0.000000       0.000000                0.000000   \n",
              "50%         2.000000       0.000000       0.000000                0.000000   \n",
              "90%         2.000000       0.000000       0.000000                0.000000   \n",
              "99%         3.000000       2.000000       0.000000                1.000000   \n",
              "max        55.000000      10.000000      10.000000               26.000000   \n",
              "\n",
              "       previous_bookings_not_canceled  booking_changes  days_in_waiting_list  \\\n",
              "count                   119386.000000    119386.000000         119386.000000   \n",
              "mean                         0.137102         0.221131              2.321227   \n",
              "std                          1.497462         0.652315             17.595011   \n",
              "min                          0.000000         0.000000              0.000000   \n",
              "1%                           0.000000         0.000000              0.000000   \n",
              "10%                          0.000000         0.000000              0.000000   \n",
              "50%                          0.000000         0.000000              0.000000   \n",
              "90%                          0.000000         1.000000              0.000000   \n",
              "99%                          3.000000         3.000000             75.000000   \n",
              "max                         72.000000        21.000000            391.000000   \n",
              "\n",
              "                 adr  required_car_parking_spaces  total_of_special_requests  \n",
              "count  119386.000000                119386.000000              119386.000000  \n",
              "mean      101.833541                     0.062520                   0.571340  \n",
              "std        50.534664                     0.245295                   0.792798  \n",
              "min        -6.380000                     0.000000                   0.000000  \n",
              "1%          0.000000                     0.000000                   0.000000  \n",
              "10%        50.000000                     0.000000                   0.000000  \n",
              "50%        94.590000                     0.000000                   0.000000  \n",
              "90%       164.000000                     0.000000                   2.000000  \n",
              "99%       252.000000                     1.000000                   3.000000  \n",
              "max      5400.000000                     8.000000                   5.000000  "
            ]
          },
          "execution_count": 66,
          "metadata": {},
          "output_type": "execute_result"
        }
      ],
      "source": [
        "X.describe(percentiles=[0.01,0.1,0.9,0.99])"
      ]
    },
    {
      "cell_type": "markdown",
      "id": "8c36d574",
      "metadata": {
        "id": "8c36d574"
      },
      "source": [
        "#### Valores Ausentes"
      ]
    },
    {
      "cell_type": "code",
      "execution_count": null,
      "id": "d4e2def8",
      "metadata": {
        "id": "d4e2def8",
        "outputId": "33197c11-80d1-48de-c5c1-cec2826c495b"
      },
      "outputs": [
        {
          "data": {
            "text/html": [
              "<div>\n",
              "<style scoped>\n",
              "    .dataframe tbody tr th:only-of-type {\n",
              "        vertical-align: middle;\n",
              "    }\n",
              "\n",
              "    .dataframe tbody tr th {\n",
              "        vertical-align: top;\n",
              "    }\n",
              "\n",
              "    .dataframe thead th {\n",
              "        text-align: right;\n",
              "    }\n",
              "</style>\n",
              "<table border=\"1\" class=\"dataframe\">\n",
              "  <thead>\n",
              "    <tr style=\"text-align: right;\">\n",
              "      <th></th>\n",
              "      <th>count</th>\n",
              "    </tr>\n",
              "  </thead>\n",
              "  <tbody>\n",
              "    <tr>\n",
              "      <th>lead_time</th>\n",
              "      <td>0.0</td>\n",
              "    </tr>\n",
              "    <tr>\n",
              "      <th>stays_in_weekend_nights</th>\n",
              "      <td>0.0</td>\n",
              "    </tr>\n",
              "    <tr>\n",
              "      <th>stays_in_week_nights</th>\n",
              "      <td>0.0</td>\n",
              "    </tr>\n",
              "    <tr>\n",
              "      <th>adults</th>\n",
              "      <td>0.0</td>\n",
              "    </tr>\n",
              "    <tr>\n",
              "      <th>children</th>\n",
              "      <td>0.0</td>\n",
              "    </tr>\n",
              "    <tr>\n",
              "      <th>babies</th>\n",
              "      <td>0.0</td>\n",
              "    </tr>\n",
              "    <tr>\n",
              "      <th>previous_cancellations</th>\n",
              "      <td>0.0</td>\n",
              "    </tr>\n",
              "    <tr>\n",
              "      <th>previous_bookings_not_canceled</th>\n",
              "      <td>0.0</td>\n",
              "    </tr>\n",
              "    <tr>\n",
              "      <th>booking_changes</th>\n",
              "      <td>0.0</td>\n",
              "    </tr>\n",
              "    <tr>\n",
              "      <th>days_in_waiting_list</th>\n",
              "      <td>0.0</td>\n",
              "    </tr>\n",
              "    <tr>\n",
              "      <th>adr</th>\n",
              "      <td>0.0</td>\n",
              "    </tr>\n",
              "    <tr>\n",
              "      <th>required_car_parking_spaces</th>\n",
              "      <td>0.0</td>\n",
              "    </tr>\n",
              "    <tr>\n",
              "      <th>total_of_special_requests</th>\n",
              "      <td>0.0</td>\n",
              "    </tr>\n",
              "  </tbody>\n",
              "</table>\n",
              "</div>"
            ],
            "text/plain": [
              "                                count\n",
              "lead_time                         0.0\n",
              "stays_in_weekend_nights           0.0\n",
              "stays_in_week_nights              0.0\n",
              "adults                            0.0\n",
              "children                          0.0\n",
              "babies                            0.0\n",
              "previous_cancellations            0.0\n",
              "previous_bookings_not_canceled    0.0\n",
              "booking_changes                   0.0\n",
              "days_in_waiting_list              0.0\n",
              "adr                               0.0\n",
              "required_car_parking_spaces       0.0\n",
              "total_of_special_requests         0.0"
            ]
          },
          "execution_count": 67,
          "metadata": {},
          "output_type": "execute_result"
        }
      ],
      "source": [
        "miss = 1 - X[varc].describe().T[['count']] / len(X)\n",
        "miss"
      ]
    },
    {
      "cell_type": "code",
      "execution_count": null,
      "id": "4dfac5bf",
      "metadata": {
        "id": "4dfac5bf"
      },
      "outputs": [],
      "source": [
        "# No hay valores ausentes"
      ]
    },
    {
      "cell_type": "markdown",
      "id": "025df2f5",
      "metadata": {
        "id": "025df2f5"
      },
      "source": [
        "### Varianza"
      ]
    },
    {
      "cell_type": "code",
      "execution_count": null,
      "id": "2fd06b02",
      "metadata": {
        "id": "2fd06b02",
        "outputId": "2e64c5cc-320d-4590-ec5a-b0a12f591905"
      },
      "outputs": [
        {
          "data": {
            "text/html": [
              "<style>#sk-container-id-1 {color: black;background-color: white;}#sk-container-id-1 pre{padding: 0;}#sk-container-id-1 div.sk-toggleable {background-color: white;}#sk-container-id-1 label.sk-toggleable__label {cursor: pointer;display: block;width: 100%;margin-bottom: 0;padding: 0.3em;box-sizing: border-box;text-align: center;}#sk-container-id-1 label.sk-toggleable__label-arrow:before {content: \"▸\";float: left;margin-right: 0.25em;color: #696969;}#sk-container-id-1 label.sk-toggleable__label-arrow:hover:before {color: black;}#sk-container-id-1 div.sk-estimator:hover label.sk-toggleable__label-arrow:before {color: black;}#sk-container-id-1 div.sk-toggleable__content {max-height: 0;max-width: 0;overflow: hidden;text-align: left;background-color: #f0f8ff;}#sk-container-id-1 div.sk-toggleable__content pre {margin: 0.2em;color: black;border-radius: 0.25em;background-color: #f0f8ff;}#sk-container-id-1 input.sk-toggleable__control:checked~div.sk-toggleable__content {max-height: 200px;max-width: 100%;overflow: auto;}#sk-container-id-1 input.sk-toggleable__control:checked~label.sk-toggleable__label-arrow:before {content: \"▾\";}#sk-container-id-1 div.sk-estimator input.sk-toggleable__control:checked~label.sk-toggleable__label {background-color: #d4ebff;}#sk-container-id-1 div.sk-label input.sk-toggleable__control:checked~label.sk-toggleable__label {background-color: #d4ebff;}#sk-container-id-1 input.sk-hidden--visually {border: 0;clip: rect(1px 1px 1px 1px);clip: rect(1px, 1px, 1px, 1px);height: 1px;margin: -1px;overflow: hidden;padding: 0;position: absolute;width: 1px;}#sk-container-id-1 div.sk-estimator {font-family: monospace;background-color: #f0f8ff;border: 1px dotted black;border-radius: 0.25em;box-sizing: border-box;margin-bottom: 0.5em;}#sk-container-id-1 div.sk-estimator:hover {background-color: #d4ebff;}#sk-container-id-1 div.sk-parallel-item::after {content: \"\";width: 100%;border-bottom: 1px solid gray;flex-grow: 1;}#sk-container-id-1 div.sk-label:hover label.sk-toggleable__label {background-color: #d4ebff;}#sk-container-id-1 div.sk-serial::before {content: \"\";position: absolute;border-left: 1px solid gray;box-sizing: border-box;top: 0;bottom: 0;left: 50%;z-index: 0;}#sk-container-id-1 div.sk-serial {display: flex;flex-direction: column;align-items: center;background-color: white;padding-right: 0.2em;padding-left: 0.2em;position: relative;}#sk-container-id-1 div.sk-item {position: relative;z-index: 1;}#sk-container-id-1 div.sk-parallel {display: flex;align-items: stretch;justify-content: center;background-color: white;position: relative;}#sk-container-id-1 div.sk-item::before, #sk-container-id-1 div.sk-parallel-item::before {content: \"\";position: absolute;border-left: 1px solid gray;box-sizing: border-box;top: 0;bottom: 0;left: 50%;z-index: -1;}#sk-container-id-1 div.sk-parallel-item {display: flex;flex-direction: column;z-index: 1;position: relative;background-color: white;}#sk-container-id-1 div.sk-parallel-item:first-child::after {align-self: flex-end;width: 50%;}#sk-container-id-1 div.sk-parallel-item:last-child::after {align-self: flex-start;width: 50%;}#sk-container-id-1 div.sk-parallel-item:only-child::after {width: 0;}#sk-container-id-1 div.sk-dashed-wrapped {border: 1px dashed gray;margin: 0 0.4em 0.5em 0.4em;box-sizing: border-box;padding-bottom: 0.4em;background-color: white;}#sk-container-id-1 div.sk-label label {font-family: monospace;font-weight: bold;display: inline-block;line-height: 1.2em;}#sk-container-id-1 div.sk-label-container {text-align: center;}#sk-container-id-1 div.sk-container {/* jupyter's `normalize.less` sets `[hidden] { display: none; }` but bootstrap.min.css set `[hidden] { display: none !important; }` so we also need the `!important` here to be able to override the default hidden behavior on the sphinx rendered scikit-learn.org. See: https://github.com/scikit-learn/scikit-learn/issues/21755 */display: inline-block !important;position: relative;}#sk-container-id-1 div.sk-text-repr-fallback {display: none;}</style><div id=\"sk-container-id-1\" class=\"sk-top-container\"><div class=\"sk-text-repr-fallback\"><pre>VarianceThreshold(threshold=1)</pre><b>In a Jupyter environment, please rerun this cell to show the HTML representation or trust the notebook. <br />On GitHub, the HTML representation is unable to render, please try loading this page with nbviewer.org.</b></div><div class=\"sk-container\" hidden><div class=\"sk-item\"><div class=\"sk-estimator sk-toggleable\"><input class=\"sk-toggleable__control sk-hidden--visually\" id=\"sk-estimator-id-1\" type=\"checkbox\" checked><label for=\"sk-estimator-id-1\" class=\"sk-toggleable__label sk-toggleable__label-arrow\">VarianceThreshold</label><div class=\"sk-toggleable__content\"><pre>VarianceThreshold(threshold=1)</pre></div></div></div></div></div>"
            ],
            "text/plain": [
              "VarianceThreshold(threshold=1)"
            ]
          },
          "execution_count": 69,
          "metadata": {},
          "output_type": "execute_result"
        }
      ],
      "source": [
        "vt = VarianceThreshold(threshold=1)\n",
        "vt.fit(X[varc])"
      ]
    },
    {
      "cell_type": "code",
      "execution_count": null,
      "id": "3b91d5c5",
      "metadata": {
        "id": "3b91d5c5",
        "outputId": "24a63d97-8649-4202-c557-be013ae0e390"
      },
      "outputs": [
        {
          "name": "stdout",
          "output_type": "stream",
          "text": [
            "['stays_in_weekend_nights', 'adults', 'children', 'babies', 'previous_cancellations', 'booking_changes', 'required_car_parking_spaces', 'total_of_special_requests']\n"
          ]
        },
        {
          "data": {
            "text/plain": [
              "['lead_time',\n",
              " 'stays_in_week_nights',\n",
              " 'previous_bookings_not_canceled',\n",
              " 'days_in_waiting_list',\n",
              " 'adr']"
            ]
          },
          "execution_count": 70,
          "metadata": {},
          "output_type": "execute_result"
        }
      ],
      "source": [
        "sin_varianza = [v for v,u in zip( varc , vt.get_support() ) if not(u) ]\n",
        "print(sin_varianza)\n",
        "\n",
        "X.drop(sin_varianza, axis=1 , inplace=True)\n",
        "varc = [v for v in varc if v not in sin_varianza]\n",
        "varc"
      ]
    },
    {
      "cell_type": "markdown",
      "id": "5f7dae09",
      "metadata": {
        "id": "5f7dae09"
      },
      "source": [
        "### Valores Extremos"
      ]
    },
    {
      "cell_type": "markdown",
      "id": "b84d4148",
      "metadata": {
        "id": "b84d4148"
      },
      "source": [
        "#### Cerca Percentil"
      ]
    },
    {
      "cell_type": "code",
      "execution_count": null,
      "id": "79a4a835",
      "metadata": {
        "id": "79a4a835"
      },
      "outputs": [],
      "source": [
        "ext = X[varc].describe(percentiles=[0.01,0.99]).T[['1%','99%']].reset_index()\n",
        "for v, li, ls in ext.values:\n",
        "    X[f'ol_{v}'] = ((X[v]<li) | (X[v]>ls)).astype(int)\n",
        "\n",
        "X['ext'] = X.filter(like='ol').max(axis=1)\n",
        "X.drop(X.filter(like='ol_').columns, axis=1, inplace=True)"
      ]
    },
    {
      "cell_type": "code",
      "execution_count": null,
      "id": "9d596be9",
      "metadata": {
        "id": "9d596be9",
        "outputId": "8d65ba08-1d36-4aeb-ecbd-0ed0667321ea"
      },
      "outputs": [
        {
          "data": {
            "text/plain": [
              "0    0.957675\n",
              "1    0.042325\n",
              "Name: ext, dtype: float64"
            ]
          },
          "execution_count": 72,
          "metadata": {},
          "output_type": "execute_result"
        }
      ],
      "source": [
        "X['ext'].value_counts(True)"
      ]
    },
    {
      "cell_type": "markdown",
      "id": "72b08652",
      "metadata": {
        "id": "72b08652"
      },
      "source": [
        "#### Cerca intercuartil"
      ]
    },
    {
      "cell_type": "code",
      "execution_count": null,
      "id": "00fd6412",
      "metadata": {
        "id": "00fd6412"
      },
      "outputs": [],
      "source": [
        "# k=2 (moderado), k=3 (fuerte)\n",
        "k = 2\n",
        "ext = X[varc].describe(percentiles=[0.25,0.75]).T[['25%','75%','mean']].reset_index()\n",
        "ext['IQR'] = ext['75%'] - ext['25%']\n",
        "ext['li']  = ext['mean'] - k*ext['IQR']\n",
        "ext['ls']  = ext['mean'] + k*ext['IQR']\n",
        "ext = ext[['index','li','ls']]"
      ]
    },
    {
      "cell_type": "code",
      "execution_count": null,
      "id": "9b3fcf02",
      "metadata": {
        "id": "9b3fcf02",
        "outputId": "44172970-dea8-4ebe-ace3-11565c86e0f4"
      },
      "outputs": [
        {
          "data": {
            "text/plain": [
              "1    1.0\n",
              "Name: ext_iqr, dtype: float64"
            ]
          },
          "execution_count": 74,
          "metadata": {},
          "output_type": "execute_result"
        }
      ],
      "source": [
        "for v, li, ls in ext.values:\n",
        "    X[f'ol_{v}'] = ((X[v]<li) | (X[v]>ls)  ).astype(int)\n",
        "\n",
        "X['ext_iqr'] = X.filter(like='ol').max(axis=1)\n",
        "X.drop(X.filter(like='ol_').columns, axis=1, inplace=True)\n",
        "X['ext_iqr'].value_counts(True)"
      ]
    },
    {
      "cell_type": "markdown",
      "id": "1ee06536",
      "metadata": {
        "id": "1ee06536"
      },
      "source": [
        "+ **Agregar la unidad muestral antes de la eliminación de registros.**"
      ]
    },
    {
      "cell_type": "code",
      "execution_count": null,
      "id": "6b0cf8a3",
      "metadata": {
        "id": "6b0cf8a3",
        "outputId": "332af9b4-0516-4f65-8467-db3f805df452"
      },
      "outputs": [
        {
          "name": "stdout",
          "output_type": "stream",
          "text": [
            "Dimensiones: (119386, 7) (119386, 57)\n"
          ]
        }
      ],
      "source": [
        "print(\"Dimensiones:\", X.shape, df.shape)"
      ]
    },
    {
      "cell_type": "code",
      "execution_count": null,
      "id": "4f833458",
      "metadata": {
        "id": "4f833458"
      },
      "outputs": [],
      "source": [
        "X[um] = df[um]"
      ]
    },
    {
      "cell_type": "code",
      "execution_count": null,
      "id": "ab9f8d0a",
      "metadata": {
        "id": "ab9f8d0a",
        "outputId": "981b371a-4a3f-416b-cce4-62aa9deb4751"
      },
      "outputs": [
        {
          "data": {
            "text/html": [
              "<div>\n",
              "<style scoped>\n",
              "    .dataframe tbody tr th:only-of-type {\n",
              "        vertical-align: middle;\n",
              "    }\n",
              "\n",
              "    .dataframe tbody tr th {\n",
              "        vertical-align: top;\n",
              "    }\n",
              "\n",
              "    .dataframe thead th {\n",
              "        text-align: right;\n",
              "    }\n",
              "</style>\n",
              "<table border=\"1\" class=\"dataframe\">\n",
              "  <thead>\n",
              "    <tr style=\"text-align: right;\">\n",
              "      <th></th>\n",
              "      <th>lead_time</th>\n",
              "      <th>stays_in_week_nights</th>\n",
              "      <th>previous_bookings_not_canceled</th>\n",
              "      <th>days_in_waiting_list</th>\n",
              "      <th>adr</th>\n",
              "      <th>ext</th>\n",
              "      <th>ext_iqr</th>\n",
              "      <th>id</th>\n",
              "    </tr>\n",
              "  </thead>\n",
              "  <tbody>\n",
              "    <tr>\n",
              "      <th>0</th>\n",
              "      <td>342</td>\n",
              "      <td>0</td>\n",
              "      <td>0</td>\n",
              "      <td>0</td>\n",
              "      <td>0.0</td>\n",
              "      <td>0</td>\n",
              "      <td>1</td>\n",
              "      <td>1</td>\n",
              "    </tr>\n",
              "    <tr>\n",
              "      <th>1</th>\n",
              "      <td>199</td>\n",
              "      <td>2</td>\n",
              "      <td>0</td>\n",
              "      <td>0</td>\n",
              "      <td>95.0</td>\n",
              "      <td>0</td>\n",
              "      <td>1</td>\n",
              "      <td>100574</td>\n",
              "    </tr>\n",
              "  </tbody>\n",
              "</table>\n",
              "</div>"
            ],
            "text/plain": [
              "   lead_time  stays_in_week_nights  previous_bookings_not_canceled  \\\n",
              "0        342                     0                               0   \n",
              "1        199                     2                               0   \n",
              "\n",
              "   days_in_waiting_list   adr  ext  ext_iqr      id  \n",
              "0                     0   0.0    0        1       1  \n",
              "1                     0  95.0    0        1  100574  "
            ]
          },
          "execution_count": 77,
          "metadata": {},
          "output_type": "execute_result"
        }
      ],
      "source": [
        "X.head(2)"
      ]
    },
    {
      "cell_type": "markdown",
      "id": "0684c53c",
      "metadata": {
        "id": "0684c53c"
      },
      "source": [
        "+ **Eliminar valores extremos**"
      ]
    },
    {
      "cell_type": "code",
      "execution_count": null,
      "id": "b5f6585b",
      "metadata": {
        "id": "b5f6585b"
      },
      "outputs": [],
      "source": [
        "X = X.loc[X['ext'] == 0].reset_index(drop=True).drop(['ext','ext_iqr'],axis=1)"
      ]
    },
    {
      "cell_type": "code",
      "execution_count": null,
      "id": "7e5ac04d",
      "metadata": {
        "id": "7e5ac04d",
        "outputId": "e35589b1-d2b1-4ac5-ebcc-0f169ae2b866"
      },
      "outputs": [
        {
          "name": "stdout",
          "output_type": "stream",
          "text": [
            "(114333, 6)\n"
          ]
        }
      ],
      "source": [
        "print(X.shape)"
      ]
    },
    {
      "cell_type": "code",
      "execution_count": null,
      "id": "deb2bf1f",
      "metadata": {
        "id": "deb2bf1f",
        "outputId": "74a8e92e-c419-47ce-a7f4-084ff7ef9716"
      },
      "outputs": [
        {
          "data": {
            "text/html": [
              "<div>\n",
              "<style scoped>\n",
              "    .dataframe tbody tr th:only-of-type {\n",
              "        vertical-align: middle;\n",
              "    }\n",
              "\n",
              "    .dataframe tbody tr th {\n",
              "        vertical-align: top;\n",
              "    }\n",
              "\n",
              "    .dataframe thead th {\n",
              "        text-align: right;\n",
              "    }\n",
              "</style>\n",
              "<table border=\"1\" class=\"dataframe\">\n",
              "  <thead>\n",
              "    <tr style=\"text-align: right;\">\n",
              "      <th></th>\n",
              "      <th>lead_time</th>\n",
              "      <th>stays_in_week_nights</th>\n",
              "      <th>previous_bookings_not_canceled</th>\n",
              "      <th>days_in_waiting_list</th>\n",
              "      <th>adr</th>\n",
              "      <th>id</th>\n",
              "    </tr>\n",
              "  </thead>\n",
              "  <tbody>\n",
              "    <tr>\n",
              "      <th>count</th>\n",
              "      <td>114333.000000</td>\n",
              "      <td>114333.000000</td>\n",
              "      <td>114333.000000</td>\n",
              "      <td>114333.000000</td>\n",
              "      <td>114333.000000</td>\n",
              "      <td>114333.000000</td>\n",
              "    </tr>\n",
              "    <tr>\n",
              "      <th>mean</th>\n",
              "      <td>99.759440</td>\n",
              "      <td>2.462762</td>\n",
              "      <td>0.032021</td>\n",
              "      <td>0.900239</td>\n",
              "      <td>100.852200</td>\n",
              "      <td>59959.309526</td>\n",
              "    </tr>\n",
              "    <tr>\n",
              "      <th>std</th>\n",
              "      <td>98.865893</td>\n",
              "      <td>1.718848</td>\n",
              "      <td>0.241784</td>\n",
              "      <td>6.574790</td>\n",
              "      <td>44.806078</td>\n",
              "      <td>34576.800887</td>\n",
              "    </tr>\n",
              "    <tr>\n",
              "      <th>min</th>\n",
              "      <td>0.000000</td>\n",
              "      <td>0.000000</td>\n",
              "      <td>0.000000</td>\n",
              "      <td>0.000000</td>\n",
              "      <td>0.000000</td>\n",
              "      <td>1.000000</td>\n",
              "    </tr>\n",
              "    <tr>\n",
              "      <th>1%</th>\n",
              "      <td>0.000000</td>\n",
              "      <td>0.000000</td>\n",
              "      <td>0.000000</td>\n",
              "      <td>0.000000</td>\n",
              "      <td>0.000000</td>\n",
              "      <td>1165.320000</td>\n",
              "    </tr>\n",
              "    <tr>\n",
              "      <th>10%</th>\n",
              "      <td>3.000000</td>\n",
              "      <td>1.000000</td>\n",
              "      <td>0.000000</td>\n",
              "      <td>0.000000</td>\n",
              "      <td>50.052000</td>\n",
              "      <td>11811.200000</td>\n",
              "    </tr>\n",
              "    <tr>\n",
              "      <th>50%</th>\n",
              "      <td>68.000000</td>\n",
              "      <td>2.000000</td>\n",
              "      <td>0.000000</td>\n",
              "      <td>0.000000</td>\n",
              "      <td>95.000000</td>\n",
              "      <td>60235.000000</td>\n",
              "    </tr>\n",
              "    <tr>\n",
              "      <th>90%</th>\n",
              "      <td>255.000000</td>\n",
              "      <td>5.000000</td>\n",
              "      <td>0.000000</td>\n",
              "      <td>0.000000</td>\n",
              "      <td>161.100000</td>\n",
              "      <td>107561.800000</td>\n",
              "    </tr>\n",
              "    <tr>\n",
              "      <th>99%</th>\n",
              "      <td>391.000000</td>\n",
              "      <td>9.000000</td>\n",
              "      <td>1.000000</td>\n",
              "      <td>44.000000</td>\n",
              "      <td>230.000000</td>\n",
              "      <td>118120.680000</td>\n",
              "    </tr>\n",
              "    <tr>\n",
              "      <th>max</th>\n",
              "      <td>444.000000</td>\n",
              "      <td>10.000000</td>\n",
              "      <td>3.000000</td>\n",
              "      <td>75.000000</td>\n",
              "      <td>252.000000</td>\n",
              "      <td>119390.000000</td>\n",
              "    </tr>\n",
              "  </tbody>\n",
              "</table>\n",
              "</div>"
            ],
            "text/plain": [
              "           lead_time  stays_in_week_nights  previous_bookings_not_canceled  \\\n",
              "count  114333.000000         114333.000000                   114333.000000   \n",
              "mean       99.759440              2.462762                        0.032021   \n",
              "std        98.865893              1.718848                        0.241784   \n",
              "min         0.000000              0.000000                        0.000000   \n",
              "1%          0.000000              0.000000                        0.000000   \n",
              "10%         3.000000              1.000000                        0.000000   \n",
              "50%        68.000000              2.000000                        0.000000   \n",
              "90%       255.000000              5.000000                        0.000000   \n",
              "99%       391.000000              9.000000                        1.000000   \n",
              "max       444.000000             10.000000                        3.000000   \n",
              "\n",
              "       days_in_waiting_list            adr             id  \n",
              "count         114333.000000  114333.000000  114333.000000  \n",
              "mean               0.900239     100.852200   59959.309526  \n",
              "std                6.574790      44.806078   34576.800887  \n",
              "min                0.000000       0.000000       1.000000  \n",
              "1%                 0.000000       0.000000    1165.320000  \n",
              "10%                0.000000      50.052000   11811.200000  \n",
              "50%                0.000000      95.000000   60235.000000  \n",
              "90%                0.000000     161.100000  107561.800000  \n",
              "99%               44.000000     230.000000  118120.680000  \n",
              "max               75.000000     252.000000  119390.000000  "
            ]
          },
          "execution_count": 80,
          "metadata": {},
          "output_type": "execute_result"
        }
      ],
      "source": [
        "X.describe(percentiles=[0.01,0.1,0.9,0.99])"
      ]
    },
    {
      "cell_type": "code",
      "execution_count": null,
      "id": "e77d1cf7",
      "metadata": {
        "id": "e77d1cf7",
        "outputId": "8a534e46-371e-4d33-be54-f7c77095a25f"
      },
      "outputs": [
        {
          "data": {
            "text/html": [
              "<div>\n",
              "<style scoped>\n",
              "    .dataframe tbody tr th:only-of-type {\n",
              "        vertical-align: middle;\n",
              "    }\n",
              "\n",
              "    .dataframe tbody tr th {\n",
              "        vertical-align: top;\n",
              "    }\n",
              "\n",
              "    .dataframe thead th {\n",
              "        text-align: right;\n",
              "    }\n",
              "</style>\n",
              "<table border=\"1\" class=\"dataframe\">\n",
              "  <thead>\n",
              "    <tr style=\"text-align: right;\">\n",
              "      <th></th>\n",
              "      <th>lead_time</th>\n",
              "      <th>stays_in_week_nights</th>\n",
              "      <th>previous_bookings_not_canceled</th>\n",
              "      <th>days_in_waiting_list</th>\n",
              "      <th>adr</th>\n",
              "      <th>id</th>\n",
              "    </tr>\n",
              "  </thead>\n",
              "  <tbody>\n",
              "    <tr>\n",
              "      <th>0</th>\n",
              "      <td>342</td>\n",
              "      <td>0</td>\n",
              "      <td>0</td>\n",
              "      <td>0</td>\n",
              "      <td>0.0</td>\n",
              "      <td>1</td>\n",
              "    </tr>\n",
              "    <tr>\n",
              "      <th>1</th>\n",
              "      <td>199</td>\n",
              "      <td>2</td>\n",
              "      <td>0</td>\n",
              "      <td>0</td>\n",
              "      <td>95.0</td>\n",
              "      <td>100574</td>\n",
              "    </tr>\n",
              "    <tr>\n",
              "      <th>2</th>\n",
              "      <td>289</td>\n",
              "      <td>2</td>\n",
              "      <td>0</td>\n",
              "      <td>0</td>\n",
              "      <td>69.0</td>\n",
              "      <td>17983</td>\n",
              "    </tr>\n",
              "    <tr>\n",
              "      <th>3</th>\n",
              "      <td>12</td>\n",
              "      <td>1</td>\n",
              "      <td>0</td>\n",
              "      <td>0</td>\n",
              "      <td>159.0</td>\n",
              "      <td>97790</td>\n",
              "    </tr>\n",
              "    <tr>\n",
              "      <th>4</th>\n",
              "      <td>4</td>\n",
              "      <td>2</td>\n",
              "      <td>0</td>\n",
              "      <td>0</td>\n",
              "      <td>64.0</td>\n",
              "      <td>18504</td>\n",
              "    </tr>\n",
              "  </tbody>\n",
              "</table>\n",
              "</div>"
            ],
            "text/plain": [
              "   lead_time  stays_in_week_nights  previous_bookings_not_canceled  \\\n",
              "0        342                     0                               0   \n",
              "1        199                     2                               0   \n",
              "2        289                     2                               0   \n",
              "3         12                     1                               0   \n",
              "4          4                     2                               0   \n",
              "\n",
              "   days_in_waiting_list    adr      id  \n",
              "0                     0    0.0       1  \n",
              "1                     0   95.0  100574  \n",
              "2                     0   69.0   17983  \n",
              "3                     0  159.0   97790  \n",
              "4                     0   64.0   18504  "
            ]
          },
          "execution_count": 81,
          "metadata": {},
          "output_type": "execute_result"
        }
      ],
      "source": [
        "X.head()"
      ]
    },
    {
      "cell_type": "markdown",
      "id": "6426dba0",
      "metadata": {
        "id": "6426dba0"
      },
      "source": [
        "### Análisis Bivariado"
      ]
    },
    {
      "cell_type": "code",
      "execution_count": null,
      "id": "0d03327e",
      "metadata": {
        "id": "0d03327e",
        "outputId": "d4fa51e4-53a9-4c32-fc99-c19b1a061272"
      },
      "outputs": [
        {
          "data": {
            "text/html": [
              "<div>\n",
              "<style scoped>\n",
              "    .dataframe tbody tr th:only-of-type {\n",
              "        vertical-align: middle;\n",
              "    }\n",
              "\n",
              "    .dataframe tbody tr th {\n",
              "        vertical-align: top;\n",
              "    }\n",
              "\n",
              "    .dataframe thead th {\n",
              "        text-align: right;\n",
              "    }\n",
              "</style>\n",
              "<table border=\"1\" class=\"dataframe\">\n",
              "  <thead>\n",
              "    <tr style=\"text-align: right;\">\n",
              "      <th></th>\n",
              "      <th>lead_time</th>\n",
              "      <th>stays_in_week_nights</th>\n",
              "      <th>previous_bookings_not_canceled</th>\n",
              "      <th>days_in_waiting_list</th>\n",
              "      <th>adr</th>\n",
              "    </tr>\n",
              "  </thead>\n",
              "  <tbody>\n",
              "    <tr>\n",
              "      <th>lead_time</th>\n",
              "      <td>1.000000</td>\n",
              "      <td>0.207545</td>\n",
              "      <td>-0.102460</td>\n",
              "      <td>0.099242</td>\n",
              "      <td>-0.044474</td>\n",
              "    </tr>\n",
              "    <tr>\n",
              "      <th>stays_in_week_nights</th>\n",
              "      <td>0.207545</td>\n",
              "      <td>1.000000</td>\n",
              "      <td>-0.071707</td>\n",
              "      <td>-0.016010</td>\n",
              "      <td>0.082742</td>\n",
              "    </tr>\n",
              "    <tr>\n",
              "      <th>previous_bookings_not_canceled</th>\n",
              "      <td>-0.102460</td>\n",
              "      <td>-0.071707</td>\n",
              "      <td>1.000000</td>\n",
              "      <td>-0.012494</td>\n",
              "      <td>-0.097459</td>\n",
              "    </tr>\n",
              "    <tr>\n",
              "      <th>days_in_waiting_list</th>\n",
              "      <td>0.099242</td>\n",
              "      <td>-0.016010</td>\n",
              "      <td>-0.012494</td>\n",
              "      <td>1.000000</td>\n",
              "      <td>-0.027814</td>\n",
              "    </tr>\n",
              "    <tr>\n",
              "      <th>adr</th>\n",
              "      <td>-0.044474</td>\n",
              "      <td>0.082742</td>\n",
              "      <td>-0.097459</td>\n",
              "      <td>-0.027814</td>\n",
              "      <td>1.000000</td>\n",
              "    </tr>\n",
              "  </tbody>\n",
              "</table>\n",
              "</div>"
            ],
            "text/plain": [
              "                                lead_time  stays_in_week_nights  \\\n",
              "lead_time                        1.000000              0.207545   \n",
              "stays_in_week_nights             0.207545              1.000000   \n",
              "previous_bookings_not_canceled  -0.102460             -0.071707   \n",
              "days_in_waiting_list             0.099242             -0.016010   \n",
              "adr                             -0.044474              0.082742   \n",
              "\n",
              "                                previous_bookings_not_canceled  \\\n",
              "lead_time                                            -0.102460   \n",
              "stays_in_week_nights                                 -0.071707   \n",
              "previous_bookings_not_canceled                        1.000000   \n",
              "days_in_waiting_list                                 -0.012494   \n",
              "adr                                                  -0.097459   \n",
              "\n",
              "                                days_in_waiting_list       adr  \n",
              "lead_time                                   0.099242 -0.044474  \n",
              "stays_in_week_nights                       -0.016010  0.082742  \n",
              "previous_bookings_not_canceled             -0.012494 -0.097459  \n",
              "days_in_waiting_list                        1.000000 -0.027814  \n",
              "adr                                        -0.027814  1.000000  "
            ]
          },
          "execution_count": 82,
          "metadata": {},
          "output_type": "execute_result"
        }
      ],
      "source": [
        "X[varc].corr()"
      ]
    },
    {
      "cell_type": "code",
      "execution_count": null,
      "id": "2b5045fa",
      "metadata": {
        "id": "2b5045fa",
        "outputId": "e0c6181d-01a8-46dd-ddf3-fe80a65e6ce5"
      },
      "outputs": [
        {
          "data": {
            "text/plain": [
              "<seaborn.axisgrid.PairGrid at 0x7f128fadd000>"
            ]
          },
          "execution_count": 83,
          "metadata": {},
          "output_type": "execute_result"
        },
        {
          "data": {
            "image/png": "[encoded data removed]",
            "text/plain": [
              "<Figure size 900x900 with 30 Axes>"
            ]
          },
          "metadata": {
            "needs_background": "light"
          },
          "output_type": "display_data"
        }
      ],
      "source": [
        "sns.pairplot(X[varc].sample(1000))"
      ]
    },
    {
      "cell_type": "markdown",
      "id": "a948e9ac",
      "metadata": {
        "id": "a948e9ac"
      },
      "source": [
        "### Multicolinealidad"
      ]
    },
    {
      "cell_type": "code",
      "execution_count": null,
      "id": "68632f73",
      "metadata": {
        "id": "68632f73"
      },
      "outputs": [],
      "source": [
        "vc = VarClusHi( df=X[varc] , feat_list=varc  )"
      ]
    },
    {
      "cell_type": "code",
      "execution_count": null,
      "id": "f7a175a4",
      "metadata": {
        "id": "f7a175a4",
        "outputId": "538bca1e-c838-44c4-8f71-43af4c3a6c5f"
      },
      "outputs": [
        {
          "data": {
            "text/plain": [
              "<varclushi.varclushi.VarClusHi at 0x7f1287971300>"
            ]
          },
          "execution_count": 85,
          "metadata": {},
          "output_type": "execute_result"
        }
      ],
      "source": [
        "vc.varclus()"
      ]
    },
    {
      "cell_type": "code",
      "execution_count": null,
      "id": "ec49e7ab",
      "metadata": {
        "id": "ec49e7ab"
      },
      "outputs": [],
      "source": [
        "rs = vc.rsquare\n",
        "rs = rs.sort_values(by=['Cluster','RS_Ratio'] , ascending=[1,1]).reset_index(drop=True)\n",
        "rs['id'] = rs.groupby('Cluster').cumcount()+1"
      ]
    },
    {
      "cell_type": "code",
      "execution_count": null,
      "id": "81fc3b74",
      "metadata": {
        "id": "81fc3b74",
        "outputId": "6b22bcfe-dbc7-4913-f004-9dea819ac0b3"
      },
      "outputs": [
        {
          "data": {
            "text/html": [
              "<div>\n",
              "<style scoped>\n",
              "    .dataframe tbody tr th:only-of-type {\n",
              "        vertical-align: middle;\n",
              "    }\n",
              "\n",
              "    .dataframe tbody tr th {\n",
              "        vertical-align: top;\n",
              "    }\n",
              "\n",
              "    .dataframe thead th {\n",
              "        text-align: right;\n",
              "    }\n",
              "</style>\n",
              "<table border=\"1\" class=\"dataframe\">\n",
              "  <thead>\n",
              "    <tr style=\"text-align: right;\">\n",
              "      <th></th>\n",
              "      <th>Cluster</th>\n",
              "      <th>Variable</th>\n",
              "      <th>RS_Own</th>\n",
              "      <th>RS_NC</th>\n",
              "      <th>RS_Ratio</th>\n",
              "      <th>id</th>\n",
              "    </tr>\n",
              "  </thead>\n",
              "  <tbody>\n",
              "    <tr>\n",
              "      <th>0</th>\n",
              "      <td>0</td>\n",
              "      <td>lead_time</td>\n",
              "      <td>0.603772</td>\n",
              "      <td>0.009849</td>\n",
              "      <td>0.400169</td>\n",
              "      <td>1</td>\n",
              "    </tr>\n",
              "    <tr>\n",
              "      <th>1</th>\n",
              "      <td>0</td>\n",
              "      <td>stays_in_week_nights</td>\n",
              "      <td>0.603772</td>\n",
              "      <td>0.010868</td>\n",
              "      <td>0.400581</td>\n",
              "      <td>2</td>\n",
              "    </tr>\n",
              "    <tr>\n",
              "      <th>2</th>\n",
              "      <td>1</td>\n",
              "      <td>adr</td>\n",
              "      <td>0.548729</td>\n",
              "      <td>0.000774</td>\n",
              "      <td>0.451620</td>\n",
              "      <td>1</td>\n",
              "    </tr>\n",
              "    <tr>\n",
              "      <th>3</th>\n",
              "      <td>1</td>\n",
              "      <td>previous_bookings_not_canceled</td>\n",
              "      <td>0.548729</td>\n",
              "      <td>0.012560</td>\n",
              "      <td>0.457011</td>\n",
              "      <td>2</td>\n",
              "    </tr>\n",
              "    <tr>\n",
              "      <th>4</th>\n",
              "      <td>2</td>\n",
              "      <td>days_in_waiting_list</td>\n",
              "      <td>1.000000</td>\n",
              "      <td>0.002868</td>\n",
              "      <td>0.000000</td>\n",
              "      <td>1</td>\n",
              "    </tr>\n",
              "  </tbody>\n",
              "</table>\n",
              "</div>"
            ],
            "text/plain": [
              "   Cluster                        Variable    RS_Own     RS_NC  RS_Ratio  id\n",
              "0        0                       lead_time  0.603772  0.009849  0.400169   1\n",
              "1        0            stays_in_week_nights  0.603772  0.010868  0.400581   2\n",
              "2        1                             adr  0.548729  0.000774  0.451620   1\n",
              "3        1  previous_bookings_not_canceled  0.548729  0.012560  0.457011   2\n",
              "4        2            days_in_waiting_list  1.000000  0.002868  0.000000   1"
            ]
          },
          "execution_count": 87,
          "metadata": {},
          "output_type": "execute_result"
        }
      ],
      "source": [
        "rs"
      ]
    },
    {
      "cell_type": "code",
      "execution_count": null,
      "id": "9696a051",
      "metadata": {
        "id": "9696a051"
      },
      "outputs": [],
      "source": [
        "varc = rs.loc[ rs['id'] == 1 ]['Variable'].tolist()"
      ]
    },
    {
      "cell_type": "code",
      "execution_count": null,
      "id": "452225ee",
      "metadata": {
        "id": "452225ee",
        "outputId": "fdd9a6f2-5477-4ea9-ca8e-e426278bfebf"
      },
      "outputs": [
        {
          "data": {
            "text/plain": [
              "array([[<AxesSubplot:title={'center':'lead_time'}>,\n",
              "        <AxesSubplot:title={'center':'adr'}>],\n",
              "       [<AxesSubplot:title={'center':'days_in_waiting_list'}>,\n",
              "        <AxesSubplot:>]], dtype=object)"
            ]
          },
          "execution_count": 89,
          "metadata": {},
          "output_type": "execute_result"
        },
        {
          "data": {
            "image/png": "[encoded data removed]",
            "text/plain": [
              "<Figure size 432x288 with 4 Axes>"
            ]
          },
          "metadata": {
            "needs_background": "light"
          },
          "output_type": "display_data"
        }
      ],
      "source": [
        "X[varc].hist()"
      ]
    },
    {
      "cell_type": "markdown",
      "id": "ba0615e9",
      "metadata": {
        "id": "ba0615e9"
      },
      "source": [
        "### Discretizar"
      ]
    },
    {
      "cell_type": "code",
      "execution_count": null,
      "id": "309e0181",
      "metadata": {
        "id": "309e0181",
        "outputId": "fa982f94-7b5b-405e-bb58-4397a5884c3c"
      },
      "outputs": [
        {
          "data": {
            "text/plain": [
              "['lead_time', 'adr', 'days_in_waiting_list']"
            ]
          },
          "execution_count": 90,
          "metadata": {},
          "output_type": "execute_result"
        }
      ],
      "source": [
        "varc"
      ]
    },
    {
      "cell_type": "code",
      "execution_count": null,
      "id": "48bec704",
      "metadata": {
        "id": "48bec704"
      },
      "outputs": [],
      "source": [
        "def discretizacion(df, v, k):\n",
        "\n",
        "    kb = KBinsDiscretizer( n_bins = k, encode='ordinal', strategy='quantile')\n",
        "    kb.fit(X[[v]])\n",
        "    df[f'd_{v}_{k}'] = pd.cut( X[v], bins=kb.bin_edges_[0], include_lowest=True).astype(str)\n",
        "\n",
        "    return X"
      ]
    },
    {
      "cell_type": "code",
      "execution_count": null,
      "id": "bd1edbc3",
      "metadata": {
        "id": "bd1edbc3",
        "outputId": "af932f58-abb8-4b6a-be2d-7681f643cef8"
      },
      "outputs": [
        {
          "name": "stderr",
          "output_type": "stream",
          "text": [
            "/home/dmz/02_DIPLOMADO_FES/01_MODULO1/JUPYTER_MODULO1/g15m1/lib/python3.10/site-packages/sklearn/preprocessing/_discretization.py:291: UserWarning: Bins whose width are too small (i.e., <= 1e-8) in feature 0 are removed. Consider decreasing the number of bins.\n",
            "  warnings.warn(\n",
            "/home/dmz/02_DIPLOMADO_FES/01_MODULO1/JUPYTER_MODULO1/g15m1/lib/python3.10/site-packages/sklearn/preprocessing/_discretization.py:291: UserWarning: Bins whose width are too small (i.e., <= 1e-8) in feature 0 are removed. Consider decreasing the number of bins.\n",
            "  warnings.warn(\n",
            "/home/dmz/02_DIPLOMADO_FES/01_MODULO1/JUPYTER_MODULO1/g15m1/lib/python3.10/site-packages/sklearn/preprocessing/_discretization.py:291: UserWarning: Bins whose width are too small (i.e., <= 1e-8) in feature 0 are removed. Consider decreasing the number of bins.\n",
            "  warnings.warn(\n",
            "/home/dmz/02_DIPLOMADO_FES/01_MODULO1/JUPYTER_MODULO1/g15m1/lib/python3.10/site-packages/sklearn/preprocessing/_discretization.py:291: UserWarning: Bins whose width are too small (i.e., <= 1e-8) in feature 0 are removed. Consider decreasing the number of bins.\n",
            "  warnings.warn(\n"
          ]
        }
      ],
      "source": [
        "for v in varc:\n",
        "    for k in range(2,6):\n",
        "        X = discretizacion(X,v,k)"
      ]
    },
    {
      "cell_type": "code",
      "execution_count": null,
      "id": "191f094c",
      "metadata": {
        "id": "191f094c",
        "outputId": "6b9d18de-2967-4639-eef0-f18678a5e4dd"
      },
      "outputs": [
        {
          "data": {
            "text/plain": [
              "(114333, 18)"
            ]
          },
          "execution_count": 93,
          "metadata": {},
          "output_type": "execute_result"
        }
      ],
      "source": [
        "X.shape"
      ]
    },
    {
      "cell_type": "code",
      "execution_count": null,
      "id": "16d6d238",
      "metadata": {
        "id": "16d6d238",
        "outputId": "13e192f0-17ce-4fed-af46-93e342714044"
      },
      "outputs": [
        {
          "data": {
            "text/html": [
              "<div>\n",
              "<style scoped>\n",
              "    .dataframe tbody tr th:only-of-type {\n",
              "        vertical-align: middle;\n",
              "    }\n",
              "\n",
              "    .dataframe tbody tr th {\n",
              "        vertical-align: top;\n",
              "    }\n",
              "\n",
              "    .dataframe thead th {\n",
              "        text-align: right;\n",
              "    }\n",
              "</style>\n",
              "<table border=\"1\" class=\"dataframe\">\n",
              "  <thead>\n",
              "    <tr style=\"text-align: right;\">\n",
              "      <th></th>\n",
              "      <th>lead_time</th>\n",
              "      <th>stays_in_week_nights</th>\n",
              "      <th>previous_bookings_not_canceled</th>\n",
              "      <th>days_in_waiting_list</th>\n",
              "      <th>adr</th>\n",
              "      <th>id</th>\n",
              "      <th>d_lead_time_2</th>\n",
              "      <th>d_lead_time_3</th>\n",
              "      <th>d_lead_time_4</th>\n",
              "      <th>d_lead_time_5</th>\n",
              "      <th>d_adr_2</th>\n",
              "      <th>d_adr_3</th>\n",
              "      <th>d_adr_4</th>\n",
              "      <th>d_adr_5</th>\n",
              "      <th>d_days_in_waiting_list_2</th>\n",
              "      <th>d_days_in_waiting_list_3</th>\n",
              "      <th>d_days_in_waiting_list_4</th>\n",
              "      <th>d_days_in_waiting_list_5</th>\n",
              "    </tr>\n",
              "  </thead>\n",
              "  <tbody>\n",
              "    <tr>\n",
              "      <th>0</th>\n",
              "      <td>342</td>\n",
              "      <td>0</td>\n",
              "      <td>0</td>\n",
              "      <td>0</td>\n",
              "      <td>0.0</td>\n",
              "      <td>1</td>\n",
              "      <td>(68.0, 444.0]</td>\n",
              "      <td>(120.0, 444.0]</td>\n",
              "      <td>(156.0, 444.0]</td>\n",
              "      <td>(179.0, 444.0]</td>\n",
              "      <td>(-0.001, 95.0]</td>\n",
              "      <td>(-0.001, 79.05]</td>\n",
              "      <td>(-0.001, 70.0]</td>\n",
              "      <td>(-0.001, 65.0]</td>\n",
              "      <td>(-0.001, 75.0]</td>\n",
              "      <td>(-0.001, 75.0]</td>\n",
              "      <td>(-0.001, 75.0]</td>\n",
              "      <td>(-0.001, 75.0]</td>\n",
              "    </tr>\n",
              "    <tr>\n",
              "      <th>1</th>\n",
              "      <td>199</td>\n",
              "      <td>2</td>\n",
              "      <td>0</td>\n",
              "      <td>0</td>\n",
              "      <td>95.0</td>\n",
              "      <td>100574</td>\n",
              "      <td>(68.0, 444.0]</td>\n",
              "      <td>(120.0, 444.0]</td>\n",
              "      <td>(156.0, 444.0]</td>\n",
              "      <td>(179.0, 444.0]</td>\n",
              "      <td>(-0.001, 95.0]</td>\n",
              "      <td>(79.05, 114.0]</td>\n",
              "      <td>(70.0, 95.0]</td>\n",
              "      <td>(85.248, 105.3]</td>\n",
              "      <td>(-0.001, 75.0]</td>\n",
              "      <td>(-0.001, 75.0]</td>\n",
              "      <td>(-0.001, 75.0]</td>\n",
              "      <td>(-0.001, 75.0]</td>\n",
              "    </tr>\n",
              "    <tr>\n",
              "      <th>2</th>\n",
              "      <td>289</td>\n",
              "      <td>2</td>\n",
              "      <td>0</td>\n",
              "      <td>0</td>\n",
              "      <td>69.0</td>\n",
              "      <td>17983</td>\n",
              "      <td>(68.0, 444.0]</td>\n",
              "      <td>(120.0, 444.0]</td>\n",
              "      <td>(156.0, 444.0]</td>\n",
              "      <td>(179.0, 444.0]</td>\n",
              "      <td>(-0.001, 95.0]</td>\n",
              "      <td>(-0.001, 79.05]</td>\n",
              "      <td>(-0.001, 70.0]</td>\n",
              "      <td>(65.0, 85.248]</td>\n",
              "      <td>(-0.001, 75.0]</td>\n",
              "      <td>(-0.001, 75.0]</td>\n",
              "      <td>(-0.001, 75.0]</td>\n",
              "      <td>(-0.001, 75.0]</td>\n",
              "    </tr>\n",
              "    <tr>\n",
              "      <th>3</th>\n",
              "      <td>12</td>\n",
              "      <td>1</td>\n",
              "      <td>0</td>\n",
              "      <td>0</td>\n",
              "      <td>159.0</td>\n",
              "      <td>97790</td>\n",
              "      <td>(-0.001, 68.0]</td>\n",
              "      <td>(-0.001, 32.0]</td>\n",
              "      <td>(-0.001, 18.0]</td>\n",
              "      <td>(-0.001, 12.0]</td>\n",
              "      <td>(95.0, 252.0]</td>\n",
              "      <td>(114.0, 252.0]</td>\n",
              "      <td>(126.0, 252.0]</td>\n",
              "      <td>(134.3, 252.0]</td>\n",
              "      <td>(-0.001, 75.0]</td>\n",
              "      <td>(-0.001, 75.0]</td>\n",
              "      <td>(-0.001, 75.0]</td>\n",
              "      <td>(-0.001, 75.0]</td>\n",
              "    </tr>\n",
              "    <tr>\n",
              "      <th>4</th>\n",
              "      <td>4</td>\n",
              "      <td>2</td>\n",
              "      <td>0</td>\n",
              "      <td>0</td>\n",
              "      <td>64.0</td>\n",
              "      <td>18504</td>\n",
              "      <td>(-0.001, 68.0]</td>\n",
              "      <td>(-0.001, 32.0]</td>\n",
              "      <td>(-0.001, 18.0]</td>\n",
              "      <td>(-0.001, 12.0]</td>\n",
              "      <td>(-0.001, 95.0]</td>\n",
              "      <td>(-0.001, 79.05]</td>\n",
              "      <td>(-0.001, 70.0]</td>\n",
              "      <td>(-0.001, 65.0]</td>\n",
              "      <td>(-0.001, 75.0]</td>\n",
              "      <td>(-0.001, 75.0]</td>\n",
              "      <td>(-0.001, 75.0]</td>\n",
              "      <td>(-0.001, 75.0]</td>\n",
              "    </tr>\n",
              "  </tbody>\n",
              "</table>\n",
              "</div>"
            ],
            "text/plain": [
              "   lead_time  stays_in_week_nights  previous_bookings_not_canceled  \\\n",
              "0        342                     0                               0   \n",
              "1        199                     2                               0   \n",
              "2        289                     2                               0   \n",
              "3         12                     1                               0   \n",
              "4          4                     2                               0   \n",
              "\n",
              "   days_in_waiting_list    adr      id   d_lead_time_2   d_lead_time_3  \\\n",
              "0                     0    0.0       1   (68.0, 444.0]  (120.0, 444.0]   \n",
              "1                     0   95.0  100574   (68.0, 444.0]  (120.0, 444.0]   \n",
              "2                     0   69.0   17983   (68.0, 444.0]  (120.0, 444.0]   \n",
              "3                     0  159.0   97790  (-0.001, 68.0]  (-0.001, 32.0]   \n",
              "4                     0   64.0   18504  (-0.001, 68.0]  (-0.001, 32.0]   \n",
              "\n",
              "    d_lead_time_4   d_lead_time_5         d_adr_2          d_adr_3  \\\n",
              "0  (156.0, 444.0]  (179.0, 444.0]  (-0.001, 95.0]  (-0.001, 79.05]   \n",
              "1  (156.0, 444.0]  (179.0, 444.0]  (-0.001, 95.0]   (79.05, 114.0]   \n",
              "2  (156.0, 444.0]  (179.0, 444.0]  (-0.001, 95.0]  (-0.001, 79.05]   \n",
              "3  (-0.001, 18.0]  (-0.001, 12.0]   (95.0, 252.0]   (114.0, 252.0]   \n",
              "4  (-0.001, 18.0]  (-0.001, 12.0]  (-0.001, 95.0]  (-0.001, 79.05]   \n",
              "\n",
              "          d_adr_4          d_adr_5 d_days_in_waiting_list_2  \\\n",
              "0  (-0.001, 70.0]   (-0.001, 65.0]           (-0.001, 75.0]   \n",
              "1    (70.0, 95.0]  (85.248, 105.3]           (-0.001, 75.0]   \n",
              "2  (-0.001, 70.0]   (65.0, 85.248]           (-0.001, 75.0]   \n",
              "3  (126.0, 252.0]   (134.3, 252.0]           (-0.001, 75.0]   \n",
              "4  (-0.001, 70.0]   (-0.001, 65.0]           (-0.001, 75.0]   \n",
              "\n",
              "  d_days_in_waiting_list_3 d_days_in_waiting_list_4 d_days_in_waiting_list_5  \n",
              "0           (-0.001, 75.0]           (-0.001, 75.0]           (-0.001, 75.0]  \n",
              "1           (-0.001, 75.0]           (-0.001, 75.0]           (-0.001, 75.0]  \n",
              "2           (-0.001, 75.0]           (-0.001, 75.0]           (-0.001, 75.0]  \n",
              "3           (-0.001, 75.0]           (-0.001, 75.0]           (-0.001, 75.0]  \n",
              "4           (-0.001, 75.0]           (-0.001, 75.0]           (-0.001, 75.0]  "
            ]
          },
          "execution_count": 94,
          "metadata": {},
          "output_type": "execute_result"
        }
      ],
      "source": [
        "X.head()"
      ]
    },
    {
      "cell_type": "code",
      "execution_count": null,
      "id": "1f6e39a9",
      "metadata": {
        "id": "1f6e39a9"
      },
      "outputs": [],
      "source": [
        "vari = X.filter(like='d_').columns.to_list()"
      ]
    },
    {
      "cell_type": "code",
      "execution_count": null,
      "id": "ccc80f54",
      "metadata": {
        "id": "ccc80f54",
        "outputId": "654b1852-f279-4b5e-c768-3eb86f552cd3"
      },
      "outputs": [
        {
          "data": {
            "text/plain": [
              "(13,\n",
              " ['lead_time',\n",
              "  'd_lead_time_2',\n",
              "  'd_lead_time_3',\n",
              "  'd_lead_time_4',\n",
              "  'd_lead_time_5',\n",
              "  'd_adr_2',\n",
              "  'd_adr_3',\n",
              "  'd_adr_4',\n",
              "  'd_adr_5',\n",
              "  'd_days_in_waiting_list_2',\n",
              "  'd_days_in_waiting_list_3',\n",
              "  'd_days_in_waiting_list_4',\n",
              "  'd_days_in_waiting_list_5'])"
            ]
          },
          "execution_count": 96,
          "metadata": {},
          "output_type": "execute_result"
        }
      ],
      "source": [
        "len(vari), vari"
      ]
    },
    {
      "cell_type": "markdown",
      "id": "6d91371e",
      "metadata": {
        "id": "6d91371e"
      },
      "source": [
        "### Función-IV"
      ]
    },
    {
      "cell_type": "code",
      "execution_count": null,
      "id": "471563f9",
      "metadata": {
        "id": "471563f9"
      },
      "outputs": [],
      "source": [
        "def calcula_iv(df, v, tgt):\n",
        "    aux = df.pivot_table( index = v,\n",
        "                           columns = tgt,\n",
        "                            values = um[0],\n",
        "                            aggfunc = 'count',\n",
        "                            fill_value = 0 )\n",
        "\n",
        "    aux[list(range(2))] = aux/aux.apply(np.sum)\n",
        "    aux['w'] = np.log( aux[0] / aux[1])\n",
        "    aux['iv'] = (aux[0] - aux[1]) * aux['w']\n",
        "\n",
        "    return v, aux['iv'].sum()"
      ]
    },
    {
      "cell_type": "markdown",
      "id": "85db64ea",
      "metadata": {
        "id": "85db64ea"
      },
      "source": [
        "### Poder Predictivo"
      ]
    },
    {
      "cell_type": "markdown",
      "id": "585b7c0d",
      "metadata": {
        "id": "585b7c0d"
      },
      "source": [
        "#### Construir X, y"
      ]
    },
    {
      "cell_type": "code",
      "execution_count": null,
      "id": "143c7a46",
      "metadata": {
        "id": "143c7a46"
      },
      "outputs": [],
      "source": [
        "X = X[um+vari].merge(  df[um+varn] , on = um , how='left' ).reset_index(drop=True)\n",
        "y = X[um].merge(df[um+tgt], on=um, how='left').reset_index(drop=True)"
      ]
    },
    {
      "cell_type": "code",
      "execution_count": null,
      "id": "a94ed94c",
      "metadata": {
        "cell_style": "split",
        "id": "a94ed94c",
        "outputId": "bb052e7a-a122-4643-ee29-9e34f32883ca"
      },
      "outputs": [
        {
          "data": {
            "text/html": [
              "<div>\n",
              "<style scoped>\n",
              "    .dataframe tbody tr th:only-of-type {\n",
              "        vertical-align: middle;\n",
              "    }\n",
              "\n",
              "    .dataframe tbody tr th {\n",
              "        vertical-align: top;\n",
              "    }\n",
              "\n",
              "    .dataframe thead th {\n",
              "        text-align: right;\n",
              "    }\n",
              "</style>\n",
              "<table border=\"1\" class=\"dataframe\">\n",
              "  <thead>\n",
              "    <tr style=\"text-align: right;\">\n",
              "      <th></th>\n",
              "      <th>id</th>\n",
              "      <th>lead_time</th>\n",
              "      <th>d_lead_time_2</th>\n",
              "      <th>d_lead_time_3</th>\n",
              "      <th>d_lead_time_4</th>\n",
              "      <th>d_lead_time_5</th>\n",
              "      <th>d_adr_2</th>\n",
              "      <th>d_adr_3</th>\n",
              "      <th>d_adr_4</th>\n",
              "      <th>d_adr_5</th>\n",
              "      <th>d_days_in_waiting_list_2</th>\n",
              "      <th>d_days_in_waiting_list_3</th>\n",
              "      <th>d_days_in_waiting_list_4</th>\n",
              "      <th>d_days_in_waiting_list_5</th>\n",
              "      <th>norm_hotel</th>\n",
              "      <th>norm_arrival_date_year</th>\n",
              "      <th>norm_arrival_date_month</th>\n",
              "      <th>norm_arrival_date_day_of_month</th>\n",
              "      <th>norm_meal</th>\n",
              "      <th>norm_country</th>\n",
              "      <th>norm_market_segment</th>\n",
              "      <th>norm_distribution_channel</th>\n",
              "      <th>norm_is_repeated_guest</th>\n",
              "      <th>norm_reserved_room_type</th>\n",
              "      <th>norm_assigned_room_type</th>\n",
              "      <th>norm_deposit_type</th>\n",
              "      <th>norm_agent</th>\n",
              "      <th>norm_customer_type</th>\n",
              "      <th>norm_reservation_status</th>\n",
              "    </tr>\n",
              "  </thead>\n",
              "  <tbody>\n",
              "    <tr>\n",
              "      <th>0</th>\n",
              "      <td>1</td>\n",
              "      <td>342</td>\n",
              "      <td>(68.0, 444.0]</td>\n",
              "      <td>(120.0, 444.0]</td>\n",
              "      <td>(156.0, 444.0]</td>\n",
              "      <td>(179.0, 444.0]</td>\n",
              "      <td>(-0.001, 95.0]</td>\n",
              "      <td>(-0.001, 79.05]</td>\n",
              "      <td>(-0.001, 70.0]</td>\n",
              "      <td>(-0.001, 65.0]</td>\n",
              "      <td>(-0.001, 75.0]</td>\n",
              "      <td>(-0.001, 75.0]</td>\n",
              "      <td>(-0.001, 75.0]</td>\n",
              "      <td>(-0.001, 75.0]</td>\n",
              "      <td>Resort Hotel</td>\n",
              "      <td>2015</td>\n",
              "      <td>July</td>\n",
              "      <td>1</td>\n",
              "      <td>BB</td>\n",
              "      <td>PRT</td>\n",
              "      <td>Direct</td>\n",
              "      <td>Direct</td>\n",
              "      <td>0</td>\n",
              "      <td>CATEG_PEQUENAS</td>\n",
              "      <td>CATEG_PEQUENAS</td>\n",
              "      <td>No Deposit</td>\n",
              "      <td>SIN CATEGORIA</td>\n",
              "      <td>Transient</td>\n",
              "      <td>Check-Out</td>\n",
              "    </tr>\n",
              "    <tr>\n",
              "      <th>1</th>\n",
              "      <td>100574</td>\n",
              "      <td>199</td>\n",
              "      <td>(68.0, 444.0]</td>\n",
              "      <td>(120.0, 444.0]</td>\n",
              "      <td>(156.0, 444.0]</td>\n",
              "      <td>(179.0, 444.0]</td>\n",
              "      <td>(-0.001, 95.0]</td>\n",
              "      <td>(79.05, 114.0]</td>\n",
              "      <td>(70.0, 95.0]</td>\n",
              "      <td>(85.248, 105.3]</td>\n",
              "      <td>(-0.001, 75.0]</td>\n",
              "      <td>(-0.001, 75.0]</td>\n",
              "      <td>(-0.001, 75.0]</td>\n",
              "      <td>(-0.001, 75.0]</td>\n",
              "      <td>City Hotel</td>\n",
              "      <td>2016</td>\n",
              "      <td>October</td>\n",
              "      <td>28</td>\n",
              "      <td>BB</td>\n",
              "      <td>FRA</td>\n",
              "      <td>Groups</td>\n",
              "      <td>TA/TO</td>\n",
              "      <td>0</td>\n",
              "      <td>A</td>\n",
              "      <td>A</td>\n",
              "      <td>No Deposit</td>\n",
              "      <td>CATEG_PEQUENAS</td>\n",
              "      <td>Transient-Party</td>\n",
              "      <td>Check-Out</td>\n",
              "    </tr>\n",
              "    <tr>\n",
              "      <th>2</th>\n",
              "      <td>17983</td>\n",
              "      <td>289</td>\n",
              "      <td>(68.0, 444.0]</td>\n",
              "      <td>(120.0, 444.0]</td>\n",
              "      <td>(156.0, 444.0]</td>\n",
              "      <td>(179.0, 444.0]</td>\n",
              "      <td>(-0.001, 95.0]</td>\n",
              "      <td>(-0.001, 79.05]</td>\n",
              "      <td>(-0.001, 70.0]</td>\n",
              "      <td>(65.0, 85.248]</td>\n",
              "      <td>(-0.001, 75.0]</td>\n",
              "      <td>(-0.001, 75.0]</td>\n",
              "      <td>(-0.001, 75.0]</td>\n",
              "      <td>(-0.001, 75.0]</td>\n",
              "      <td>Resort Hotel</td>\n",
              "      <td>2015</td>\n",
              "      <td>November</td>\n",
              "      <td>20</td>\n",
              "      <td>BB</td>\n",
              "      <td>PRT</td>\n",
              "      <td>Groups</td>\n",
              "      <td>TA/TO</td>\n",
              "      <td>0</td>\n",
              "      <td>A</td>\n",
              "      <td>A</td>\n",
              "      <td>No Deposit</td>\n",
              "      <td>CATEG_PEQUENAS</td>\n",
              "      <td>Transient-Party</td>\n",
              "      <td>Canceled</td>\n",
              "    </tr>\n",
              "    <tr>\n",
              "      <th>3</th>\n",
              "      <td>97790</td>\n",
              "      <td>12</td>\n",
              "      <td>(-0.001, 68.0]</td>\n",
              "      <td>(-0.001, 32.0]</td>\n",
              "      <td>(-0.001, 18.0]</td>\n",
              "      <td>(-0.001, 12.0]</td>\n",
              "      <td>(95.0, 252.0]</td>\n",
              "      <td>(114.0, 252.0]</td>\n",
              "      <td>(126.0, 252.0]</td>\n",
              "      <td>(134.3, 252.0]</td>\n",
              "      <td>(-0.001, 75.0]</td>\n",
              "      <td>(-0.001, 75.0]</td>\n",
              "      <td>(-0.001, 75.0]</td>\n",
              "      <td>(-0.001, 75.0]</td>\n",
              "      <td>City Hotel</td>\n",
              "      <td>2016</td>\n",
              "      <td>September</td>\n",
              "      <td>19</td>\n",
              "      <td>BB</td>\n",
              "      <td>CATEG_PEQUENAS</td>\n",
              "      <td>Online TA</td>\n",
              "      <td>TA/TO</td>\n",
              "      <td>0</td>\n",
              "      <td>A</td>\n",
              "      <td>A</td>\n",
              "      <td>No Deposit</td>\n",
              "      <td>9</td>\n",
              "      <td>Transient</td>\n",
              "      <td>Check-Out</td>\n",
              "    </tr>\n",
              "    <tr>\n",
              "      <th>4</th>\n",
              "      <td>18504</td>\n",
              "      <td>4</td>\n",
              "      <td>(-0.001, 68.0]</td>\n",
              "      <td>(-0.001, 32.0]</td>\n",
              "      <td>(-0.001, 18.0]</td>\n",
              "      <td>(-0.001, 12.0]</td>\n",
              "      <td>(-0.001, 95.0]</td>\n",
              "      <td>(-0.001, 79.05]</td>\n",
              "      <td>(-0.001, 70.0]</td>\n",
              "      <td>(-0.001, 65.0]</td>\n",
              "      <td>(-0.001, 75.0]</td>\n",
              "      <td>(-0.001, 75.0]</td>\n",
              "      <td>(-0.001, 75.0]</td>\n",
              "      <td>(-0.001, 75.0]</td>\n",
              "      <td>Resort Hotel</td>\n",
              "      <td>2015</td>\n",
              "      <td>November</td>\n",
              "      <td>20</td>\n",
              "      <td>BB</td>\n",
              "      <td>CATEG_PEQUENAS</td>\n",
              "      <td>Online TA</td>\n",
              "      <td>TA/TO</td>\n",
              "      <td>0</td>\n",
              "      <td>D</td>\n",
              "      <td>D</td>\n",
              "      <td>No Deposit</td>\n",
              "      <td>240</td>\n",
              "      <td>Transient</td>\n",
              "      <td>Check-Out</td>\n",
              "    </tr>\n",
              "  </tbody>\n",
              "</table>\n",
              "</div>"
            ],
            "text/plain": [
              "       id  lead_time   d_lead_time_2   d_lead_time_3   d_lead_time_4  \\\n",
              "0       1        342   (68.0, 444.0]  (120.0, 444.0]  (156.0, 444.0]   \n",
              "1  100574        199   (68.0, 444.0]  (120.0, 444.0]  (156.0, 444.0]   \n",
              "2   17983        289   (68.0, 444.0]  (120.0, 444.0]  (156.0, 444.0]   \n",
              "3   97790         12  (-0.001, 68.0]  (-0.001, 32.0]  (-0.001, 18.0]   \n",
              "4   18504          4  (-0.001, 68.0]  (-0.001, 32.0]  (-0.001, 18.0]   \n",
              "\n",
              "    d_lead_time_5         d_adr_2          d_adr_3         d_adr_4  \\\n",
              "0  (179.0, 444.0]  (-0.001, 95.0]  (-0.001, 79.05]  (-0.001, 70.0]   \n",
              "1  (179.0, 444.0]  (-0.001, 95.0]   (79.05, 114.0]    (70.0, 95.0]   \n",
              "2  (179.0, 444.0]  (-0.001, 95.0]  (-0.001, 79.05]  (-0.001, 70.0]   \n",
              "3  (-0.001, 12.0]   (95.0, 252.0]   (114.0, 252.0]  (126.0, 252.0]   \n",
              "4  (-0.001, 12.0]  (-0.001, 95.0]  (-0.001, 79.05]  (-0.001, 70.0]   \n",
              "\n",
              "           d_adr_5 d_days_in_waiting_list_2 d_days_in_waiting_list_3  \\\n",
              "0   (-0.001, 65.0]           (-0.001, 75.0]           (-0.001, 75.0]   \n",
              "1  (85.248, 105.3]           (-0.001, 75.0]           (-0.001, 75.0]   \n",
              "2   (65.0, 85.248]           (-0.001, 75.0]           (-0.001, 75.0]   \n",
              "3   (134.3, 252.0]           (-0.001, 75.0]           (-0.001, 75.0]   \n",
              "4   (-0.001, 65.0]           (-0.001, 75.0]           (-0.001, 75.0]   \n",
              "\n",
              "  d_days_in_waiting_list_4 d_days_in_waiting_list_5    norm_hotel  \\\n",
              "0           (-0.001, 75.0]           (-0.001, 75.0]  Resort Hotel   \n",
              "1           (-0.001, 75.0]           (-0.001, 75.0]    City Hotel   \n",
              "2           (-0.001, 75.0]           (-0.001, 75.0]  Resort Hotel   \n",
              "3           (-0.001, 75.0]           (-0.001, 75.0]    City Hotel   \n",
              "4           (-0.001, 75.0]           (-0.001, 75.0]  Resort Hotel   \n",
              "\n",
              "  norm_arrival_date_year norm_arrival_date_month  \\\n",
              "0                   2015                    July   \n",
              "1                   2016                 October   \n",
              "2                   2015                November   \n",
              "3                   2016               September   \n",
              "4                   2015                November   \n",
              "\n",
              "  norm_arrival_date_day_of_month norm_meal    norm_country  \\\n",
              "0                              1        BB             PRT   \n",
              "1                             28        BB             FRA   \n",
              "2                             20        BB             PRT   \n",
              "3                             19        BB  CATEG_PEQUENAS   \n",
              "4                             20        BB  CATEG_PEQUENAS   \n",
              "\n",
              "  norm_market_segment norm_distribution_channel norm_is_repeated_guest  \\\n",
              "0              Direct                    Direct                      0   \n",
              "1              Groups                     TA/TO                      0   \n",
              "2              Groups                     TA/TO                      0   \n",
              "3           Online TA                     TA/TO                      0   \n",
              "4           Online TA                     TA/TO                      0   \n",
              "\n",
              "  norm_reserved_room_type norm_assigned_room_type norm_deposit_type  \\\n",
              "0          CATEG_PEQUENAS          CATEG_PEQUENAS        No Deposit   \n",
              "1                       A                       A        No Deposit   \n",
              "2                       A                       A        No Deposit   \n",
              "3                       A                       A        No Deposit   \n",
              "4                       D                       D        No Deposit   \n",
              "\n",
              "       norm_agent norm_customer_type norm_reservation_status  \n",
              "0   SIN CATEGORIA          Transient               Check-Out  \n",
              "1  CATEG_PEQUENAS    Transient-Party               Check-Out  \n",
              "2  CATEG_PEQUENAS    Transient-Party                Canceled  \n",
              "3               9          Transient               Check-Out  \n",
              "4             240          Transient               Check-Out  "
            ]
          },
          "execution_count": 99,
          "metadata": {},
          "output_type": "execute_result"
        }
      ],
      "source": [
        "X.head()"
      ]
    },
    {
      "cell_type": "code",
      "execution_count": null,
      "id": "c61ca3b8",
      "metadata": {
        "cell_style": "split",
        "id": "c61ca3b8",
        "outputId": "51b02481-8f7c-4cc4-d197-1a534ee1ff36"
      },
      "outputs": [
        {
          "data": {
            "text/html": [
              "<div>\n",
              "<style scoped>\n",
              "    .dataframe tbody tr th:only-of-type {\n",
              "        vertical-align: middle;\n",
              "    }\n",
              "\n",
              "    .dataframe tbody tr th {\n",
              "        vertical-align: top;\n",
              "    }\n",
              "\n",
              "    .dataframe thead th {\n",
              "        text-align: right;\n",
              "    }\n",
              "</style>\n",
              "<table border=\"1\" class=\"dataframe\">\n",
              "  <thead>\n",
              "    <tr style=\"text-align: right;\">\n",
              "      <th></th>\n",
              "      <th>id</th>\n",
              "      <th>is_canceled</th>\n",
              "    </tr>\n",
              "  </thead>\n",
              "  <tbody>\n",
              "    <tr>\n",
              "      <th>0</th>\n",
              "      <td>1</td>\n",
              "      <td>0</td>\n",
              "    </tr>\n",
              "    <tr>\n",
              "      <th>1</th>\n",
              "      <td>100574</td>\n",
              "      <td>0</td>\n",
              "    </tr>\n",
              "    <tr>\n",
              "      <th>2</th>\n",
              "      <td>17983</td>\n",
              "      <td>1</td>\n",
              "    </tr>\n",
              "    <tr>\n",
              "      <th>3</th>\n",
              "      <td>97790</td>\n",
              "      <td>0</td>\n",
              "    </tr>\n",
              "    <tr>\n",
              "      <th>4</th>\n",
              "      <td>18504</td>\n",
              "      <td>0</td>\n",
              "    </tr>\n",
              "  </tbody>\n",
              "</table>\n",
              "</div>"
            ],
            "text/plain": [
              "       id  is_canceled\n",
              "0       1            0\n",
              "1  100574            0\n",
              "2   17983            1\n",
              "3   97790            0\n",
              "4   18504            0"
            ]
          },
          "execution_count": 100,
          "metadata": {},
          "output_type": "execute_result"
        }
      ],
      "source": [
        "y.head()"
      ]
    },
    {
      "cell_type": "code",
      "execution_count": null,
      "id": "9090ea59",
      "metadata": {
        "id": "9090ea59",
        "outputId": "be3db996-a082-4098-ba5c-07e96f3366cc"
      },
      "outputs": [
        {
          "data": {
            "text/plain": [
              "((114333, 29), (114333, 2))"
            ]
          },
          "execution_count": 101,
          "metadata": {},
          "output_type": "execute_result"
        }
      ],
      "source": [
        "X.shape, y.shape"
      ]
    },
    {
      "cell_type": "markdown",
      "id": "5369ad4b",
      "metadata": {
        "id": "5369ad4b"
      },
      "source": [
        "+ **Separar Datos**"
      ]
    },
    {
      "cell_type": "code",
      "execution_count": null,
      "id": "fdbe86c7",
      "metadata": {
        "id": "fdbe86c7"
      },
      "outputs": [],
      "source": [
        "Xt , Xv , yt , yv = train_test_split(X, y, train_size=0.7, random_state=2000 )"
      ]
    },
    {
      "cell_type": "code",
      "execution_count": null,
      "id": "d91a0abb",
      "metadata": {
        "id": "d91a0abb",
        "outputId": "827a1ae4-e878-49a0-8206-0aa7000c55be"
      },
      "outputs": [
        {
          "data": {
            "text/plain": [
              "((80033, 29), (80033, 2), (34300, 29), (34300, 2))"
            ]
          },
          "execution_count": 103,
          "metadata": {},
          "output_type": "execute_result"
        }
      ],
      "source": [
        "Xt.shape, yt.shape , Xv.shape , yv.shape"
      ]
    },
    {
      "cell_type": "code",
      "execution_count": null,
      "id": "868d35e8",
      "metadata": {
        "id": "868d35e8"
      },
      "outputs": [],
      "source": [
        "Xt = Xt.merge( yt, on=um, how='inner' ).reset_index(drop=True)"
      ]
    },
    {
      "cell_type": "code",
      "execution_count": null,
      "id": "af23061c",
      "metadata": {
        "id": "af23061c",
        "outputId": "45b2fa2f-cc0f-4a84-ecf5-a75cb66f4e3b"
      },
      "outputs": [
        {
          "data": {
            "text/html": [
              "<div>\n",
              "<style scoped>\n",
              "    .dataframe tbody tr th:only-of-type {\n",
              "        vertical-align: middle;\n",
              "    }\n",
              "\n",
              "    .dataframe tbody tr th {\n",
              "        vertical-align: top;\n",
              "    }\n",
              "\n",
              "    .dataframe thead th {\n",
              "        text-align: right;\n",
              "    }\n",
              "</style>\n",
              "<table border=\"1\" class=\"dataframe\">\n",
              "  <thead>\n",
              "    <tr style=\"text-align: right;\">\n",
              "      <th></th>\n",
              "      <th>id</th>\n",
              "      <th>lead_time</th>\n",
              "      <th>d_lead_time_2</th>\n",
              "      <th>d_lead_time_3</th>\n",
              "      <th>d_lead_time_4</th>\n",
              "      <th>d_lead_time_5</th>\n",
              "      <th>d_adr_2</th>\n",
              "      <th>d_adr_3</th>\n",
              "      <th>d_adr_4</th>\n",
              "      <th>d_adr_5</th>\n",
              "      <th>d_days_in_waiting_list_2</th>\n",
              "      <th>d_days_in_waiting_list_3</th>\n",
              "      <th>d_days_in_waiting_list_4</th>\n",
              "      <th>d_days_in_waiting_list_5</th>\n",
              "      <th>norm_hotel</th>\n",
              "      <th>norm_arrival_date_year</th>\n",
              "      <th>norm_arrival_date_month</th>\n",
              "      <th>norm_arrival_date_day_of_month</th>\n",
              "      <th>norm_meal</th>\n",
              "      <th>norm_country</th>\n",
              "      <th>norm_market_segment</th>\n",
              "      <th>norm_distribution_channel</th>\n",
              "      <th>norm_is_repeated_guest</th>\n",
              "      <th>norm_reserved_room_type</th>\n",
              "      <th>norm_assigned_room_type</th>\n",
              "      <th>norm_deposit_type</th>\n",
              "      <th>norm_agent</th>\n",
              "      <th>norm_customer_type</th>\n",
              "      <th>norm_reservation_status</th>\n",
              "      <th>is_canceled</th>\n",
              "    </tr>\n",
              "  </thead>\n",
              "  <tbody>\n",
              "    <tr>\n",
              "      <th>0</th>\n",
              "      <td>10860</td>\n",
              "      <td>351</td>\n",
              "      <td>(68.0, 444.0]</td>\n",
              "      <td>(120.0, 444.0]</td>\n",
              "      <td>(156.0, 444.0]</td>\n",
              "      <td>(179.0, 444.0]</td>\n",
              "      <td>(-0.001, 95.0]</td>\n",
              "      <td>(79.05, 114.0]</td>\n",
              "      <td>(70.0, 95.0]</td>\n",
              "      <td>(65.0, 85.248]</td>\n",
              "      <td>(-0.001, 75.0]</td>\n",
              "      <td>(-0.001, 75.0]</td>\n",
              "      <td>(-0.001, 75.0]</td>\n",
              "      <td>(-0.001, 75.0]</td>\n",
              "      <td>Resort Hotel</td>\n",
              "      <td>2017</td>\n",
              "      <td>April</td>\n",
              "      <td>8</td>\n",
              "      <td>HB</td>\n",
              "      <td>PRT</td>\n",
              "      <td>Groups</td>\n",
              "      <td>TA/TO</td>\n",
              "      <td>0</td>\n",
              "      <td>D</td>\n",
              "      <td>D</td>\n",
              "      <td>No Deposit</td>\n",
              "      <td>CATEG_PEQUENAS</td>\n",
              "      <td>Transient-Party</td>\n",
              "      <td>Canceled</td>\n",
              "      <td>1</td>\n",
              "    </tr>\n",
              "    <tr>\n",
              "      <th>1</th>\n",
              "      <td>64573</td>\n",
              "      <td>52</td>\n",
              "      <td>(-0.001, 68.0]</td>\n",
              "      <td>(32.0, 120.0]</td>\n",
              "      <td>(18.0, 68.0]</td>\n",
              "      <td>(44.0, 97.0]</td>\n",
              "      <td>(-0.001, 95.0]</td>\n",
              "      <td>(79.05, 114.0]</td>\n",
              "      <td>(70.0, 95.0]</td>\n",
              "      <td>(65.0, 85.248]</td>\n",
              "      <td>(-0.001, 75.0]</td>\n",
              "      <td>(-0.001, 75.0]</td>\n",
              "      <td>(-0.001, 75.0]</td>\n",
              "      <td>(-0.001, 75.0]</td>\n",
              "      <td>City Hotel</td>\n",
              "      <td>2017</td>\n",
              "      <td>March</td>\n",
              "      <td>13</td>\n",
              "      <td>BB</td>\n",
              "      <td>PRT</td>\n",
              "      <td>Offline TA/TO</td>\n",
              "      <td>TA/TO</td>\n",
              "      <td>0</td>\n",
              "      <td>A</td>\n",
              "      <td>A</td>\n",
              "      <td>Non Refund</td>\n",
              "      <td>CATEG_PEQUENAS</td>\n",
              "      <td>Transient</td>\n",
              "      <td>Canceled</td>\n",
              "      <td>1</td>\n",
              "    </tr>\n",
              "    <tr>\n",
              "      <th>2</th>\n",
              "      <td>103104</td>\n",
              "      <td>18</td>\n",
              "      <td>(-0.001, 68.0]</td>\n",
              "      <td>(-0.001, 32.0]</td>\n",
              "      <td>(-0.001, 18.0]</td>\n",
              "      <td>(12.0, 44.0]</td>\n",
              "      <td>(-0.001, 95.0]</td>\n",
              "      <td>(79.05, 114.0]</td>\n",
              "      <td>(70.0, 95.0]</td>\n",
              "      <td>(65.0, 85.248]</td>\n",
              "      <td>(-0.001, 75.0]</td>\n",
              "      <td>(-0.001, 75.0]</td>\n",
              "      <td>(-0.001, 75.0]</td>\n",
              "      <td>(-0.001, 75.0]</td>\n",
              "      <td>City Hotel</td>\n",
              "      <td>2016</td>\n",
              "      <td>December</td>\n",
              "      <td>11</td>\n",
              "      <td>BB</td>\n",
              "      <td>PRT</td>\n",
              "      <td>Offline TA/TO</td>\n",
              "      <td>TA/TO</td>\n",
              "      <td>0</td>\n",
              "      <td>A</td>\n",
              "      <td>A</td>\n",
              "      <td>No Deposit</td>\n",
              "      <td>CATEG_PEQUENAS</td>\n",
              "      <td>Transient-Party</td>\n",
              "      <td>Check-Out</td>\n",
              "      <td>0</td>\n",
              "    </tr>\n",
              "    <tr>\n",
              "      <th>3</th>\n",
              "      <td>7230</td>\n",
              "      <td>324</td>\n",
              "      <td>(68.0, 444.0]</td>\n",
              "      <td>(120.0, 444.0]</td>\n",
              "      <td>(156.0, 444.0]</td>\n",
              "      <td>(179.0, 444.0]</td>\n",
              "      <td>(95.0, 252.0]</td>\n",
              "      <td>(114.0, 252.0]</td>\n",
              "      <td>(126.0, 252.0]</td>\n",
              "      <td>(105.3, 134.3]</td>\n",
              "      <td>(-0.001, 75.0]</td>\n",
              "      <td>(-0.001, 75.0]</td>\n",
              "      <td>(-0.001, 75.0]</td>\n",
              "      <td>(-0.001, 75.0]</td>\n",
              "      <td>Resort Hotel</td>\n",
              "      <td>2016</td>\n",
              "      <td>July</td>\n",
              "      <td>CATEG_PEQUENAS</td>\n",
              "      <td>BB</td>\n",
              "      <td>CATEG_PEQUENAS</td>\n",
              "      <td>Online TA</td>\n",
              "      <td>TA/TO</td>\n",
              "      <td>0</td>\n",
              "      <td>A</td>\n",
              "      <td>A</td>\n",
              "      <td>No Deposit</td>\n",
              "      <td>240</td>\n",
              "      <td>Transient</td>\n",
              "      <td>Check-Out</td>\n",
              "      <td>0</td>\n",
              "    </tr>\n",
              "    <tr>\n",
              "      <th>4</th>\n",
              "      <td>55688</td>\n",
              "      <td>291</td>\n",
              "      <td>(68.0, 444.0]</td>\n",
              "      <td>(120.0, 444.0]</td>\n",
              "      <td>(156.0, 444.0]</td>\n",
              "      <td>(179.0, 444.0]</td>\n",
              "      <td>(95.0, 252.0]</td>\n",
              "      <td>(114.0, 252.0]</td>\n",
              "      <td>(95.0, 126.0]</td>\n",
              "      <td>(105.3, 134.3]</td>\n",
              "      <td>(-0.001, 75.0]</td>\n",
              "      <td>(-0.001, 75.0]</td>\n",
              "      <td>(-0.001, 75.0]</td>\n",
              "      <td>(-0.001, 75.0]</td>\n",
              "      <td>City Hotel</td>\n",
              "      <td>2016</td>\n",
              "      <td>August</td>\n",
              "      <td>19</td>\n",
              "      <td>HB</td>\n",
              "      <td>PRT</td>\n",
              "      <td>Offline TA/TO</td>\n",
              "      <td>TA/TO</td>\n",
              "      <td>0</td>\n",
              "      <td>A</td>\n",
              "      <td>A</td>\n",
              "      <td>Non Refund</td>\n",
              "      <td>CATEG_PEQUENAS</td>\n",
              "      <td>Transient</td>\n",
              "      <td>Canceled</td>\n",
              "      <td>1</td>\n",
              "    </tr>\n",
              "  </tbody>\n",
              "</table>\n",
              "</div>"
            ],
            "text/plain": [
              "       id  lead_time   d_lead_time_2   d_lead_time_3   d_lead_time_4  \\\n",
              "0   10860        351   (68.0, 444.0]  (120.0, 444.0]  (156.0, 444.0]   \n",
              "1   64573         52  (-0.001, 68.0]   (32.0, 120.0]    (18.0, 68.0]   \n",
              "2  103104         18  (-0.001, 68.0]  (-0.001, 32.0]  (-0.001, 18.0]   \n",
              "3    7230        324   (68.0, 444.0]  (120.0, 444.0]  (156.0, 444.0]   \n",
              "4   55688        291   (68.0, 444.0]  (120.0, 444.0]  (156.0, 444.0]   \n",
              "\n",
              "    d_lead_time_5         d_adr_2         d_adr_3         d_adr_4  \\\n",
              "0  (179.0, 444.0]  (-0.001, 95.0]  (79.05, 114.0]    (70.0, 95.0]   \n",
              "1    (44.0, 97.0]  (-0.001, 95.0]  (79.05, 114.0]    (70.0, 95.0]   \n",
              "2    (12.0, 44.0]  (-0.001, 95.0]  (79.05, 114.0]    (70.0, 95.0]   \n",
              "3  (179.0, 444.0]   (95.0, 252.0]  (114.0, 252.0]  (126.0, 252.0]   \n",
              "4  (179.0, 444.0]   (95.0, 252.0]  (114.0, 252.0]   (95.0, 126.0]   \n",
              "\n",
              "          d_adr_5 d_days_in_waiting_list_2 d_days_in_waiting_list_3  \\\n",
              "0  (65.0, 85.248]           (-0.001, 75.0]           (-0.001, 75.0]   \n",
              "1  (65.0, 85.248]           (-0.001, 75.0]           (-0.001, 75.0]   \n",
              "2  (65.0, 85.248]           (-0.001, 75.0]           (-0.001, 75.0]   \n",
              "3  (105.3, 134.3]           (-0.001, 75.0]           (-0.001, 75.0]   \n",
              "4  (105.3, 134.3]           (-0.001, 75.0]           (-0.001, 75.0]   \n",
              "\n",
              "  d_days_in_waiting_list_4 d_days_in_waiting_list_5    norm_hotel  \\\n",
              "0           (-0.001, 75.0]           (-0.001, 75.0]  Resort Hotel   \n",
              "1           (-0.001, 75.0]           (-0.001, 75.0]    City Hotel   \n",
              "2           (-0.001, 75.0]           (-0.001, 75.0]    City Hotel   \n",
              "3           (-0.001, 75.0]           (-0.001, 75.0]  Resort Hotel   \n",
              "4           (-0.001, 75.0]           (-0.001, 75.0]    City Hotel   \n",
              "\n",
              "  norm_arrival_date_year norm_arrival_date_month  \\\n",
              "0                   2017                   April   \n",
              "1                   2017                   March   \n",
              "2                   2016                December   \n",
              "3                   2016                    July   \n",
              "4                   2016                  August   \n",
              "\n",
              "  norm_arrival_date_day_of_month norm_meal    norm_country  \\\n",
              "0                              8        HB             PRT   \n",
              "1                             13        BB             PRT   \n",
              "2                             11        BB             PRT   \n",
              "3                 CATEG_PEQUENAS        BB  CATEG_PEQUENAS   \n",
              "4                             19        HB             PRT   \n",
              "\n",
              "  norm_market_segment norm_distribution_channel norm_is_repeated_guest  \\\n",
              "0              Groups                     TA/TO                      0   \n",
              "1       Offline TA/TO                     TA/TO                      0   \n",
              "2       Offline TA/TO                     TA/TO                      0   \n",
              "3           Online TA                     TA/TO                      0   \n",
              "4       Offline TA/TO                     TA/TO                      0   \n",
              "\n",
              "  norm_reserved_room_type norm_assigned_room_type norm_deposit_type  \\\n",
              "0                       D                       D        No Deposit   \n",
              "1                       A                       A        Non Refund   \n",
              "2                       A                       A        No Deposit   \n",
              "3                       A                       A        No Deposit   \n",
              "4                       A                       A        Non Refund   \n",
              "\n",
              "       norm_agent norm_customer_type norm_reservation_status  is_canceled  \n",
              "0  CATEG_PEQUENAS    Transient-Party                Canceled            1  \n",
              "1  CATEG_PEQUENAS          Transient                Canceled            1  \n",
              "2  CATEG_PEQUENAS    Transient-Party               Check-Out            0  \n",
              "3             240          Transient               Check-Out            0  \n",
              "4  CATEG_PEQUENAS          Transient                Canceled            1  "
            ]
          },
          "execution_count": 105,
          "metadata": {},
          "output_type": "execute_result"
        }
      ],
      "source": [
        "Xt.head()"
      ]
    },
    {
      "cell_type": "markdown",
      "id": "07276587",
      "metadata": {
        "id": "07276587"
      },
      "source": [
        "#### Mejores Variables Discretizadas"
      ]
    },
    {
      "cell_type": "code",
      "execution_count": null,
      "id": "9dedd530",
      "metadata": {
        "id": "9dedd530",
        "outputId": "b78f83f2-92c3-4a9f-8894-16e64b64dc92"
      },
      "outputs": [
        {
          "name": "stderr",
          "output_type": "stream",
          "text": [
            "/home/dmz/02_DIPLOMADO_FES/01_MODULO1/JUPYTER_MODULO1/g15m1/lib/python3.10/site-packages/pandas/core/arraylike.py:397: RuntimeWarning: divide by zero encountered in log\n",
            "  result = getattr(ufunc, method)(*inputs, **kwargs)\n"
          ]
        }
      ],
      "source": [
        "iv = pd.DataFrame( map( lambda v: calcula_iv(Xt,v,tgt), vari   ), columns=['variable','iv']  )\n",
        "iv['raiz'] = iv['variable'].map(lambda x: '_'.join(x.split('_')[1:2] )  )\n",
        "iv = iv.sort_values(by=['raiz','iv'],ascending=[1,0]).reset_index(drop=True)\n",
        "\n",
        "#Depurar variables (en caso de que tengan indeterminados)\n",
        "iv = iv.loc[iv['iv'] != np.inf].reset_index(drop=True)\n",
        "\n",
        "iv['id'] = iv.groupby('raiz').cumcount()+1\n",
        "iv = iv.loc[iv['id'] == 1]"
      ]
    },
    {
      "cell_type": "code",
      "execution_count": null,
      "id": "52814567",
      "metadata": {
        "id": "52814567",
        "outputId": "9bad7e07-5b5b-4b12-f12f-46e6f01ade25"
      },
      "outputs": [
        {
          "data": {
            "text/html": [
              "<div>\n",
              "<style scoped>\n",
              "    .dataframe tbody tr th:only-of-type {\n",
              "        vertical-align: middle;\n",
              "    }\n",
              "\n",
              "    .dataframe tbody tr th {\n",
              "        vertical-align: top;\n",
              "    }\n",
              "\n",
              "    .dataframe thead th {\n",
              "        text-align: right;\n",
              "    }\n",
              "</style>\n",
              "<table border=\"1\" class=\"dataframe\">\n",
              "  <thead>\n",
              "    <tr style=\"text-align: right;\">\n",
              "      <th></th>\n",
              "      <th>variable</th>\n",
              "      <th>iv</th>\n",
              "      <th>raiz</th>\n",
              "      <th>id</th>\n",
              "    </tr>\n",
              "  </thead>\n",
              "  <tbody>\n",
              "    <tr>\n",
              "      <th>0</th>\n",
              "      <td>d_adr_3</td>\n",
              "      <td>0.011125</td>\n",
              "      <td>adr</td>\n",
              "      <td>1</td>\n",
              "    </tr>\n",
              "    <tr>\n",
              "      <th>4</th>\n",
              "      <td>d_days_in_waiting_list_2</td>\n",
              "      <td>0.000000</td>\n",
              "      <td>days</td>\n",
              "      <td>1</td>\n",
              "    </tr>\n",
              "    <tr>\n",
              "      <th>8</th>\n",
              "      <td>d_lead_time_5</td>\n",
              "      <td>0.464800</td>\n",
              "      <td>lead</td>\n",
              "      <td>1</td>\n",
              "    </tr>\n",
              "  </tbody>\n",
              "</table>\n",
              "</div>"
            ],
            "text/plain": [
              "                   variable        iv  raiz  id\n",
              "0                   d_adr_3  0.011125   adr   1\n",
              "4  d_days_in_waiting_list_2  0.000000  days   1\n",
              "8             d_lead_time_5  0.464800  lead   1"
            ]
          },
          "execution_count": 107,
          "metadata": {},
          "output_type": "execute_result"
        }
      ],
      "source": [
        "iv"
      ]
    },
    {
      "cell_type": "code",
      "execution_count": null,
      "id": "9c8c765f",
      "metadata": {
        "id": "9c8c765f",
        "outputId": "307410a9-7b1c-48f4-97aa-98ff814dd959"
      },
      "outputs": [
        {
          "data": {
            "text/plain": [
              "(3, ['d_adr_3', 'd_days_in_waiting_list_2', 'd_lead_time_5'])"
            ]
          },
          "execution_count": 108,
          "metadata": {},
          "output_type": "execute_result"
        }
      ],
      "source": [
        "besti = iv['variable'].tolist()\n",
        "len(besti) , besti"
      ]
    },
    {
      "cell_type": "code",
      "execution_count": null,
      "id": "f49f1049",
      "metadata": {
        "id": "f49f1049",
        "outputId": "de64b3cb-2f26-48ef-f02d-c909ae98185a"
      },
      "outputs": [
        {
          "data": {
            "text/html": [
              "<div>\n",
              "<style scoped>\n",
              "    .dataframe tbody tr th:only-of-type {\n",
              "        vertical-align: middle;\n",
              "    }\n",
              "\n",
              "    .dataframe tbody tr th {\n",
              "        vertical-align: top;\n",
              "    }\n",
              "\n",
              "    .dataframe thead th {\n",
              "        text-align: right;\n",
              "    }\n",
              "</style>\n",
              "<table border=\"1\" class=\"dataframe\">\n",
              "  <thead>\n",
              "    <tr style=\"text-align: right;\">\n",
              "      <th></th>\n",
              "      <th>d_adr_3</th>\n",
              "      <th>d_days_in_waiting_list_2</th>\n",
              "      <th>d_lead_time_5</th>\n",
              "    </tr>\n",
              "  </thead>\n",
              "  <tbody>\n",
              "    <tr>\n",
              "      <th>0</th>\n",
              "      <td>(-0.001, 79.05]</td>\n",
              "      <td>(-0.001, 75.0]</td>\n",
              "      <td>(179.0, 444.0]</td>\n",
              "    </tr>\n",
              "    <tr>\n",
              "      <th>1</th>\n",
              "      <td>(79.05, 114.0]</td>\n",
              "      <td>(-0.001, 75.0]</td>\n",
              "      <td>(179.0, 444.0]</td>\n",
              "    </tr>\n",
              "    <tr>\n",
              "      <th>2</th>\n",
              "      <td>(-0.001, 79.05]</td>\n",
              "      <td>(-0.001, 75.0]</td>\n",
              "      <td>(179.0, 444.0]</td>\n",
              "    </tr>\n",
              "    <tr>\n",
              "      <th>3</th>\n",
              "      <td>(114.0, 252.0]</td>\n",
              "      <td>(-0.001, 75.0]</td>\n",
              "      <td>(-0.001, 12.0]</td>\n",
              "    </tr>\n",
              "    <tr>\n",
              "      <th>4</th>\n",
              "      <td>(-0.001, 79.05]</td>\n",
              "      <td>(-0.001, 75.0]</td>\n",
              "      <td>(-0.001, 12.0]</td>\n",
              "    </tr>\n",
              "    <tr>\n",
              "      <th>...</th>\n",
              "      <td>...</td>\n",
              "      <td>...</td>\n",
              "      <td>...</td>\n",
              "    </tr>\n",
              "    <tr>\n",
              "      <th>114328</th>\n",
              "      <td>(-0.001, 79.05]</td>\n",
              "      <td>(-0.001, 75.0]</td>\n",
              "      <td>(-0.001, 12.0]</td>\n",
              "    </tr>\n",
              "    <tr>\n",
              "      <th>114329</th>\n",
              "      <td>(-0.001, 79.05]</td>\n",
              "      <td>(-0.001, 75.0]</td>\n",
              "      <td>(-0.001, 12.0]</td>\n",
              "    </tr>\n",
              "    <tr>\n",
              "      <th>114330</th>\n",
              "      <td>(79.05, 114.0]</td>\n",
              "      <td>(-0.001, 75.0]</td>\n",
              "      <td>(44.0, 97.0]</td>\n",
              "    </tr>\n",
              "    <tr>\n",
              "      <th>114331</th>\n",
              "      <td>(114.0, 252.0]</td>\n",
              "      <td>(-0.001, 75.0]</td>\n",
              "      <td>(-0.001, 12.0]</td>\n",
              "    </tr>\n",
              "    <tr>\n",
              "      <th>114332</th>\n",
              "      <td>(79.05, 114.0]</td>\n",
              "      <td>(-0.001, 75.0]</td>\n",
              "      <td>(44.0, 97.0]</td>\n",
              "    </tr>\n",
              "  </tbody>\n",
              "</table>\n",
              "<p>114333 rows × 3 columns</p>\n",
              "</div>"
            ],
            "text/plain": [
              "                d_adr_3 d_days_in_waiting_list_2   d_lead_time_5\n",
              "0       (-0.001, 79.05]           (-0.001, 75.0]  (179.0, 444.0]\n",
              "1        (79.05, 114.0]           (-0.001, 75.0]  (179.0, 444.0]\n",
              "2       (-0.001, 79.05]           (-0.001, 75.0]  (179.0, 444.0]\n",
              "3        (114.0, 252.0]           (-0.001, 75.0]  (-0.001, 12.0]\n",
              "4       (-0.001, 79.05]           (-0.001, 75.0]  (-0.001, 12.0]\n",
              "...                 ...                      ...             ...\n",
              "114328  (-0.001, 79.05]           (-0.001, 75.0]  (-0.001, 12.0]\n",
              "114329  (-0.001, 79.05]           (-0.001, 75.0]  (-0.001, 12.0]\n",
              "114330   (79.05, 114.0]           (-0.001, 75.0]    (44.0, 97.0]\n",
              "114331   (114.0, 252.0]           (-0.001, 75.0]  (-0.001, 12.0]\n",
              "114332   (79.05, 114.0]           (-0.001, 75.0]    (44.0, 97.0]\n",
              "\n",
              "[114333 rows x 3 columns]"
            ]
          },
          "execution_count": 109,
          "metadata": {},
          "output_type": "execute_result"
        }
      ],
      "source": [
        "X[besti]"
      ]
    },
    {
      "cell_type": "markdown",
      "id": "9fdd9265",
      "metadata": {
        "id": "9fdd9265"
      },
      "source": [
        "+ **Separar Datos**"
      ]
    },
    {
      "cell_type": "code",
      "execution_count": null,
      "id": "82b75c51",
      "metadata": {
        "id": "82b75c51",
        "outputId": "9cb8a51b-3c88-4d19-c14f-5e89e9238e7a"
      },
      "outputs": [
        {
          "name": "stdout",
          "output_type": "stream",
          "text": [
            "(80033, 29) (80033, 2) (34300, 29) (34300, 2)\n"
          ]
        }
      ],
      "source": [
        "Xt, Xv,yt,yv = train_test_split(X,y,train_size=0.7)\n",
        "print(Xt.shape, yt.shape , Xv.shape , yv.shape)"
      ]
    },
    {
      "cell_type": "code",
      "execution_count": null,
      "id": "c401a695",
      "metadata": {
        "id": "c401a695"
      },
      "outputs": [],
      "source": [
        "Xt = Xt.merge(yt,on=um,how='inner')"
      ]
    },
    {
      "cell_type": "code",
      "execution_count": null,
      "id": "1c278422",
      "metadata": {
        "id": "1c278422",
        "outputId": "1f98c319-8318-43f9-8f6a-8ede9fa83980"
      },
      "outputs": [
        {
          "data": {
            "text/plain": [
              "(80033, 30)"
            ]
          },
          "execution_count": 112,
          "metadata": {},
          "output_type": "execute_result"
        }
      ],
      "source": [
        "Xt.shape"
      ]
    },
    {
      "cell_type": "code",
      "execution_count": null,
      "id": "bf7878ef",
      "metadata": {
        "id": "bf7878ef",
        "outputId": "ac32ca10-cfbd-49c5-afaa-c5eb80612a1b"
      },
      "outputs": [
        {
          "data": {
            "text/html": [
              "<div>\n",
              "<style scoped>\n",
              "    .dataframe tbody tr th:only-of-type {\n",
              "        vertical-align: middle;\n",
              "    }\n",
              "\n",
              "    .dataframe tbody tr th {\n",
              "        vertical-align: top;\n",
              "    }\n",
              "\n",
              "    .dataframe thead th {\n",
              "        text-align: right;\n",
              "    }\n",
              "</style>\n",
              "<table border=\"1\" class=\"dataframe\">\n",
              "  <thead>\n",
              "    <tr style=\"text-align: right;\">\n",
              "      <th></th>\n",
              "      <th>id</th>\n",
              "      <th>lead_time</th>\n",
              "      <th>d_lead_time_2</th>\n",
              "      <th>d_lead_time_3</th>\n",
              "      <th>d_lead_time_4</th>\n",
              "      <th>d_lead_time_5</th>\n",
              "      <th>d_adr_2</th>\n",
              "      <th>d_adr_3</th>\n",
              "      <th>d_adr_4</th>\n",
              "      <th>d_adr_5</th>\n",
              "      <th>d_days_in_waiting_list_2</th>\n",
              "      <th>d_days_in_waiting_list_3</th>\n",
              "      <th>d_days_in_waiting_list_4</th>\n",
              "      <th>d_days_in_waiting_list_5</th>\n",
              "      <th>norm_hotel</th>\n",
              "      <th>norm_arrival_date_year</th>\n",
              "      <th>norm_arrival_date_month</th>\n",
              "      <th>norm_arrival_date_day_of_month</th>\n",
              "      <th>norm_meal</th>\n",
              "      <th>norm_country</th>\n",
              "      <th>norm_market_segment</th>\n",
              "      <th>norm_distribution_channel</th>\n",
              "      <th>norm_is_repeated_guest</th>\n",
              "      <th>norm_reserved_room_type</th>\n",
              "      <th>norm_assigned_room_type</th>\n",
              "      <th>norm_deposit_type</th>\n",
              "      <th>norm_agent</th>\n",
              "      <th>norm_customer_type</th>\n",
              "      <th>norm_reservation_status</th>\n",
              "      <th>is_canceled</th>\n",
              "    </tr>\n",
              "  </thead>\n",
              "  <tbody>\n",
              "    <tr>\n",
              "      <th>0</th>\n",
              "      <td>108779</td>\n",
              "      <td>64</td>\n",
              "      <td>(-0.001, 68.0]</td>\n",
              "      <td>(32.0, 120.0]</td>\n",
              "      <td>(18.0, 68.0]</td>\n",
              "      <td>(44.0, 97.0]</td>\n",
              "      <td>(95.0, 252.0]</td>\n",
              "      <td>(79.05, 114.0]</td>\n",
              "      <td>(95.0, 126.0]</td>\n",
              "      <td>(85.248, 105.3]</td>\n",
              "      <td>(-0.001, 75.0]</td>\n",
              "      <td>(-0.001, 75.0]</td>\n",
              "      <td>(-0.001, 75.0]</td>\n",
              "      <td>(-0.001, 75.0]</td>\n",
              "      <td>City Hotel</td>\n",
              "      <td>2017</td>\n",
              "      <td>March</td>\n",
              "      <td>26</td>\n",
              "      <td>BB</td>\n",
              "      <td>CATEG_PEQUENAS</td>\n",
              "      <td>Online TA</td>\n",
              "      <td>TA/TO</td>\n",
              "      <td>0</td>\n",
              "      <td>D</td>\n",
              "      <td>D</td>\n",
              "      <td>No Deposit</td>\n",
              "      <td>9</td>\n",
              "      <td>Transient</td>\n",
              "      <td>Check-Out</td>\n",
              "      <td>0</td>\n",
              "    </tr>\n",
              "    <tr>\n",
              "      <th>1</th>\n",
              "      <td>109955</td>\n",
              "      <td>157</td>\n",
              "      <td>(68.0, 444.0]</td>\n",
              "      <td>(120.0, 444.0]</td>\n",
              "      <td>(156.0, 444.0]</td>\n",
              "      <td>(97.0, 179.0]</td>\n",
              "      <td>(95.0, 252.0]</td>\n",
              "      <td>(79.05, 114.0]</td>\n",
              "      <td>(95.0, 126.0]</td>\n",
              "      <td>(85.248, 105.3]</td>\n",
              "      <td>(-0.001, 75.0]</td>\n",
              "      <td>(-0.001, 75.0]</td>\n",
              "      <td>(-0.001, 75.0]</td>\n",
              "      <td>(-0.001, 75.0]</td>\n",
              "      <td>City Hotel</td>\n",
              "      <td>2017</td>\n",
              "      <td>April</td>\n",
              "      <td>19</td>\n",
              "      <td>BB</td>\n",
              "      <td>CATEG_PEQUENAS</td>\n",
              "      <td>Online TA</td>\n",
              "      <td>TA/TO</td>\n",
              "      <td>0</td>\n",
              "      <td>A</td>\n",
              "      <td>A</td>\n",
              "      <td>No Deposit</td>\n",
              "      <td>9</td>\n",
              "      <td>Transient</td>\n",
              "      <td>Check-Out</td>\n",
              "      <td>0</td>\n",
              "    </tr>\n",
              "    <tr>\n",
              "      <th>2</th>\n",
              "      <td>57684</td>\n",
              "      <td>28</td>\n",
              "      <td>(-0.001, 68.0]</td>\n",
              "      <td>(-0.001, 32.0]</td>\n",
              "      <td>(18.0, 68.0]</td>\n",
              "      <td>(12.0, 44.0]</td>\n",
              "      <td>(95.0, 252.0]</td>\n",
              "      <td>(114.0, 252.0]</td>\n",
              "      <td>(126.0, 252.0]</td>\n",
              "      <td>(134.3, 252.0]</td>\n",
              "      <td>(-0.001, 75.0]</td>\n",
              "      <td>(-0.001, 75.0]</td>\n",
              "      <td>(-0.001, 75.0]</td>\n",
              "      <td>(-0.001, 75.0]</td>\n",
              "      <td>City Hotel</td>\n",
              "      <td>2016</td>\n",
              "      <td>September</td>\n",
              "      <td>30</td>\n",
              "      <td>BB</td>\n",
              "      <td>CATEG_PEQUENAS</td>\n",
              "      <td>Online TA</td>\n",
              "      <td>TA/TO</td>\n",
              "      <td>0</td>\n",
              "      <td>CATEG_PEQUENAS</td>\n",
              "      <td>F</td>\n",
              "      <td>No Deposit</td>\n",
              "      <td>9</td>\n",
              "      <td>Transient</td>\n",
              "      <td>Canceled</td>\n",
              "      <td>1</td>\n",
              "    </tr>\n",
              "    <tr>\n",
              "      <th>3</th>\n",
              "      <td>117110</td>\n",
              "      <td>37</td>\n",
              "      <td>(-0.001, 68.0]</td>\n",
              "      <td>(32.0, 120.0]</td>\n",
              "      <td>(18.0, 68.0]</td>\n",
              "      <td>(12.0, 44.0]</td>\n",
              "      <td>(95.0, 252.0]</td>\n",
              "      <td>(114.0, 252.0]</td>\n",
              "      <td>(126.0, 252.0]</td>\n",
              "      <td>(134.3, 252.0]</td>\n",
              "      <td>(-0.001, 75.0]</td>\n",
              "      <td>(-0.001, 75.0]</td>\n",
              "      <td>(-0.001, 75.0]</td>\n",
              "      <td>(-0.001, 75.0]</td>\n",
              "      <td>City Hotel</td>\n",
              "      <td>2017</td>\n",
              "      <td>July</td>\n",
              "      <td>27</td>\n",
              "      <td>BB</td>\n",
              "      <td>CATEG_PEQUENAS</td>\n",
              "      <td>Online TA</td>\n",
              "      <td>TA/TO</td>\n",
              "      <td>0</td>\n",
              "      <td>D</td>\n",
              "      <td>D</td>\n",
              "      <td>No Deposit</td>\n",
              "      <td>9</td>\n",
              "      <td>Transient</td>\n",
              "      <td>Check-Out</td>\n",
              "      <td>0</td>\n",
              "    </tr>\n",
              "    <tr>\n",
              "      <th>4</th>\n",
              "      <td>23027</td>\n",
              "      <td>42</td>\n",
              "      <td>(-0.001, 68.0]</td>\n",
              "      <td>(32.0, 120.0]</td>\n",
              "      <td>(18.0, 68.0]</td>\n",
              "      <td>(12.0, 44.0]</td>\n",
              "      <td>(-0.001, 95.0]</td>\n",
              "      <td>(-0.001, 79.05]</td>\n",
              "      <td>(-0.001, 70.0]</td>\n",
              "      <td>(-0.001, 65.0]</td>\n",
              "      <td>(-0.001, 75.0]</td>\n",
              "      <td>(-0.001, 75.0]</td>\n",
              "      <td>(-0.001, 75.0]</td>\n",
              "      <td>(-0.001, 75.0]</td>\n",
              "      <td>Resort Hotel</td>\n",
              "      <td>2016</td>\n",
              "      <td>April</td>\n",
              "      <td>5</td>\n",
              "      <td>HB</td>\n",
              "      <td>DEU</td>\n",
              "      <td>Offline TA/TO</td>\n",
              "      <td>TA/TO</td>\n",
              "      <td>0</td>\n",
              "      <td>A</td>\n",
              "      <td>CATEG_PEQUENAS</td>\n",
              "      <td>No Deposit</td>\n",
              "      <td>CATEG_PEQUENAS</td>\n",
              "      <td>Transient</td>\n",
              "      <td>Check-Out</td>\n",
              "      <td>0</td>\n",
              "    </tr>\n",
              "  </tbody>\n",
              "</table>\n",
              "</div>"
            ],
            "text/plain": [
              "       id  lead_time   d_lead_time_2   d_lead_time_3   d_lead_time_4  \\\n",
              "0  108779         64  (-0.001, 68.0]   (32.0, 120.0]    (18.0, 68.0]   \n",
              "1  109955        157   (68.0, 444.0]  (120.0, 444.0]  (156.0, 444.0]   \n",
              "2   57684         28  (-0.001, 68.0]  (-0.001, 32.0]    (18.0, 68.0]   \n",
              "3  117110         37  (-0.001, 68.0]   (32.0, 120.0]    (18.0, 68.0]   \n",
              "4   23027         42  (-0.001, 68.0]   (32.0, 120.0]    (18.0, 68.0]   \n",
              "\n",
              "   d_lead_time_5         d_adr_2          d_adr_3         d_adr_4  \\\n",
              "0   (44.0, 97.0]   (95.0, 252.0]   (79.05, 114.0]   (95.0, 126.0]   \n",
              "1  (97.0, 179.0]   (95.0, 252.0]   (79.05, 114.0]   (95.0, 126.0]   \n",
              "2   (12.0, 44.0]   (95.0, 252.0]   (114.0, 252.0]  (126.0, 252.0]   \n",
              "3   (12.0, 44.0]   (95.0, 252.0]   (114.0, 252.0]  (126.0, 252.0]   \n",
              "4   (12.0, 44.0]  (-0.001, 95.0]  (-0.001, 79.05]  (-0.001, 70.0]   \n",
              "\n",
              "           d_adr_5 d_days_in_waiting_list_2 d_days_in_waiting_list_3  \\\n",
              "0  (85.248, 105.3]           (-0.001, 75.0]           (-0.001, 75.0]   \n",
              "1  (85.248, 105.3]           (-0.001, 75.0]           (-0.001, 75.0]   \n",
              "2   (134.3, 252.0]           (-0.001, 75.0]           (-0.001, 75.0]   \n",
              "3   (134.3, 252.0]           (-0.001, 75.0]           (-0.001, 75.0]   \n",
              "4   (-0.001, 65.0]           (-0.001, 75.0]           (-0.001, 75.0]   \n",
              "\n",
              "  d_days_in_waiting_list_4 d_days_in_waiting_list_5    norm_hotel  \\\n",
              "0           (-0.001, 75.0]           (-0.001, 75.0]    City Hotel   \n",
              "1           (-0.001, 75.0]           (-0.001, 75.0]    City Hotel   \n",
              "2           (-0.001, 75.0]           (-0.001, 75.0]    City Hotel   \n",
              "3           (-0.001, 75.0]           (-0.001, 75.0]    City Hotel   \n",
              "4           (-0.001, 75.0]           (-0.001, 75.0]  Resort Hotel   \n",
              "\n",
              "  norm_arrival_date_year norm_arrival_date_month  \\\n",
              "0                   2017                   March   \n",
              "1                   2017                   April   \n",
              "2                   2016               September   \n",
              "3                   2017                    July   \n",
              "4                   2016                   April   \n",
              "\n",
              "  norm_arrival_date_day_of_month norm_meal    norm_country  \\\n",
              "0                             26        BB  CATEG_PEQUENAS   \n",
              "1                             19        BB  CATEG_PEQUENAS   \n",
              "2                             30        BB  CATEG_PEQUENAS   \n",
              "3                             27        BB  CATEG_PEQUENAS   \n",
              "4                              5        HB             DEU   \n",
              "\n",
              "  norm_market_segment norm_distribution_channel norm_is_repeated_guest  \\\n",
              "0           Online TA                     TA/TO                      0   \n",
              "1           Online TA                     TA/TO                      0   \n",
              "2           Online TA                     TA/TO                      0   \n",
              "3           Online TA                     TA/TO                      0   \n",
              "4       Offline TA/TO                     TA/TO                      0   \n",
              "\n",
              "  norm_reserved_room_type norm_assigned_room_type norm_deposit_type  \\\n",
              "0                       D                       D        No Deposit   \n",
              "1                       A                       A        No Deposit   \n",
              "2          CATEG_PEQUENAS                       F        No Deposit   \n",
              "3                       D                       D        No Deposit   \n",
              "4                       A          CATEG_PEQUENAS        No Deposit   \n",
              "\n",
              "       norm_agent norm_customer_type norm_reservation_status  is_canceled  \n",
              "0               9          Transient               Check-Out            0  \n",
              "1               9          Transient               Check-Out            0  \n",
              "2               9          Transient                Canceled            1  \n",
              "3               9          Transient               Check-Out            0  \n",
              "4  CATEG_PEQUENAS          Transient               Check-Out            0  "
            ]
          },
          "execution_count": 113,
          "metadata": {},
          "output_type": "execute_result"
        }
      ],
      "source": [
        "Xt.head()"
      ]
    },
    {
      "cell_type": "markdown",
      "id": "47a0f30b",
      "metadata": {
        "id": "47a0f30b"
      },
      "source": [
        "### Mejores Variables Normalizadas"
      ]
    },
    {
      "cell_type": "code",
      "execution_count": null,
      "id": "778f019e",
      "metadata": {
        "id": "778f019e",
        "outputId": "2a3d0b00-117c-40d9-e95b-7bbeaf56d9e0"
      },
      "outputs": [
        {
          "name": "stderr",
          "output_type": "stream",
          "text": [
            "/home/dmz/02_DIPLOMADO_FES/01_MODULO1/JUPYTER_MODULO1/g15m1/lib/python3.10/site-packages/pandas/core/arraylike.py:397: RuntimeWarning: divide by zero encountered in log\n",
            "  result = getattr(ufunc, method)(*inputs, **kwargs)\n"
          ]
        },
        {
          "data": {
            "text/html": [
              "<div>\n",
              "<style scoped>\n",
              "    .dataframe tbody tr th:only-of-type {\n",
              "        vertical-align: middle;\n",
              "    }\n",
              "\n",
              "    .dataframe tbody tr th {\n",
              "        vertical-align: top;\n",
              "    }\n",
              "\n",
              "    .dataframe thead th {\n",
              "        text-align: right;\n",
              "    }\n",
              "</style>\n",
              "<table border=\"1\" class=\"dataframe\">\n",
              "  <thead>\n",
              "    <tr style=\"text-align: right;\">\n",
              "      <th></th>\n",
              "      <th>variable</th>\n",
              "      <th>iv</th>\n",
              "    </tr>\n",
              "  </thead>\n",
              "  <tbody>\n",
              "    <tr>\n",
              "      <th>0</th>\n",
              "      <td>norm_hotel</td>\n",
              "      <td>0.079214</td>\n",
              "    </tr>\n",
              "    <tr>\n",
              "      <th>1</th>\n",
              "      <td>norm_arrival_date_year</td>\n",
              "      <td>0.004001</td>\n",
              "    </tr>\n",
              "    <tr>\n",
              "      <th>2</th>\n",
              "      <td>norm_arrival_date_month</td>\n",
              "      <td>0.028330</td>\n",
              "    </tr>\n",
              "    <tr>\n",
              "      <th>3</th>\n",
              "      <td>norm_arrival_date_day_of_month</td>\n",
              "      <td>0.012557</td>\n",
              "    </tr>\n",
              "    <tr>\n",
              "      <th>4</th>\n",
              "      <td>norm_meal</td>\n",
              "      <td>0.001631</td>\n",
              "    </tr>\n",
              "    <tr>\n",
              "      <th>5</th>\n",
              "      <td>norm_country</td>\n",
              "      <td>0.532372</td>\n",
              "    </tr>\n",
              "    <tr>\n",
              "      <th>6</th>\n",
              "      <td>norm_market_segment</td>\n",
              "      <td>0.310530</td>\n",
              "    </tr>\n",
              "    <tr>\n",
              "      <th>7</th>\n",
              "      <td>norm_distribution_channel</td>\n",
              "      <td>0.137743</td>\n",
              "    </tr>\n",
              "    <tr>\n",
              "      <th>8</th>\n",
              "      <td>norm_is_repeated_guest</td>\n",
              "      <td>0.021814</td>\n",
              "    </tr>\n",
              "    <tr>\n",
              "      <th>9</th>\n",
              "      <td>norm_reserved_room_type</td>\n",
              "      <td>0.022533</td>\n",
              "    </tr>\n",
              "    <tr>\n",
              "      <th>10</th>\n",
              "      <td>norm_assigned_room_type</td>\n",
              "      <td>0.175825</td>\n",
              "    </tr>\n",
              "    <tr>\n",
              "      <th>11</th>\n",
              "      <td>norm_deposit_type</td>\n",
              "      <td>1.888347</td>\n",
              "    </tr>\n",
              "    <tr>\n",
              "      <th>12</th>\n",
              "      <td>norm_agent</td>\n",
              "      <td>0.204484</td>\n",
              "    </tr>\n",
              "    <tr>\n",
              "      <th>13</th>\n",
              "      <td>norm_customer_type</td>\n",
              "      <td>0.071717</td>\n",
              "    </tr>\n",
              "    <tr>\n",
              "      <th>14</th>\n",
              "      <td>norm_reservation_status</td>\n",
              "      <td>inf</td>\n",
              "    </tr>\n",
              "  </tbody>\n",
              "</table>\n",
              "</div>"
            ],
            "text/plain": [
              "                          variable        iv\n",
              "0                       norm_hotel  0.079214\n",
              "1           norm_arrival_date_year  0.004001\n",
              "2          norm_arrival_date_month  0.028330\n",
              "3   norm_arrival_date_day_of_month  0.012557\n",
              "4                        norm_meal  0.001631\n",
              "5                     norm_country  0.532372\n",
              "6              norm_market_segment  0.310530\n",
              "7        norm_distribution_channel  0.137743\n",
              "8           norm_is_repeated_guest  0.021814\n",
              "9          norm_reserved_room_type  0.022533\n",
              "10         norm_assigned_room_type  0.175825\n",
              "11               norm_deposit_type  1.888347\n",
              "12                      norm_agent  0.204484\n",
              "13              norm_customer_type  0.071717\n",
              "14         norm_reservation_status       inf"
            ]
          },
          "execution_count": 114,
          "metadata": {},
          "output_type": "execute_result"
        }
      ],
      "source": [
        "ivd = pd.DataFrame(map(lambda v:calcula_iv(Xt,v,tgt),varn), columns=['variable','iv'])\n",
        "ivd"
      ]
    },
    {
      "cell_type": "code",
      "execution_count": null,
      "id": "b3184d49",
      "metadata": {
        "id": "b3184d49",
        "outputId": "b9b9e783-5356-451d-9a3b-1df790e7f9a7"
      },
      "outputs": [
        {
          "data": {
            "text/html": [
              "<div>\n",
              "<style scoped>\n",
              "    .dataframe tbody tr th:only-of-type {\n",
              "        vertical-align: middle;\n",
              "    }\n",
              "\n",
              "    .dataframe tbody tr th {\n",
              "        vertical-align: top;\n",
              "    }\n",
              "\n",
              "    .dataframe thead th {\n",
              "        text-align: right;\n",
              "    }\n",
              "</style>\n",
              "<table border=\"1\" class=\"dataframe\">\n",
              "  <thead>\n",
              "    <tr style=\"text-align: right;\">\n",
              "      <th></th>\n",
              "      <th>variable</th>\n",
              "      <th>iv</th>\n",
              "      <th>raiz</th>\n",
              "      <th>id</th>\n",
              "    </tr>\n",
              "  </thead>\n",
              "  <tbody>\n",
              "    <tr>\n",
              "      <th>0</th>\n",
              "      <td>d_adr_3</td>\n",
              "      <td>0.011125</td>\n",
              "      <td>adr</td>\n",
              "      <td>1.0</td>\n",
              "    </tr>\n",
              "    <tr>\n",
              "      <th>1</th>\n",
              "      <td>d_days_in_waiting_list_2</td>\n",
              "      <td>0.000000</td>\n",
              "      <td>days</td>\n",
              "      <td>1.0</td>\n",
              "    </tr>\n",
              "    <tr>\n",
              "      <th>2</th>\n",
              "      <td>d_lead_time_5</td>\n",
              "      <td>0.464800</td>\n",
              "      <td>lead</td>\n",
              "      <td>1.0</td>\n",
              "    </tr>\n",
              "    <tr>\n",
              "      <th>3</th>\n",
              "      <td>norm_hotel</td>\n",
              "      <td>0.079214</td>\n",
              "      <td>NaN</td>\n",
              "      <td>NaN</td>\n",
              "    </tr>\n",
              "    <tr>\n",
              "      <th>4</th>\n",
              "      <td>norm_arrival_date_year</td>\n",
              "      <td>0.004001</td>\n",
              "      <td>NaN</td>\n",
              "      <td>NaN</td>\n",
              "    </tr>\n",
              "    <tr>\n",
              "      <th>5</th>\n",
              "      <td>norm_arrival_date_month</td>\n",
              "      <td>0.028330</td>\n",
              "      <td>NaN</td>\n",
              "      <td>NaN</td>\n",
              "    </tr>\n",
              "    <tr>\n",
              "      <th>6</th>\n",
              "      <td>norm_arrival_date_day_of_month</td>\n",
              "      <td>0.012557</td>\n",
              "      <td>NaN</td>\n",
              "      <td>NaN</td>\n",
              "    </tr>\n",
              "    <tr>\n",
              "      <th>7</th>\n",
              "      <td>norm_meal</td>\n",
              "      <td>0.001631</td>\n",
              "      <td>NaN</td>\n",
              "      <td>NaN</td>\n",
              "    </tr>\n",
              "    <tr>\n",
              "      <th>8</th>\n",
              "      <td>norm_country</td>\n",
              "      <td>0.532372</td>\n",
              "      <td>NaN</td>\n",
              "      <td>NaN</td>\n",
              "    </tr>\n",
              "    <tr>\n",
              "      <th>9</th>\n",
              "      <td>norm_market_segment</td>\n",
              "      <td>0.310530</td>\n",
              "      <td>NaN</td>\n",
              "      <td>NaN</td>\n",
              "    </tr>\n",
              "    <tr>\n",
              "      <th>10</th>\n",
              "      <td>norm_distribution_channel</td>\n",
              "      <td>0.137743</td>\n",
              "      <td>NaN</td>\n",
              "      <td>NaN</td>\n",
              "    </tr>\n",
              "    <tr>\n",
              "      <th>11</th>\n",
              "      <td>norm_is_repeated_guest</td>\n",
              "      <td>0.021814</td>\n",
              "      <td>NaN</td>\n",
              "      <td>NaN</td>\n",
              "    </tr>\n",
              "    <tr>\n",
              "      <th>12</th>\n",
              "      <td>norm_reserved_room_type</td>\n",
              "      <td>0.022533</td>\n",
              "      <td>NaN</td>\n",
              "      <td>NaN</td>\n",
              "    </tr>\n",
              "    <tr>\n",
              "      <th>13</th>\n",
              "      <td>norm_assigned_room_type</td>\n",
              "      <td>0.175825</td>\n",
              "      <td>NaN</td>\n",
              "      <td>NaN</td>\n",
              "    </tr>\n",
              "    <tr>\n",
              "      <th>14</th>\n",
              "      <td>norm_deposit_type</td>\n",
              "      <td>1.888347</td>\n",
              "      <td>NaN</td>\n",
              "      <td>NaN</td>\n",
              "    </tr>\n",
              "    <tr>\n",
              "      <th>15</th>\n",
              "      <td>norm_agent</td>\n",
              "      <td>0.204484</td>\n",
              "      <td>NaN</td>\n",
              "      <td>NaN</td>\n",
              "    </tr>\n",
              "    <tr>\n",
              "      <th>16</th>\n",
              "      <td>norm_customer_type</td>\n",
              "      <td>0.071717</td>\n",
              "      <td>NaN</td>\n",
              "      <td>NaN</td>\n",
              "    </tr>\n",
              "    <tr>\n",
              "      <th>17</th>\n",
              "      <td>norm_reservation_status</td>\n",
              "      <td>inf</td>\n",
              "      <td>NaN</td>\n",
              "      <td>NaN</td>\n",
              "    </tr>\n",
              "  </tbody>\n",
              "</table>\n",
              "</div>"
            ],
            "text/plain": [
              "                          variable        iv  raiz   id\n",
              "0                          d_adr_3  0.011125   adr  1.0\n",
              "1         d_days_in_waiting_list_2  0.000000  days  1.0\n",
              "2                    d_lead_time_5  0.464800  lead  1.0\n",
              "3                       norm_hotel  0.079214   NaN  NaN\n",
              "4           norm_arrival_date_year  0.004001   NaN  NaN\n",
              "5          norm_arrival_date_month  0.028330   NaN  NaN\n",
              "6   norm_arrival_date_day_of_month  0.012557   NaN  NaN\n",
              "7                        norm_meal  0.001631   NaN  NaN\n",
              "8                     norm_country  0.532372   NaN  NaN\n",
              "9              norm_market_segment  0.310530   NaN  NaN\n",
              "10       norm_distribution_channel  0.137743   NaN  NaN\n",
              "11          norm_is_repeated_guest  0.021814   NaN  NaN\n",
              "12         norm_reserved_room_type  0.022533   NaN  NaN\n",
              "13         norm_assigned_room_type  0.175825   NaN  NaN\n",
              "14               norm_deposit_type  1.888347   NaN  NaN\n",
              "15                      norm_agent  0.204484   NaN  NaN\n",
              "16              norm_customer_type  0.071717   NaN  NaN\n",
              "17         norm_reservation_status       inf   NaN  NaN"
            ]
          },
          "execution_count": 115,
          "metadata": {},
          "output_type": "execute_result"
        }
      ],
      "source": [
        "iv = pd.concat([iv,ivd],ignore_index=True)\n",
        "iv"
      ]
    },
    {
      "cell_type": "code",
      "execution_count": null,
      "id": "fdce54af",
      "metadata": {
        "id": "fdce54af",
        "outputId": "c3dc8f5e-9d7a-48c5-eda0-d48631f5624c"
      },
      "outputs": [
        {
          "data": {
            "text/html": [
              "<div>\n",
              "<style scoped>\n",
              "    .dataframe tbody tr th:only-of-type {\n",
              "        vertical-align: middle;\n",
              "    }\n",
              "\n",
              "    .dataframe tbody tr th {\n",
              "        vertical-align: top;\n",
              "    }\n",
              "\n",
              "    .dataframe thead th {\n",
              "        text-align: right;\n",
              "    }\n",
              "</style>\n",
              "<table border=\"1\" class=\"dataframe\">\n",
              "  <thead>\n",
              "    <tr style=\"text-align: right;\">\n",
              "      <th></th>\n",
              "      <th>variable</th>\n",
              "      <th>iv</th>\n",
              "      <th>raiz</th>\n",
              "      <th>id</th>\n",
              "    </tr>\n",
              "  </thead>\n",
              "  <tbody>\n",
              "    <tr>\n",
              "      <th>0</th>\n",
              "      <td>d_adr_3</td>\n",
              "      <td>0.011125</td>\n",
              "      <td>adr</td>\n",
              "      <td>1.0</td>\n",
              "    </tr>\n",
              "    <tr>\n",
              "      <th>1</th>\n",
              "      <td>d_days_in_waiting_list_2</td>\n",
              "      <td>0.000000</td>\n",
              "      <td>days</td>\n",
              "      <td>1.0</td>\n",
              "    </tr>\n",
              "    <tr>\n",
              "      <th>2</th>\n",
              "      <td>d_lead_time_5</td>\n",
              "      <td>0.464800</td>\n",
              "      <td>lead</td>\n",
              "      <td>1.0</td>\n",
              "    </tr>\n",
              "    <tr>\n",
              "      <th>3</th>\n",
              "      <td>norm_hotel</td>\n",
              "      <td>0.079214</td>\n",
              "      <td>NaN</td>\n",
              "      <td>NaN</td>\n",
              "    </tr>\n",
              "    <tr>\n",
              "      <th>4</th>\n",
              "      <td>norm_arrival_date_year</td>\n",
              "      <td>0.004001</td>\n",
              "      <td>NaN</td>\n",
              "      <td>NaN</td>\n",
              "    </tr>\n",
              "    <tr>\n",
              "      <th>5</th>\n",
              "      <td>norm_arrival_date_month</td>\n",
              "      <td>0.028330</td>\n",
              "      <td>NaN</td>\n",
              "      <td>NaN</td>\n",
              "    </tr>\n",
              "    <tr>\n",
              "      <th>6</th>\n",
              "      <td>norm_arrival_date_day_of_month</td>\n",
              "      <td>0.012557</td>\n",
              "      <td>NaN</td>\n",
              "      <td>NaN</td>\n",
              "    </tr>\n",
              "    <tr>\n",
              "      <th>7</th>\n",
              "      <td>norm_meal</td>\n",
              "      <td>0.001631</td>\n",
              "      <td>NaN</td>\n",
              "      <td>NaN</td>\n",
              "    </tr>\n",
              "    <tr>\n",
              "      <th>8</th>\n",
              "      <td>norm_country</td>\n",
              "      <td>0.532372</td>\n",
              "      <td>NaN</td>\n",
              "      <td>NaN</td>\n",
              "    </tr>\n",
              "    <tr>\n",
              "      <th>9</th>\n",
              "      <td>norm_market_segment</td>\n",
              "      <td>0.310530</td>\n",
              "      <td>NaN</td>\n",
              "      <td>NaN</td>\n",
              "    </tr>\n",
              "    <tr>\n",
              "      <th>10</th>\n",
              "      <td>norm_distribution_channel</td>\n",
              "      <td>0.137743</td>\n",
              "      <td>NaN</td>\n",
              "      <td>NaN</td>\n",
              "    </tr>\n",
              "    <tr>\n",
              "      <th>11</th>\n",
              "      <td>norm_is_repeated_guest</td>\n",
              "      <td>0.021814</td>\n",
              "      <td>NaN</td>\n",
              "      <td>NaN</td>\n",
              "    </tr>\n",
              "    <tr>\n",
              "      <th>12</th>\n",
              "      <td>norm_reserved_room_type</td>\n",
              "      <td>0.022533</td>\n",
              "      <td>NaN</td>\n",
              "      <td>NaN</td>\n",
              "    </tr>\n",
              "    <tr>\n",
              "      <th>13</th>\n",
              "      <td>norm_assigned_room_type</td>\n",
              "      <td>0.175825</td>\n",
              "      <td>NaN</td>\n",
              "      <td>NaN</td>\n",
              "    </tr>\n",
              "    <tr>\n",
              "      <th>14</th>\n",
              "      <td>norm_deposit_type</td>\n",
              "      <td>1.888347</td>\n",
              "      <td>NaN</td>\n",
              "      <td>NaN</td>\n",
              "    </tr>\n",
              "    <tr>\n",
              "      <th>15</th>\n",
              "      <td>norm_agent</td>\n",
              "      <td>0.204484</td>\n",
              "      <td>NaN</td>\n",
              "      <td>NaN</td>\n",
              "    </tr>\n",
              "    <tr>\n",
              "      <th>16</th>\n",
              "      <td>norm_customer_type</td>\n",
              "      <td>0.071717</td>\n",
              "      <td>NaN</td>\n",
              "      <td>NaN</td>\n",
              "    </tr>\n",
              "  </tbody>\n",
              "</table>\n",
              "</div>"
            ],
            "text/plain": [
              "                          variable        iv  raiz   id\n",
              "0                          d_adr_3  0.011125   adr  1.0\n",
              "1         d_days_in_waiting_list_2  0.000000  days  1.0\n",
              "2                    d_lead_time_5  0.464800  lead  1.0\n",
              "3                       norm_hotel  0.079214   NaN  NaN\n",
              "4           norm_arrival_date_year  0.004001   NaN  NaN\n",
              "5          norm_arrival_date_month  0.028330   NaN  NaN\n",
              "6   norm_arrival_date_day_of_month  0.012557   NaN  NaN\n",
              "7                        norm_meal  0.001631   NaN  NaN\n",
              "8                     norm_country  0.532372   NaN  NaN\n",
              "9              norm_market_segment  0.310530   NaN  NaN\n",
              "10       norm_distribution_channel  0.137743   NaN  NaN\n",
              "11          norm_is_repeated_guest  0.021814   NaN  NaN\n",
              "12         norm_reserved_room_type  0.022533   NaN  NaN\n",
              "13         norm_assigned_room_type  0.175825   NaN  NaN\n",
              "14               norm_deposit_type  1.888347   NaN  NaN\n",
              "15                      norm_agent  0.204484   NaN  NaN\n",
              "16              norm_customer_type  0.071717   NaN  NaN"
            ]
          },
          "execution_count": 116,
          "metadata": {},
          "output_type": "execute_result"
        }
      ],
      "source": [
        "iv = iv.loc[~np.isinf(iv['iv'])].reset_index(drop=True)\n",
        "iv"
      ]
    },
    {
      "cell_type": "code",
      "execution_count": null,
      "id": "3a29307e",
      "metadata": {
        "id": "3a29307e",
        "outputId": "8fc2b18e-3daf-43d5-e214-ced2a1874c2d"
      },
      "outputs": [
        {
          "data": {
            "text/html": [
              "<div>\n",
              "<style scoped>\n",
              "    .dataframe tbody tr th:only-of-type {\n",
              "        vertical-align: middle;\n",
              "    }\n",
              "\n",
              "    .dataframe tbody tr th {\n",
              "        vertical-align: top;\n",
              "    }\n",
              "\n",
              "    .dataframe thead th {\n",
              "        text-align: right;\n",
              "    }\n",
              "</style>\n",
              "<table border=\"1\" class=\"dataframe\">\n",
              "  <thead>\n",
              "    <tr style=\"text-align: right;\">\n",
              "      <th></th>\n",
              "      <th>variable</th>\n",
              "      <th>iv</th>\n",
              "    </tr>\n",
              "  </thead>\n",
              "  <tbody>\n",
              "    <tr>\n",
              "      <th>0</th>\n",
              "      <td>d_adr_3</td>\n",
              "      <td>0.011125</td>\n",
              "    </tr>\n",
              "    <tr>\n",
              "      <th>1</th>\n",
              "      <td>d_days_in_waiting_list_2</td>\n",
              "      <td>0.000000</td>\n",
              "    </tr>\n",
              "    <tr>\n",
              "      <th>2</th>\n",
              "      <td>d_lead_time_5</td>\n",
              "      <td>0.464800</td>\n",
              "    </tr>\n",
              "    <tr>\n",
              "      <th>3</th>\n",
              "      <td>norm_hotel</td>\n",
              "      <td>0.079214</td>\n",
              "    </tr>\n",
              "    <tr>\n",
              "      <th>4</th>\n",
              "      <td>norm_arrival_date_year</td>\n",
              "      <td>0.004001</td>\n",
              "    </tr>\n",
              "    <tr>\n",
              "      <th>5</th>\n",
              "      <td>norm_arrival_date_month</td>\n",
              "      <td>0.028330</td>\n",
              "    </tr>\n",
              "    <tr>\n",
              "      <th>6</th>\n",
              "      <td>norm_arrival_date_day_of_month</td>\n",
              "      <td>0.012557</td>\n",
              "    </tr>\n",
              "    <tr>\n",
              "      <th>7</th>\n",
              "      <td>norm_meal</td>\n",
              "      <td>0.001631</td>\n",
              "    </tr>\n",
              "    <tr>\n",
              "      <th>8</th>\n",
              "      <td>norm_country</td>\n",
              "      <td>0.532372</td>\n",
              "    </tr>\n",
              "    <tr>\n",
              "      <th>9</th>\n",
              "      <td>norm_market_segment</td>\n",
              "      <td>0.310530</td>\n",
              "    </tr>\n",
              "    <tr>\n",
              "      <th>10</th>\n",
              "      <td>norm_distribution_channel</td>\n",
              "      <td>0.137743</td>\n",
              "    </tr>\n",
              "    <tr>\n",
              "      <th>11</th>\n",
              "      <td>norm_is_repeated_guest</td>\n",
              "      <td>0.021814</td>\n",
              "    </tr>\n",
              "    <tr>\n",
              "      <th>12</th>\n",
              "      <td>norm_reserved_room_type</td>\n",
              "      <td>0.022533</td>\n",
              "    </tr>\n",
              "    <tr>\n",
              "      <th>13</th>\n",
              "      <td>norm_assigned_room_type</td>\n",
              "      <td>0.175825</td>\n",
              "    </tr>\n",
              "    <tr>\n",
              "      <th>14</th>\n",
              "      <td>norm_deposit_type</td>\n",
              "      <td>1.888347</td>\n",
              "    </tr>\n",
              "    <tr>\n",
              "      <th>15</th>\n",
              "      <td>norm_agent</td>\n",
              "      <td>0.204484</td>\n",
              "    </tr>\n",
              "    <tr>\n",
              "      <th>16</th>\n",
              "      <td>norm_customer_type</td>\n",
              "      <td>0.071717</td>\n",
              "    </tr>\n",
              "  </tbody>\n",
              "</table>\n",
              "</div>"
            ],
            "text/plain": [
              "                          variable        iv\n",
              "0                          d_adr_3  0.011125\n",
              "1         d_days_in_waiting_list_2  0.000000\n",
              "2                    d_lead_time_5  0.464800\n",
              "3                       norm_hotel  0.079214\n",
              "4           norm_arrival_date_year  0.004001\n",
              "5          norm_arrival_date_month  0.028330\n",
              "6   norm_arrival_date_day_of_month  0.012557\n",
              "7                        norm_meal  0.001631\n",
              "8                     norm_country  0.532372\n",
              "9              norm_market_segment  0.310530\n",
              "10       norm_distribution_channel  0.137743\n",
              "11          norm_is_repeated_guest  0.021814\n",
              "12         norm_reserved_room_type  0.022533\n",
              "13         norm_assigned_room_type  0.175825\n",
              "14               norm_deposit_type  1.888347\n",
              "15                      norm_agent  0.204484\n",
              "16              norm_customer_type  0.071717"
            ]
          },
          "execution_count": 117,
          "metadata": {},
          "output_type": "execute_result"
        }
      ],
      "source": [
        "iv.drop(['raiz','id'],axis=1,inplace=True)\n",
        "iv"
      ]
    },
    {
      "cell_type": "code",
      "execution_count": null,
      "id": "2dbf3954",
      "metadata": {
        "id": "2dbf3954",
        "outputId": "13dffbc5-12fe-48d1-8bd3-b3beca471ec6"
      },
      "outputs": [
        {
          "data": {
            "text/html": [
              "<div>\n",
              "<style scoped>\n",
              "    .dataframe tbody tr th:only-of-type {\n",
              "        vertical-align: middle;\n",
              "    }\n",
              "\n",
              "    .dataframe tbody tr th {\n",
              "        vertical-align: top;\n",
              "    }\n",
              "\n",
              "    .dataframe thead th {\n",
              "        text-align: right;\n",
              "    }\n",
              "</style>\n",
              "<table border=\"1\" class=\"dataframe\">\n",
              "  <thead>\n",
              "    <tr style=\"text-align: right;\">\n",
              "      <th></th>\n",
              "      <th>variable</th>\n",
              "      <th>iv</th>\n",
              "    </tr>\n",
              "  </thead>\n",
              "  <tbody>\n",
              "    <tr>\n",
              "      <th>14</th>\n",
              "      <td>norm_deposit_type</td>\n",
              "      <td>1.888347</td>\n",
              "    </tr>\n",
              "    <tr>\n",
              "      <th>8</th>\n",
              "      <td>norm_country</td>\n",
              "      <td>0.532372</td>\n",
              "    </tr>\n",
              "    <tr>\n",
              "      <th>2</th>\n",
              "      <td>d_lead_time_5</td>\n",
              "      <td>0.464800</td>\n",
              "    </tr>\n",
              "    <tr>\n",
              "      <th>9</th>\n",
              "      <td>norm_market_segment</td>\n",
              "      <td>0.310530</td>\n",
              "    </tr>\n",
              "    <tr>\n",
              "      <th>15</th>\n",
              "      <td>norm_agent</td>\n",
              "      <td>0.204484</td>\n",
              "    </tr>\n",
              "    <tr>\n",
              "      <th>13</th>\n",
              "      <td>norm_assigned_room_type</td>\n",
              "      <td>0.175825</td>\n",
              "    </tr>\n",
              "    <tr>\n",
              "      <th>10</th>\n",
              "      <td>norm_distribution_channel</td>\n",
              "      <td>0.137743</td>\n",
              "    </tr>\n",
              "    <tr>\n",
              "      <th>3</th>\n",
              "      <td>norm_hotel</td>\n",
              "      <td>0.079214</td>\n",
              "    </tr>\n",
              "    <tr>\n",
              "      <th>16</th>\n",
              "      <td>norm_customer_type</td>\n",
              "      <td>0.071717</td>\n",
              "    </tr>\n",
              "    <tr>\n",
              "      <th>5</th>\n",
              "      <td>norm_arrival_date_month</td>\n",
              "      <td>0.028330</td>\n",
              "    </tr>\n",
              "    <tr>\n",
              "      <th>12</th>\n",
              "      <td>norm_reserved_room_type</td>\n",
              "      <td>0.022533</td>\n",
              "    </tr>\n",
              "    <tr>\n",
              "      <th>11</th>\n",
              "      <td>norm_is_repeated_guest</td>\n",
              "      <td>0.021814</td>\n",
              "    </tr>\n",
              "    <tr>\n",
              "      <th>6</th>\n",
              "      <td>norm_arrival_date_day_of_month</td>\n",
              "      <td>0.012557</td>\n",
              "    </tr>\n",
              "    <tr>\n",
              "      <th>0</th>\n",
              "      <td>d_adr_3</td>\n",
              "      <td>0.011125</td>\n",
              "    </tr>\n",
              "    <tr>\n",
              "      <th>4</th>\n",
              "      <td>norm_arrival_date_year</td>\n",
              "      <td>0.004001</td>\n",
              "    </tr>\n",
              "    <tr>\n",
              "      <th>7</th>\n",
              "      <td>norm_meal</td>\n",
              "      <td>0.001631</td>\n",
              "    </tr>\n",
              "    <tr>\n",
              "      <th>1</th>\n",
              "      <td>d_days_in_waiting_list_2</td>\n",
              "      <td>0.000000</td>\n",
              "    </tr>\n",
              "  </tbody>\n",
              "</table>\n",
              "</div>"
            ],
            "text/plain": [
              "                          variable        iv\n",
              "14               norm_deposit_type  1.888347\n",
              "8                     norm_country  0.532372\n",
              "2                    d_lead_time_5  0.464800\n",
              "9              norm_market_segment  0.310530\n",
              "15                      norm_agent  0.204484\n",
              "13         norm_assigned_room_type  0.175825\n",
              "10       norm_distribution_channel  0.137743\n",
              "3                       norm_hotel  0.079214\n",
              "16              norm_customer_type  0.071717\n",
              "5          norm_arrival_date_month  0.028330\n",
              "12         norm_reserved_room_type  0.022533\n",
              "11          norm_is_repeated_guest  0.021814\n",
              "6   norm_arrival_date_day_of_month  0.012557\n",
              "0                          d_adr_3  0.011125\n",
              "4           norm_arrival_date_year  0.004001\n",
              "7                        norm_meal  0.001631\n",
              "1         d_days_in_waiting_list_2  0.000000"
            ]
          },
          "execution_count": 118,
          "metadata": {},
          "output_type": "execute_result"
        }
      ],
      "source": [
        "iv.sort_values(by='iv',ascending=False)\n"
      ]
    },
    {
      "cell_type": "code",
      "execution_count": null,
      "id": "aec74d53",
      "metadata": {
        "id": "aec74d53"
      },
      "outputs": [],
      "source": [
        "# Poder predictivo fuerte\n",
        "best = iv.loc[ (iv['iv'] >= 0.1 ) &  ( iv['iv'] < 0.6) ]['variable'].tolist()"
      ]
    },
    {
      "cell_type": "code",
      "execution_count": null,
      "id": "8112f621",
      "metadata": {
        "id": "8112f621",
        "outputId": "0d2aff57-1dbf-4324-c8d4-5c6fea2801f2"
      },
      "outputs": [
        {
          "data": {
            "text/plain": [
              "(6,\n",
              " ['d_lead_time_5',\n",
              "  'norm_country',\n",
              "  'norm_market_segment',\n",
              "  'norm_distribution_channel',\n",
              "  'norm_assigned_room_type',\n",
              "  'norm_agent'])"
            ]
          },
          "execution_count": 120,
          "metadata": {},
          "output_type": "execute_result"
        }
      ],
      "source": [
        "len(best), best"
      ]
    },
    {
      "cell_type": "markdown",
      "id": "bf0e2978",
      "metadata": {
        "id": "bf0e2978"
      },
      "source": [
        "## Transformación WOE"
      ]
    },
    {
      "cell_type": "code",
      "execution_count": null,
      "id": "230a2f30",
      "metadata": {
        "id": "230a2f30",
        "outputId": "171d753e-8842-4460-fe91-8d2da2989439"
      },
      "outputs": [
        {
          "data": {
            "text/plain": [
              "((114333, 7), (114333, 2))"
            ]
          },
          "execution_count": 121,
          "metadata": {},
          "output_type": "execute_result"
        }
      ],
      "source": [
        "X = X[um + best].reset_index(drop=True)\n",
        "X.shape , y.shape"
      ]
    },
    {
      "cell_type": "markdown",
      "id": "2b1f480e",
      "metadata": {
        "id": "2b1f480e"
      },
      "source": [
        "+ **Separación de datos**"
      ]
    },
    {
      "cell_type": "code",
      "execution_count": null,
      "id": "1e76b7de",
      "metadata": {
        "id": "1e76b7de",
        "outputId": "431a7473-435a-4bdc-d9c6-872c5e248632"
      },
      "outputs": [
        {
          "name": "stdout",
          "output_type": "stream",
          "text": [
            "(80033, 7) (80033, 2) (34300, 7) (34300, 2)\n"
          ]
        }
      ],
      "source": [
        "Xt, Xv,yt,yv = train_test_split(X,y,train_size=0.7)\n",
        "print(Xt.shape, yt.shape , Xv.shape , yv.shape)"
      ]
    },
    {
      "cell_type": "code",
      "execution_count": null,
      "id": "33e1c525",
      "metadata": {
        "id": "33e1c525"
      },
      "outputs": [],
      "source": [
        "Xt = Xt.merge(yt,on=um,how='inner')"
      ]
    },
    {
      "cell_type": "code",
      "execution_count": null,
      "id": "273eb08a",
      "metadata": {
        "id": "273eb08a",
        "outputId": "e76c4bbd-db5a-43ac-8f36-7a142f6f2610"
      },
      "outputs": [
        {
          "data": {
            "text/html": [
              "<div>\n",
              "<style scoped>\n",
              "    .dataframe tbody tr th:only-of-type {\n",
              "        vertical-align: middle;\n",
              "    }\n",
              "\n",
              "    .dataframe tbody tr th {\n",
              "        vertical-align: top;\n",
              "    }\n",
              "\n",
              "    .dataframe thead th {\n",
              "        text-align: right;\n",
              "    }\n",
              "</style>\n",
              "<table border=\"1\" class=\"dataframe\">\n",
              "  <thead>\n",
              "    <tr style=\"text-align: right;\">\n",
              "      <th></th>\n",
              "      <th>id</th>\n",
              "      <th>d_lead_time_5</th>\n",
              "      <th>norm_country</th>\n",
              "      <th>norm_market_segment</th>\n",
              "      <th>norm_distribution_channel</th>\n",
              "      <th>norm_assigned_room_type</th>\n",
              "      <th>norm_agent</th>\n",
              "      <th>is_canceled</th>\n",
              "    </tr>\n",
              "  </thead>\n",
              "  <tbody>\n",
              "    <tr>\n",
              "      <th>0</th>\n",
              "      <td>8391</td>\n",
              "      <td>(12.0, 44.0]</td>\n",
              "      <td>DEU</td>\n",
              "      <td>Online TA</td>\n",
              "      <td>TA/TO</td>\n",
              "      <td>CATEG_PEQUENAS</td>\n",
              "      <td>240</td>\n",
              "      <td>1</td>\n",
              "    </tr>\n",
              "    <tr>\n",
              "      <th>1</th>\n",
              "      <td>114423</td>\n",
              "      <td>(-0.001, 12.0]</td>\n",
              "      <td>CATEG_PEQUENAS</td>\n",
              "      <td>Online TA</td>\n",
              "      <td>TA/TO</td>\n",
              "      <td>D</td>\n",
              "      <td>CATEG_PEQUENAS</td>\n",
              "      <td>0</td>\n",
              "    </tr>\n",
              "    <tr>\n",
              "      <th>2</th>\n",
              "      <td>1784</td>\n",
              "      <td>(97.0, 179.0]</td>\n",
              "      <td>PRT</td>\n",
              "      <td>Online TA</td>\n",
              "      <td>TA/TO</td>\n",
              "      <td>A</td>\n",
              "      <td>240</td>\n",
              "      <td>1</td>\n",
              "    </tr>\n",
              "    <tr>\n",
              "      <th>3</th>\n",
              "      <td>58476</td>\n",
              "      <td>(12.0, 44.0]</td>\n",
              "      <td>PRT</td>\n",
              "      <td>Groups</td>\n",
              "      <td>TA/TO</td>\n",
              "      <td>E</td>\n",
              "      <td>CATEG_PEQUENAS</td>\n",
              "      <td>1</td>\n",
              "    </tr>\n",
              "    <tr>\n",
              "      <th>4</th>\n",
              "      <td>30467</td>\n",
              "      <td>(44.0, 97.0]</td>\n",
              "      <td>FRA</td>\n",
              "      <td>Offline TA/TO</td>\n",
              "      <td>TA/TO</td>\n",
              "      <td>D</td>\n",
              "      <td>CATEG_PEQUENAS</td>\n",
              "      <td>0</td>\n",
              "    </tr>\n",
              "  </tbody>\n",
              "</table>\n",
              "</div>"
            ],
            "text/plain": [
              "       id   d_lead_time_5    norm_country norm_market_segment  \\\n",
              "0    8391    (12.0, 44.0]             DEU           Online TA   \n",
              "1  114423  (-0.001, 12.0]  CATEG_PEQUENAS           Online TA   \n",
              "2    1784   (97.0, 179.0]             PRT           Online TA   \n",
              "3   58476    (12.0, 44.0]             PRT              Groups   \n",
              "4   30467    (44.0, 97.0]             FRA       Offline TA/TO   \n",
              "\n",
              "  norm_distribution_channel norm_assigned_room_type      norm_agent  \\\n",
              "0                     TA/TO          CATEG_PEQUENAS             240   \n",
              "1                     TA/TO                       D  CATEG_PEQUENAS   \n",
              "2                     TA/TO                       A             240   \n",
              "3                     TA/TO                       E  CATEG_PEQUENAS   \n",
              "4                     TA/TO                       D  CATEG_PEQUENAS   \n",
              "\n",
              "   is_canceled  \n",
              "0            1  \n",
              "1            0  \n",
              "2            1  \n",
              "3            1  \n",
              "4            0  "
            ]
          },
          "execution_count": 124,
          "metadata": {},
          "output_type": "execute_result"
        }
      ],
      "source": [
        "Xt.head()"
      ]
    },
    {
      "cell_type": "code",
      "execution_count": null,
      "id": "c8c31eed",
      "metadata": {
        "id": "c8c31eed"
      },
      "outputs": [],
      "source": [
        "def codificacion_woe(df,v,tgt):\n",
        "\n",
        "    aux = df.pivot_table(index=v,\n",
        "                         columns=tgt,\n",
        "                         values='id',\n",
        "                         aggfunc='count',\n",
        "                         fill_value=0)\n",
        "\n",
        "    aux[list(range(2))] = aux/aux.apply(np.sum)\n",
        "\n",
        "    aux['w'] = np.log(aux[0]/aux[1])\n",
        "\n",
        "    aux.drop(range(2),axis=1,inplace=True)\n",
        "\n",
        "    aux = aux.to_dict()['w']\n",
        "\n",
        "    return v,aux"
      ]
    },
    {
      "cell_type": "markdown",
      "id": "af5123ab",
      "metadata": {
        "id": "af5123ab"
      },
      "source": [
        "### Mapa Woe"
      ]
    },
    {
      "cell_type": "code",
      "execution_count": null,
      "id": "48b191ef",
      "metadata": {
        "id": "48b191ef"
      },
      "outputs": [],
      "source": [
        "mapa_woe = list(map(lambda v: codificacion_woe(Xt,v,tgt)  , best  ))"
      ]
    },
    {
      "cell_type": "code",
      "execution_count": null,
      "id": "be17090e",
      "metadata": {
        "id": "be17090e",
        "outputId": "f2192d19-aae4-41a8-842d-903f488bd96f"
      },
      "outputs": [
        {
          "data": {
            "text/plain": [
              "[('d_lead_time_5',\n",
              "  {'(-0.001, 12.0]': 1.4188988229008592,\n",
              "   '(12.0, 44.0]': 0.19218740864846215,\n",
              "   '(179.0, 444.0]': -0.7874774341594011,\n",
              "   '(44.0, 97.0]': -0.10981488757317419,\n",
              "   '(97.0, 179.0]': -0.3343812089511329}),\n",
              " ('norm_country',\n",
              "  {'CATEG_PEQUENAS': 0.4742796270545135,\n",
              "   'DEU': 1.0586806165686315,\n",
              "   'ESP': 0.539605906968791,\n",
              "   'FRA': 0.9543156096552167,\n",
              "   'GBR': 0.8164384054753367,\n",
              "   'ITA': 0.024753691232383704,\n",
              "   'PRT': -0.8083920228168738}),\n",
              " ('norm_market_segment',\n",
              "  {'Corporate': 0.7851861598643906,\n",
              "   'Direct': 1.1839027837611853,\n",
              "   'Groups': -0.9769367947487103,\n",
              "   'Offline TA/TO': 0.1424186984224563,\n",
              "   'Online TA': 0.02701647274370379}),\n",
              " ('norm_distribution_channel',\n",
              "  {'Corporate': 0.577167418263155,\n",
              "   'Direct': 1.0153320635706353,\n",
              "   'TA/TO': -0.15279696271447227}),\n",
              " ('norm_assigned_room_type',\n",
              "  {'A': -0.30855672133245177,\n",
              "   'CATEG_PEQUENAS': 0.6759809263744503,\n",
              "   'D': 0.5457424698781435,\n",
              "   'E': 0.5670840591565843,\n",
              "   'F': 0.6344748627983845}),\n",
              " ('norm_agent',\n",
              "  {'1': -1.4450886820079758,\n",
              "   '14': 1.010111100704118,\n",
              "   '240': -0.09090960688327433,\n",
              "   '9': -0.18950248024171387,\n",
              "   'CATEG_PEQUENAS': 0.15726065924746963,\n",
              "   'SIN CATEGORIA': 0.5075698018933222})]"
            ]
          },
          "execution_count": 127,
          "metadata": {},
          "output_type": "execute_result"
        }
      ],
      "source": [
        "mapa_woe"
      ]
    },
    {
      "cell_type": "code",
      "execution_count": null,
      "id": "0d39ebb7",
      "metadata": {
        "id": "0d39ebb7"
      },
      "outputs": [],
      "source": [
        "for v,mapa in mapa_woe:\n",
        "    Xt[f'w_{v}'] = Xt[v].replace(mapa)\n",
        "    Xv[f'w_{v}'] = Xv[v].replace(mapa)"
      ]
    },
    {
      "cell_type": "code",
      "execution_count": null,
      "id": "2e1458f1",
      "metadata": {
        "id": "2e1458f1",
        "outputId": "7d0ddcb1-1cbe-49a5-81f3-53065e08a720"
      },
      "outputs": [
        {
          "data": {
            "text/plain": [
              "((80033, 14), (80033, 14), (34300, 13), (34300, 13))"
            ]
          },
          "execution_count": 129,
          "metadata": {},
          "output_type": "execute_result"
        }
      ],
      "source": [
        "Xt.shape, Xt.dropna().shape, Xv.shape, Xv.dropna().shape"
      ]
    },
    {
      "cell_type": "code",
      "execution_count": null,
      "id": "1fbf5901",
      "metadata": {
        "id": "1fbf5901"
      },
      "outputs": [],
      "source": [
        "varw = Xt.filter(like='w_').columns.tolist()"
      ]
    },
    {
      "cell_type": "code",
      "execution_count": null,
      "id": "9e4ee8c2",
      "metadata": {
        "id": "9e4ee8c2",
        "outputId": "92bd9f02-96f7-4b79-e75a-c539bbe83355"
      },
      "outputs": [
        {
          "data": {
            "text/plain": [
              "(6,\n",
              " ['w_d_lead_time_5',\n",
              "  'w_norm_country',\n",
              "  'w_norm_market_segment',\n",
              "  'w_norm_distribution_channel',\n",
              "  'w_norm_assigned_room_type',\n",
              "  'w_norm_agent'])"
            ]
          },
          "execution_count": 131,
          "metadata": {},
          "output_type": "execute_result"
        }
      ],
      "source": [
        "len(varw), varw"
      ]
    },
    {
      "cell_type": "markdown",
      "id": "56e18586",
      "metadata": {
        "id": "56e18586"
      },
      "source": [
        "# TAD"
      ]
    },
    {
      "cell_type": "code",
      "execution_count": null,
      "id": "7168209b",
      "metadata": {
        "id": "7168209b"
      },
      "outputs": [],
      "source": [
        "tad = Xt[ um + varw].merge(yt , on=um, how='inner').reset_index(drop=True)"
      ]
    },
    {
      "cell_type": "code",
      "execution_count": null,
      "id": "a67c2147",
      "metadata": {
        "id": "a67c2147",
        "outputId": "ca336851-0ce8-4d92-a393-4f8ac92c091d"
      },
      "outputs": [
        {
          "data": {
            "text/html": [
              "<div>\n",
              "<style scoped>\n",
              "    .dataframe tbody tr th:only-of-type {\n",
              "        vertical-align: middle;\n",
              "    }\n",
              "\n",
              "    .dataframe tbody tr th {\n",
              "        vertical-align: top;\n",
              "    }\n",
              "\n",
              "    .dataframe thead th {\n",
              "        text-align: right;\n",
              "    }\n",
              "</style>\n",
              "<table border=\"1\" class=\"dataframe\">\n",
              "  <thead>\n",
              "    <tr style=\"text-align: right;\">\n",
              "      <th></th>\n",
              "      <th>id</th>\n",
              "      <th>w_d_lead_time_5</th>\n",
              "      <th>w_norm_country</th>\n",
              "      <th>w_norm_market_segment</th>\n",
              "      <th>w_norm_distribution_channel</th>\n",
              "      <th>w_norm_assigned_room_type</th>\n",
              "      <th>w_norm_agent</th>\n",
              "      <th>is_canceled</th>\n",
              "    </tr>\n",
              "  </thead>\n",
              "  <tbody>\n",
              "    <tr>\n",
              "      <th>0</th>\n",
              "      <td>8391</td>\n",
              "      <td>0.192187</td>\n",
              "      <td>1.058681</td>\n",
              "      <td>0.027016</td>\n",
              "      <td>-0.152797</td>\n",
              "      <td>0.675981</td>\n",
              "      <td>-0.090910</td>\n",
              "      <td>1</td>\n",
              "    </tr>\n",
              "    <tr>\n",
              "      <th>1</th>\n",
              "      <td>114423</td>\n",
              "      <td>1.418899</td>\n",
              "      <td>0.474280</td>\n",
              "      <td>0.027016</td>\n",
              "      <td>-0.152797</td>\n",
              "      <td>0.545742</td>\n",
              "      <td>0.157261</td>\n",
              "      <td>0</td>\n",
              "    </tr>\n",
              "    <tr>\n",
              "      <th>2</th>\n",
              "      <td>1784</td>\n",
              "      <td>-0.334381</td>\n",
              "      <td>-0.808392</td>\n",
              "      <td>0.027016</td>\n",
              "      <td>-0.152797</td>\n",
              "      <td>-0.308557</td>\n",
              "      <td>-0.090910</td>\n",
              "      <td>1</td>\n",
              "    </tr>\n",
              "    <tr>\n",
              "      <th>3</th>\n",
              "      <td>58476</td>\n",
              "      <td>0.192187</td>\n",
              "      <td>-0.808392</td>\n",
              "      <td>-0.976937</td>\n",
              "      <td>-0.152797</td>\n",
              "      <td>0.567084</td>\n",
              "      <td>0.157261</td>\n",
              "      <td>1</td>\n",
              "    </tr>\n",
              "    <tr>\n",
              "      <th>4</th>\n",
              "      <td>30467</td>\n",
              "      <td>-0.109815</td>\n",
              "      <td>0.954316</td>\n",
              "      <td>0.142419</td>\n",
              "      <td>-0.152797</td>\n",
              "      <td>0.545742</td>\n",
              "      <td>0.157261</td>\n",
              "      <td>0</td>\n",
              "    </tr>\n",
              "    <tr>\n",
              "      <th>...</th>\n",
              "      <td>...</td>\n",
              "      <td>...</td>\n",
              "      <td>...</td>\n",
              "      <td>...</td>\n",
              "      <td>...</td>\n",
              "      <td>...</td>\n",
              "      <td>...</td>\n",
              "      <td>...</td>\n",
              "    </tr>\n",
              "    <tr>\n",
              "      <th>80028</th>\n",
              "      <td>71168</td>\n",
              "      <td>-0.334381</td>\n",
              "      <td>0.954316</td>\n",
              "      <td>0.027016</td>\n",
              "      <td>-0.152797</td>\n",
              "      <td>0.634475</td>\n",
              "      <td>-0.189502</td>\n",
              "      <td>1</td>\n",
              "    </tr>\n",
              "    <tr>\n",
              "      <th>80029</th>\n",
              "      <td>33301</td>\n",
              "      <td>0.192187</td>\n",
              "      <td>0.816438</td>\n",
              "      <td>0.785186</td>\n",
              "      <td>0.577167</td>\n",
              "      <td>-0.308557</td>\n",
              "      <td>0.507570</td>\n",
              "      <td>0</td>\n",
              "    </tr>\n",
              "    <tr>\n",
              "      <th>80030</th>\n",
              "      <td>90492</td>\n",
              "      <td>-0.334381</td>\n",
              "      <td>0.816438</td>\n",
              "      <td>0.142419</td>\n",
              "      <td>-0.152797</td>\n",
              "      <td>0.545742</td>\n",
              "      <td>0.157261</td>\n",
              "      <td>0</td>\n",
              "    </tr>\n",
              "    <tr>\n",
              "      <th>80031</th>\n",
              "      <td>44881</td>\n",
              "      <td>0.192187</td>\n",
              "      <td>-0.808392</td>\n",
              "      <td>0.027016</td>\n",
              "      <td>-0.152797</td>\n",
              "      <td>-0.308557</td>\n",
              "      <td>0.157261</td>\n",
              "      <td>0</td>\n",
              "    </tr>\n",
              "    <tr>\n",
              "      <th>80032</th>\n",
              "      <td>8260</td>\n",
              "      <td>-0.787477</td>\n",
              "      <td>-0.808392</td>\n",
              "      <td>0.027016</td>\n",
              "      <td>-0.152797</td>\n",
              "      <td>0.675981</td>\n",
              "      <td>-0.090910</td>\n",
              "      <td>1</td>\n",
              "    </tr>\n",
              "  </tbody>\n",
              "</table>\n",
              "<p>80033 rows × 8 columns</p>\n",
              "</div>"
            ],
            "text/plain": [
              "           id  w_d_lead_time_5  w_norm_country  w_norm_market_segment  \\\n",
              "0        8391         0.192187        1.058681               0.027016   \n",
              "1      114423         1.418899        0.474280               0.027016   \n",
              "2        1784        -0.334381       -0.808392               0.027016   \n",
              "3       58476         0.192187       -0.808392              -0.976937   \n",
              "4       30467        -0.109815        0.954316               0.142419   \n",
              "...       ...              ...             ...                    ...   \n",
              "80028   71168        -0.334381        0.954316               0.027016   \n",
              "80029   33301         0.192187        0.816438               0.785186   \n",
              "80030   90492        -0.334381        0.816438               0.142419   \n",
              "80031   44881         0.192187       -0.808392               0.027016   \n",
              "80032    8260        -0.787477       -0.808392               0.027016   \n",
              "\n",
              "       w_norm_distribution_channel  w_norm_assigned_room_type  w_norm_agent  \\\n",
              "0                        -0.152797                   0.675981     -0.090910   \n",
              "1                        -0.152797                   0.545742      0.157261   \n",
              "2                        -0.152797                  -0.308557     -0.090910   \n",
              "3                        -0.152797                   0.567084      0.157261   \n",
              "4                        -0.152797                   0.545742      0.157261   \n",
              "...                            ...                        ...           ...   \n",
              "80028                    -0.152797                   0.634475     -0.189502   \n",
              "80029                     0.577167                  -0.308557      0.507570   \n",
              "80030                    -0.152797                   0.545742      0.157261   \n",
              "80031                    -0.152797                  -0.308557      0.157261   \n",
              "80032                    -0.152797                   0.675981     -0.090910   \n",
              "\n",
              "       is_canceled  \n",
              "0                1  \n",
              "1                0  \n",
              "2                1  \n",
              "3                1  \n",
              "4                0  \n",
              "...            ...  \n",
              "80028            1  \n",
              "80029            0  \n",
              "80030            0  \n",
              "80031            0  \n",
              "80032            1  \n",
              "\n",
              "[80033 rows x 8 columns]"
            ]
          },
          "execution_count": 133,
          "metadata": {},
          "output_type": "execute_result"
        }
      ],
      "source": [
        "tad"
      ]
    },
    {
      "cell_type": "code",
      "execution_count": null,
      "id": "c5534b06",
      "metadata": {
        "id": "c5534b06",
        "outputId": "52fc2412-5255-46da-9471-122f2fc53b78"
      },
      "outputs": [
        {
          "data": {
            "text/plain": [
              "0    50636\n",
              "1    29397\n",
              "Name: is_canceled, dtype: int64"
            ]
          },
          "execution_count": 134,
          "metadata": {},
          "output_type": "execute_result"
        }
      ],
      "source": [
        "tad['is_canceled'].value_counts()"
      ]
    },
    {
      "cell_type": "code",
      "execution_count": null,
      "id": "a80b258c",
      "metadata": {
        "id": "a80b258c"
      },
      "outputs": [],
      "source": [
        "pd.to_pickle(tad , 'MARTINEZ_ZAPATA_DANIEL_practica2_m2.pkl' , protocol=4  )"
      ]
    },
    {
      "cell_type": "markdown",
      "id": "f2299624",
      "metadata": {
        "id": "f2299624"
      },
      "source": [
        "# Regresión Logística"
      ]
    },
    {
      "cell_type": "code",
      "execution_count": null,
      "id": "2c340eb9",
      "metadata": {
        "id": "2c340eb9"
      },
      "outputs": [],
      "source": [
        "modelo = LogisticRegression()"
      ]
    },
    {
      "cell_type": "code",
      "execution_count": null,
      "id": "3c06c3a5",
      "metadata": {
        "id": "3c06c3a5",
        "outputId": "2cbe3e27-08ae-4c2b-d243-c3673655ebdc"
      },
      "outputs": [
        {
          "name": "stderr",
          "output_type": "stream",
          "text": [
            "/home/dmz/02_DIPLOMADO_FES/01_MODULO1/JUPYTER_MODULO1/g15m1/lib/python3.10/site-packages/sklearn/utils/validation.py:1111: DataConversionWarning: A column-vector y was passed when a 1d array was expected. Please change the shape of y to (n_samples, ), for example using ravel().\n",
            "  y = column_or_1d(y, warn=True)\n"
          ]
        },
        {
          "data": {
            "text/html": [
              "<style>#sk-container-id-2 {color: black;background-color: white;}#sk-container-id-2 pre{padding: 0;}#sk-container-id-2 div.sk-toggleable {background-color: white;}#sk-container-id-2 label.sk-toggleable__label {cursor: pointer;display: block;width: 100%;margin-bottom: 0;padding: 0.3em;box-sizing: border-box;text-align: center;}#sk-container-id-2 label.sk-toggleable__label-arrow:before {content: \"▸\";float: left;margin-right: 0.25em;color: #696969;}#sk-container-id-2 label.sk-toggleable__label-arrow:hover:before {color: black;}#sk-container-id-2 div.sk-estimator:hover label.sk-toggleable__label-arrow:before {color: black;}#sk-container-id-2 div.sk-toggleable__content {max-height: 0;max-width: 0;overflow: hidden;text-align: left;background-color: #f0f8ff;}#sk-container-id-2 div.sk-toggleable__content pre {margin: 0.2em;color: black;border-radius: 0.25em;background-color: #f0f8ff;}#sk-container-id-2 input.sk-toggleable__control:checked~div.sk-toggleable__content {max-height: 200px;max-width: 100%;overflow: auto;}#sk-container-id-2 input.sk-toggleable__control:checked~label.sk-toggleable__label-arrow:before {content: \"▾\";}#sk-container-id-2 div.sk-estimator input.sk-toggleable__control:checked~label.sk-toggleable__label {background-color: #d4ebff;}#sk-container-id-2 div.sk-label input.sk-toggleable__control:checked~label.sk-toggleable__label {background-color: #d4ebff;}#sk-container-id-2 input.sk-hidden--visually {border: 0;clip: rect(1px 1px 1px 1px);clip: rect(1px, 1px, 1px, 1px);height: 1px;margin: -1px;overflow: hidden;padding: 0;position: absolute;width: 1px;}#sk-container-id-2 div.sk-estimator {font-family: monospace;background-color: #f0f8ff;border: 1px dotted black;border-radius: 0.25em;box-sizing: border-box;margin-bottom: 0.5em;}#sk-container-id-2 div.sk-estimator:hover {background-color: #d4ebff;}#sk-container-id-2 div.sk-parallel-item::after {content: \"\";width: 100%;border-bottom: 1px solid gray;flex-grow: 1;}#sk-container-id-2 div.sk-label:hover label.sk-toggleable__label {background-color: #d4ebff;}#sk-container-id-2 div.sk-serial::before {content: \"\";position: absolute;border-left: 1px solid gray;box-sizing: border-box;top: 0;bottom: 0;left: 50%;z-index: 0;}#sk-container-id-2 div.sk-serial {display: flex;flex-direction: column;align-items: center;background-color: white;padding-right: 0.2em;padding-left: 0.2em;position: relative;}#sk-container-id-2 div.sk-item {position: relative;z-index: 1;}#sk-container-id-2 div.sk-parallel {display: flex;align-items: stretch;justify-content: center;background-color: white;position: relative;}#sk-container-id-2 div.sk-item::before, #sk-container-id-2 div.sk-parallel-item::before {content: \"\";position: absolute;border-left: 1px solid gray;box-sizing: border-box;top: 0;bottom: 0;left: 50%;z-index: -1;}#sk-container-id-2 div.sk-parallel-item {display: flex;flex-direction: column;z-index: 1;position: relative;background-color: white;}#sk-container-id-2 div.sk-parallel-item:first-child::after {align-self: flex-end;width: 50%;}#sk-container-id-2 div.sk-parallel-item:last-child::after {align-self: flex-start;width: 50%;}#sk-container-id-2 div.sk-parallel-item:only-child::after {width: 0;}#sk-container-id-2 div.sk-dashed-wrapped {border: 1px dashed gray;margin: 0 0.4em 0.5em 0.4em;box-sizing: border-box;padding-bottom: 0.4em;background-color: white;}#sk-container-id-2 div.sk-label label {font-family: monospace;font-weight: bold;display: inline-block;line-height: 1.2em;}#sk-container-id-2 div.sk-label-container {text-align: center;}#sk-container-id-2 div.sk-container {/* jupyter's `normalize.less` sets `[hidden] { display: none; }` but bootstrap.min.css set `[hidden] { display: none !important; }` so we also need the `!important` here to be able to override the default hidden behavior on the sphinx rendered scikit-learn.org. See: https://github.com/scikit-learn/scikit-learn/issues/21755 */display: inline-block !important;position: relative;}#sk-container-id-2 div.sk-text-repr-fallback {display: none;}</style><div id=\"sk-container-id-2\" class=\"sk-top-container\"><div class=\"sk-text-repr-fallback\"><pre>LogisticRegression()</pre><b>In a Jupyter environment, please rerun this cell to show the HTML representation or trust the notebook. <br />On GitHub, the HTML representation is unable to render, please try loading this page with nbviewer.org.</b></div><div class=\"sk-container\" hidden><div class=\"sk-item\"><div class=\"sk-estimator sk-toggleable\"><input class=\"sk-toggleable__control sk-hidden--visually\" id=\"sk-estimator-id-2\" type=\"checkbox\" checked><label for=\"sk-estimator-id-2\" class=\"sk-toggleable__label sk-toggleable__label-arrow\">LogisticRegression</label><div class=\"sk-toggleable__content\"><pre>LogisticRegression()</pre></div></div></div></div></div>"
            ],
            "text/plain": [
              "LogisticRegression()"
            ]
          },
          "execution_count": 137,
          "metadata": {},
          "output_type": "execute_result"
        }
      ],
      "source": [
        "#Aqui se entrena el modelo\n",
        "modelo.fit( Xt[varw] , yt[tgt] )"
      ]
    },
    {
      "cell_type": "code",
      "execution_count": null,
      "id": "e8eaf586",
      "metadata": {
        "id": "e8eaf586",
        "outputId": "737c48fe-4987-47c3-b0e5-38f1c279ede0"
      },
      "outputs": [
        {
          "data": {
            "text/plain": [
              "(array([-0.49446582]),\n",
              " array([[-0.99702603, -1.17426503, -0.13169127, -0.41481556, -0.55071753,\n",
              "         -0.61273363]]))"
            ]
          },
          "execution_count": 138,
          "metadata": {},
          "output_type": "execute_result"
        }
      ],
      "source": [
        "modelo.intercept_, modelo.coef_"
      ]
    },
    {
      "cell_type": "code",
      "execution_count": null,
      "id": "06d004dc",
      "metadata": {
        "id": "06d004dc",
        "outputId": "b50bd1a3-5aad-4409-c886-701a932727e3"
      },
      "outputs": [
        {
          "data": {
            "text/plain": [
              "array([[0.80318315, 0.19681685],\n",
              "       [0.73063088, 0.26936912],\n",
              "       [0.59128552, 0.40871448],\n",
              "       ...,\n",
              "       [0.64885534, 0.35114466],\n",
              "       [0.73503628, 0.26496372],\n",
              "       [0.74393421, 0.25606579]])"
            ]
          },
          "execution_count": 139,
          "metadata": {},
          "output_type": "execute_result"
        }
      ],
      "source": [
        "modelo.predict_proba(Xv[varw])"
      ]
    },
    {
      "cell_type": "code",
      "execution_count": null,
      "id": "784b2bd7",
      "metadata": {
        "id": "784b2bd7"
      },
      "outputs": [],
      "source": [
        "v_sol = modelo.predict(Xv[varw])"
      ]
    },
    {
      "cell_type": "code",
      "execution_count": null,
      "id": "8d31f45d",
      "metadata": {
        "id": "8d31f45d",
        "outputId": "482ff044-a9f5-4667-9c59-feade5fab88b"
      },
      "outputs": [
        {
          "data": {
            "text/plain": [
              "{0: 24463, 1: 9837}"
            ]
          },
          "execution_count": 141,
          "metadata": {},
          "output_type": "execute_result"
        }
      ],
      "source": [
        "unico , counts = np.unique(v_sol , return_counts=True)\n",
        "dict(zip( unico , counts ))"
      ]
    },
    {
      "cell_type": "code",
      "execution_count": null,
      "id": "25c4ba0d",
      "metadata": {
        "id": "25c4ba0d",
        "outputId": "5d2849e9-4d95-48fd-cd37-527975ccf990"
      },
      "outputs": [
        {
          "name": "stderr",
          "output_type": "stream",
          "text": [
            "/home/dmz/02_DIPLOMADO_FES/01_MODULO1/JUPYTER_MODULO1/g15m1/lib/python3.10/site-packages/sklearn/utils/deprecation.py:87: FutureWarning: Function plot_roc_curve is deprecated; This will be removed in v0.5.0. Please use scikitplot.metrics.plot_roc instead.\n",
            "  warnings.warn(msg, category=FutureWarning)\n",
            "/home/dmz/02_DIPLOMADO_FES/01_MODULO1/JUPYTER_MODULO1/g15m1/lib/python3.10/site-packages/sklearn/utils/deprecation.py:87: FutureWarning: Function plot_roc_curve is deprecated; This will be removed in v0.5.0. Please use scikitplot.metrics.plot_roc instead.\n",
            "  warnings.warn(msg, category=FutureWarning)\n"
          ]
        },
        {
          "data": {
            "text/plain": [
              "<AxesSubplot:title={'center':'ROC Curves'}, xlabel='False Positive Rate', ylabel='True Positive Rate'>"
            ]
          },
          "execution_count": 142,
          "metadata": {},
          "output_type": "execute_result"
        },
        {
          "data": {
            "image/png": "[encoded data removed]",
            "text/plain": [
              "<Figure size 432x288 with 1 Axes>"
            ]
          },
          "metadata": {
            "needs_background": "light"
          },
          "output_type": "display_data"
        },
        {
          "data": {
            "image/png": "[encoded data removed]",
            "text/plain": [
              "<Figure size 432x288 with 1 Axes>"
            ]
          },
          "metadata": {
            "needs_background": "light"
          },
          "output_type": "display_data"
        }
      ],
      "source": [
        "plot_roc_curve(  y_true=yt[tgt]  , y_probas=modelo.predict_proba(Xt[varw]) , curves='macro'  )\n",
        "plot_roc_curve(  y_true=yv[tgt]  , y_probas=modelo.predict_proba(Xv[varw]) , curves='macro'  )"
      ]
    },
    {
      "cell_type": "code",
      "execution_count": null,
      "id": "ff79b68c",
      "metadata": {
        "id": "ff79b68c"
      },
      "outputs": [],
      "source": [
        "def metricas(model,Xv,yv):\n",
        "    print(\" Métricas para modelo de clasificación: \\n\")\n",
        "\n",
        "    print(\" Valor ROC : %.3f\"   %roc_auc_score( y_score=model.predict_proba(Xv)[:,1] , y_true=yv  )   )\n",
        "\n",
        "    print(\" Valor ACC : %.3f\\n\" %accuracy_score( y_pred=model.predict(Xv) , y_true=yv) )\n",
        "\n",
        "    print(\" Matriz de confusión: \", \"\\n\", confusion_matrix(y_pred=model.predict(Xv) , y_true=yv ) )"
      ]
    },
    {
      "cell_type": "code",
      "execution_count": null,
      "id": "1d038a40",
      "metadata": {
        "id": "1d038a40",
        "outputId": "e504de61-ff74-460b-972e-77e8bf99f894"
      },
      "outputs": [
        {
          "name": "stdout",
          "output_type": "stream",
          "text": [
            " Métricas para modelo de clasificación: \n",
            "\n",
            " Valor ROC : 0.793\n",
            " Valor ACC : 0.760\n",
            "\n",
            " Matriz de confusión:  \n",
            " [[18950  2713]\n",
            " [ 5513  7124]]\n"
          ]
        }
      ],
      "source": [
        "metricas( modelo , Xv[varw] , yv[tgt] )"
      ]
    },
    {
      "cell_type": "code",
      "execution_count": null,
      "id": "3785667b",
      "metadata": {
        "id": "3785667b"
      },
      "outputs": [],
      "source": [
        "yv['y^'] = v_sol"
      ]
    },
    {
      "cell_type": "code",
      "execution_count": null,
      "id": "1e1fe53c",
      "metadata": {
        "scrolled": true,
        "id": "1e1fe53c",
        "outputId": "cade35e2-9ec3-4dc1-b00c-c633bbb15ed8"
      },
      "outputs": [
        {
          "data": {
            "text/html": [
              "<div>\n",
              "<style scoped>\n",
              "    .dataframe tbody tr th:only-of-type {\n",
              "        vertical-align: middle;\n",
              "    }\n",
              "\n",
              "    .dataframe tbody tr th {\n",
              "        vertical-align: top;\n",
              "    }\n",
              "\n",
              "    .dataframe thead th {\n",
              "        text-align: right;\n",
              "    }\n",
              "</style>\n",
              "<table border=\"1\" class=\"dataframe\">\n",
              "  <thead>\n",
              "    <tr style=\"text-align: right;\">\n",
              "      <th></th>\n",
              "      <th>id</th>\n",
              "      <th>is_canceled</th>\n",
              "      <th>y^</th>\n",
              "    </tr>\n",
              "  </thead>\n",
              "  <tbody>\n",
              "    <tr>\n",
              "      <th>61807</th>\n",
              "      <td>113274</td>\n",
              "      <td>0</td>\n",
              "      <td>0</td>\n",
              "    </tr>\n",
              "    <tr>\n",
              "      <th>100279</th>\n",
              "      <td>74372</td>\n",
              "      <td>1</td>\n",
              "      <td>1</td>\n",
              "    </tr>\n",
              "    <tr>\n",
              "      <th>106049</th>\n",
              "      <td>4738</td>\n",
              "      <td>0</td>\n",
              "      <td>0</td>\n",
              "    </tr>\n",
              "    <tr>\n",
              "      <th>44251</th>\n",
              "      <td>116626</td>\n",
              "      <td>0</td>\n",
              "      <td>0</td>\n",
              "    </tr>\n",
              "    <tr>\n",
              "      <th>47365</th>\n",
              "      <td>86738</td>\n",
              "      <td>0</td>\n",
              "      <td>0</td>\n",
              "    </tr>\n",
              "    <tr>\n",
              "      <th>59678</th>\n",
              "      <td>82544</td>\n",
              "      <td>0</td>\n",
              "      <td>0</td>\n",
              "    </tr>\n",
              "    <tr>\n",
              "      <th>36234</th>\n",
              "      <td>2352</td>\n",
              "      <td>0</td>\n",
              "      <td>0</td>\n",
              "    </tr>\n",
              "    <tr>\n",
              "      <th>33015</th>\n",
              "      <td>22124</td>\n",
              "      <td>0</td>\n",
              "      <td>0</td>\n",
              "    </tr>\n",
              "    <tr>\n",
              "      <th>156</th>\n",
              "      <td>83293</td>\n",
              "      <td>0</td>\n",
              "      <td>0</td>\n",
              "    </tr>\n",
              "    <tr>\n",
              "      <th>29314</th>\n",
              "      <td>87172</td>\n",
              "      <td>0</td>\n",
              "      <td>0</td>\n",
              "    </tr>\n",
              "    <tr>\n",
              "      <th>44539</th>\n",
              "      <td>113491</td>\n",
              "      <td>0</td>\n",
              "      <td>0</td>\n",
              "    </tr>\n",
              "    <tr>\n",
              "      <th>32050</th>\n",
              "      <td>58789</td>\n",
              "      <td>1</td>\n",
              "      <td>1</td>\n",
              "    </tr>\n",
              "    <tr>\n",
              "      <th>87171</th>\n",
              "      <td>70004</td>\n",
              "      <td>1</td>\n",
              "      <td>1</td>\n",
              "    </tr>\n",
              "    <tr>\n",
              "      <th>2311</th>\n",
              "      <td>74202</td>\n",
              "      <td>1</td>\n",
              "      <td>1</td>\n",
              "    </tr>\n",
              "    <tr>\n",
              "      <th>77241</th>\n",
              "      <td>109475</td>\n",
              "      <td>0</td>\n",
              "      <td>0</td>\n",
              "    </tr>\n",
              "    <tr>\n",
              "      <th>35361</th>\n",
              "      <td>26794</td>\n",
              "      <td>0</td>\n",
              "      <td>0</td>\n",
              "    </tr>\n",
              "    <tr>\n",
              "      <th>97119</th>\n",
              "      <td>101844</td>\n",
              "      <td>0</td>\n",
              "      <td>0</td>\n",
              "    </tr>\n",
              "    <tr>\n",
              "      <th>23198</th>\n",
              "      <td>49099</td>\n",
              "      <td>1</td>\n",
              "      <td>1</td>\n",
              "    </tr>\n",
              "    <tr>\n",
              "      <th>15561</th>\n",
              "      <td>118411</td>\n",
              "      <td>0</td>\n",
              "      <td>0</td>\n",
              "    </tr>\n",
              "    <tr>\n",
              "      <th>98736</th>\n",
              "      <td>81873</td>\n",
              "      <td>1</td>\n",
              "      <td>1</td>\n",
              "    </tr>\n",
              "    <tr>\n",
              "      <th>20235</th>\n",
              "      <td>93964</td>\n",
              "      <td>0</td>\n",
              "      <td>0</td>\n",
              "    </tr>\n",
              "    <tr>\n",
              "      <th>86013</th>\n",
              "      <td>32853</td>\n",
              "      <td>0</td>\n",
              "      <td>1</td>\n",
              "    </tr>\n",
              "    <tr>\n",
              "      <th>18654</th>\n",
              "      <td>90515</td>\n",
              "      <td>0</td>\n",
              "      <td>0</td>\n",
              "    </tr>\n",
              "    <tr>\n",
              "      <th>40457</th>\n",
              "      <td>79849</td>\n",
              "      <td>1</td>\n",
              "      <td>1</td>\n",
              "    </tr>\n",
              "    <tr>\n",
              "      <th>33261</th>\n",
              "      <td>28758</td>\n",
              "      <td>0</td>\n",
              "      <td>0</td>\n",
              "    </tr>\n",
              "    <tr>\n",
              "      <th>59231</th>\n",
              "      <td>82543</td>\n",
              "      <td>0</td>\n",
              "      <td>0</td>\n",
              "    </tr>\n",
              "    <tr>\n",
              "      <th>41222</th>\n",
              "      <td>51484</td>\n",
              "      <td>1</td>\n",
              "      <td>1</td>\n",
              "    </tr>\n",
              "    <tr>\n",
              "      <th>47570</th>\n",
              "      <td>91901</td>\n",
              "      <td>0</td>\n",
              "      <td>1</td>\n",
              "    </tr>\n",
              "    <tr>\n",
              "      <th>38165</th>\n",
              "      <td>52992</td>\n",
              "      <td>1</td>\n",
              "      <td>0</td>\n",
              "    </tr>\n",
              "    <tr>\n",
              "      <th>58253</th>\n",
              "      <td>72429</td>\n",
              "      <td>1</td>\n",
              "      <td>0</td>\n",
              "    </tr>\n",
              "  </tbody>\n",
              "</table>\n",
              "</div>"
            ],
            "text/plain": [
              "            id  is_canceled  y^\n",
              "61807   113274            0   0\n",
              "100279   74372            1   1\n",
              "106049    4738            0   0\n",
              "44251   116626            0   0\n",
              "47365    86738            0   0\n",
              "59678    82544            0   0\n",
              "36234     2352            0   0\n",
              "33015    22124            0   0\n",
              "156      83293            0   0\n",
              "29314    87172            0   0\n",
              "44539   113491            0   0\n",
              "32050    58789            1   1\n",
              "87171    70004            1   1\n",
              "2311     74202            1   1\n",
              "77241   109475            0   0\n",
              "35361    26794            0   0\n",
              "97119   101844            0   0\n",
              "23198    49099            1   1\n",
              "15561   118411            0   0\n",
              "98736    81873            1   1\n",
              "20235    93964            0   0\n",
              "86013    32853            0   1\n",
              "18654    90515            0   0\n",
              "40457    79849            1   1\n",
              "33261    28758            0   0\n",
              "59231    82543            0   0\n",
              "41222    51484            1   1\n",
              "47570    91901            0   1\n",
              "38165    52992            1   0\n",
              "58253    72429            1   0"
            ]
          },
          "execution_count": 146,
          "metadata": {},
          "output_type": "execute_result"
        }
      ],
      "source": [
        "yv.sample(30)"
      ]
    },
    {
      "cell_type": "code",
      "execution_count": null,
      "id": "c8fa2b19",
      "metadata": {
        "id": "c8fa2b19"
      },
      "outputs": [],
      "source": [
        "from sklearn.metrics import f1_score"
      ]
    },
    {
      "cell_type": "code",
      "execution_count": null,
      "id": "aaa71f2c",
      "metadata": {
        "id": "aaa71f2c"
      },
      "outputs": [],
      "source": [
        "def metricas(model,Xv,yv): #Mide efectividad de un Modelo Predictivo\n",
        "    print( \" Roc Validate: %.3f\" %roc_auc_score(y_score=model.predict_proba(Xv)[:,1],y_true=yv))\n",
        "    print( \" Acc Validate: %.3f\" %accuracy_score(y_pred=model.predict(Xv),y_true=yv))\n",
        "    print( \" Matrix Conf Validate: \", \"\\n\",confusion_matrix(y_pred=model.predict(Xv),y_true=yv))"
      ]
    },
    {
      "cell_type": "code",
      "execution_count": null,
      "id": "70707f1d",
      "metadata": {
        "id": "70707f1d",
        "outputId": "582c150e-b237-4668-f8d2-009c2f1c79c4"
      },
      "outputs": [
        {
          "name": "stdout",
          "output_type": "stream",
          "text": [
            " Roc Validate: 0.796\n",
            " Acc Validate: 0.761\n",
            " Matrix Conf Validate:  \n",
            " [[44179  6457]\n",
            " [12659 16738]]\n"
          ]
        }
      ],
      "source": [
        "metricas(modelo,Xt[varw],yt[tgt])"
      ]
    },
    {
      "cell_type": "code",
      "execution_count": null,
      "id": "a0974ef4",
      "metadata": {
        "id": "a0974ef4",
        "outputId": "687229e5-6502-42f2-f399-387c880fdad2"
      },
      "outputs": [
        {
          "name": "stdout",
          "output_type": "stream",
          "text": [
            " Roc Validate: 0.793\n",
            " Acc Validate: 0.760\n",
            " Matrix Conf Validate:  \n",
            " [[18950  2713]\n",
            " [ 5513  7124]]\n"
          ]
        }
      ],
      "source": [
        "metricas(modelo,Xv[varw],yv[tgt])"
      ]
    },
    {
      "cell_type": "code",
      "execution_count": null,
      "id": "bf23a84e",
      "metadata": {
        "id": "bf23a84e"
      },
      "outputs": [],
      "source": [
        "from sklearn.metrics import f1_score"
      ]
    },
    {
      "cell_type": "code",
      "execution_count": null,
      "id": "c39c4cad",
      "metadata": {
        "id": "c39c4cad",
        "outputId": "f3da5ed6-cab1-461c-f1b3-66de0ebf6697"
      },
      "outputs": [
        {
          "data": {
            "text/plain": [
              "0.6339770401352676"
            ]
          },
          "execution_count": 152,
          "metadata": {},
          "output_type": "execute_result"
        }
      ],
      "source": [
        "f1_score(y_pred=modelo.predict(Xv[varw]),y_true=yv[tgt])"
      ]
    },
    {
      "cell_type": "code",
      "execution_count": null,
      "id": "e6908930",
      "metadata": {
        "id": "e6908930",
        "outputId": "b953bbb8-e3ef-4c47-f2c9-239365b11c42"
      },
      "outputs": [
        {
          "data": {
            "text/plain": [
              "0.8216624029831332"
            ]
          },
          "execution_count": 153,
          "metadata": {},
          "output_type": "execute_result"
        }
      ],
      "source": [
        "f1_score(y_pred=modelo.predict(Xv[varw]),y_true=yv[tgt],pos_label=0)"
      ]
    },
    {
      "cell_type": "code",
      "execution_count": null,
      "id": "284aa3e7",
      "metadata": {
        "id": "284aa3e7"
      },
      "outputs": [],
      "source": [
        "from sklearn.metrics import classification_report"
      ]
    },
    {
      "cell_type": "code",
      "execution_count": null,
      "id": "cbe13c86",
      "metadata": {
        "scrolled": false,
        "id": "cbe13c86",
        "outputId": "c7a27706-980f-4c7f-f7a4-c7a3ef85ad67"
      },
      "outputs": [
        {
          "name": "stdout",
          "output_type": "stream",
          "text": [
            "              precision    recall  f1-score   support\n",
            "\n",
            "           0       0.77      0.87      0.82     21663\n",
            "           1       0.72      0.56      0.63     12637\n",
            "\n",
            "    accuracy                           0.76     34300\n",
            "   macro avg       0.75      0.72      0.73     34300\n",
            "weighted avg       0.76      0.76      0.75     34300\n",
            "\n"
          ]
        }
      ],
      "source": [
        "print(classification_report(yv[tgt],modelo.predict(Xv[varw])))"
      ]
    },
    {
      "cell_type": "markdown",
      "id": "6de0219b",
      "metadata": {
        "id": "6de0219b"
      },
      "source": [
        "# Transformación a Scoring"
      ]
    },
    {
      "cell_type": "code",
      "execution_count": null,
      "id": "09d90a68",
      "metadata": {
        "id": "09d90a68",
        "outputId": "4f7a9026-e8a8-47f6-ed3d-0163bb8b38c8"
      },
      "outputs": [
        {
          "name": "stdout",
          "output_type": "stream",
          "text": [
            "36.06737602222409 675.0\n"
          ]
        }
      ],
      "source": [
        "PDO = 25\n",
        "base_score = 700\n",
        "base_oddds = 2\n",
        "\n",
        "factor = PDO / np.log(2)\n",
        "\n",
        "offset = base_score - factor *np.log(base_oddds)\n",
        "\n",
        "print(factor, offset)"
      ]
    },
    {
      "cell_type": "code",
      "execution_count": null,
      "id": "0f677af0",
      "metadata": {
        "id": "0f677af0"
      },
      "outputs": [],
      "source": [
        "betas = modelo.coef_[0].tolist()\n",
        "beta0 = modelo.intercept_[0]"
      ]
    },
    {
      "cell_type": "code",
      "execution_count": null,
      "id": "ded40905",
      "metadata": {
        "id": "ded40905",
        "outputId": "118e52da-f4bc-4375-d3cd-cacb452fbed5"
      },
      "outputs": [
        {
          "data": {
            "text/plain": [
              "6"
            ]
          },
          "execution_count": 158,
          "metadata": {},
          "output_type": "execute_result"
        }
      ],
      "source": [
        "n = len(betas)\n",
        "n"
      ]
    },
    {
      "cell_type": "code",
      "execution_count": null,
      "id": "3c5f824e",
      "metadata": {
        "id": "3c5f824e"
      },
      "outputs": [],
      "source": [
        "for v, beta in zip(varw, betas):\n",
        "    #print(v, beta)\n",
        "    Xt[f'p_{v}'] = np.ceil( (-Xt[v]*beta+beta0/n ) * factor + offset / n )\n",
        "    Xv[f'p_{v}'] = np.ceil( (-Xv[v]*beta+beta0/n ) * factor + offset / n )"
      ]
    },
    {
      "cell_type": "code",
      "execution_count": null,
      "id": "6d9e9ab1",
      "metadata": {
        "id": "6d9e9ab1"
      },
      "outputs": [],
      "source": [
        "varp = Xt.filter(like='p_').columns.tolist()"
      ]
    },
    {
      "cell_type": "code",
      "execution_count": null,
      "id": "20141620",
      "metadata": {
        "id": "20141620"
      },
      "outputs": [],
      "source": [
        "varp = [v for v in varp if v[:2] == 'p_']"
      ]
    },
    {
      "cell_type": "code",
      "execution_count": null,
      "id": "e3be8fa8",
      "metadata": {
        "id": "e3be8fa8"
      },
      "outputs": [],
      "source": [
        "Xt['score'] = Xt[varp].sum(axis=1)\n",
        "Xv['score'] = Xv[varp].sum(axis=1)"
      ]
    },
    {
      "cell_type": "code",
      "execution_count": null,
      "id": "2492d4e8",
      "metadata": {
        "id": "2492d4e8",
        "outputId": "d2a2976a-6355-4bdc-e6fb-010ccd8f3868"
      },
      "outputs": [
        {
          "name": "stderr",
          "output_type": "stream",
          "text": [
            "/home/dmz/02_DIPLOMADO_FES/01_MODULO1/JUPYTER_MODULO1/g15m1/lib/python3.10/site-packages/seaborn/distributions.py:2619: FutureWarning: `distplot` is a deprecated function and will be removed in a future version. Please adapt your code to use either `displot` (a figure-level function with similar flexibility) or `kdeplot` (an axes-level function for kernel density plots).\n",
            "  warnings.warn(msg, FutureWarning)\n",
            "/home/dmz/02_DIPLOMADO_FES/01_MODULO1/JUPYTER_MODULO1/g15m1/lib/python3.10/site-packages/seaborn/distributions.py:2619: FutureWarning: `distplot` is a deprecated function and will be removed in a future version. Please adapt your code to use either `displot` (a figure-level function with similar flexibility) or `kdeplot` (an axes-level function for kernel density plots).\n",
            "  warnings.warn(msg, FutureWarning)\n"
          ]
        },
        {
          "data": {
            "text/plain": [
              "<AxesSubplot:xlabel='score', ylabel='Density'>"
            ]
          },
          "execution_count": 163,
          "metadata": {},
          "output_type": "execute_result"
        },
        {
          "data": {
            "image/png": "[encoded data removed]",
            "text/plain": [
              "<Figure size 432x288 with 1 Axes>"
            ]
          },
          "metadata": {
            "needs_background": "light"
          },
          "output_type": "display_data"
        }
      ],
      "source": [
        "sns.distplot(Xt['score'],hist=False)\n",
        "sns.distplot(Xv['score'],hist=False)"
      ]
    },
    {
      "cell_type": "markdown",
      "id": "09eccaac",
      "metadata": {
        "id": "09eccaac"
      },
      "source": [
        "## Creación de Score Card"
      ]
    },
    {
      "cell_type": "code",
      "execution_count": null,
      "id": "b47e9330",
      "metadata": {
        "id": "b47e9330"
      },
      "outputs": [],
      "source": [
        "lst = []\n",
        "for vi, vp in zip([v[2:] for v in varw], varp ):\n",
        "    aux = Xt[[vi,vp]].drop_duplicates()\n",
        "    aux = aux.sort_values(by=vi, ascending=True).reset_index(drop=True)\n",
        "    aux.columns = ['atributo','puntos']\n",
        "    aux['caracteristica'] = vi\n",
        "    lst.append(aux)"
      ]
    },
    {
      "cell_type": "code",
      "execution_count": null,
      "id": "75dc3814",
      "metadata": {
        "id": "75dc3814"
      },
      "outputs": [],
      "source": [
        "scorecard = pd.concat(lst,ignore_index=True)"
      ]
    },
    {
      "cell_type": "code",
      "execution_count": null,
      "id": "03a5ccb6",
      "metadata": {
        "id": "03a5ccb6"
      },
      "outputs": [],
      "source": [
        "scorecard = scorecard.groupby(['caracteristica','atributo']).sum('puntos')"
      ]
    },
    {
      "cell_type": "code",
      "execution_count": null,
      "id": "8bd0e6d1",
      "metadata": {
        "id": "8bd0e6d1"
      },
      "outputs": [],
      "source": [
        "scorecard.to_excel('scorecard_stroke_hotel.xlsx')"
      ]
    },
    {
      "cell_type": "markdown",
      "id": "da86b349",
      "metadata": {
        "id": "da86b349"
      },
      "source": [
        "![image.png](attachment:image.png)"
      ]
    },
    {
      "cell_type": "code",
      "execution_count": null,
      "id": "53b84d2e",
      "metadata": {
        "id": "53b84d2e"
      },
      "outputs": [],
      "source": []
    },
    {
      "cell_type": "code",
      "execution_count": null,
      "id": "5d443d1e",
      "metadata": {
        "id": "5d443d1e"
      },
      "outputs": [],
      "source": []
    }
  ],
  "metadata": {
    "kernelspec": {
      "display_name": "Python 3 (ipykernel)",
      "language": "python",
      "name": "python3"
    },
    "language_info": {
      "codemirror_mode": {
        "name": "ipython",
        "version": 3
      },
      "file_extension": ".py",
      "mimetype": "text/x-python",
      "name": "python",
      "nbconvert_exporter": "python",
      "pygments_lexer": "ipython3",
      "version": "3.10.4"
    },
    "toc": {
      "base_numbering": 1,
      "nav_menu": {},
      "number_sections": true,
      "sideBar": true,
      "skip_h1_title": false,
      "title_cell": "Table of Contents",
      "title_sidebar": "Contents",
      "toc_cell": false,
      "toc_position": {},
      "toc_section_display": true,
      "toc_window_display": false
    },
    "colab": {
      "provenance": []
    }
  },
  "nbformat": 4,
  "nbformat_minor": 5
}