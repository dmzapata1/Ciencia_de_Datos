{
  "cells": [
    {
      "cell_type": "markdown",
      "source": [
        "# Práctica 3\n",
        "## Big Data\n",
        "\n",
        "Se desea desarrollar un modelo de machine learning a escala que cuente con la capacidad de evaluar de manera acelerada y precisa el valor de diversos bienes inmuebles para ofrecer recomendaciones de compra-venta con el objetivo de **aplicar estrategias de [House Flipping](https://www.lahaus.mx/blog/tendencias-del-mercado/house-flipping-invertir-mexico)**.\n",
        "\n",
        "**Conjunto de Datos**\n",
        "\n",
        "[KC House Dataset](https://www.kaggle.com/datasets/shivachandel/kc-house-data)\n",
        "\n",
        "El conjunto de datos consiste en los precios de las viviendas del condado de King, un área en el estado de Washington, EE. UU. entre mayo de 2014 y mayo de 2015, estos datos cubren también el área de Seattle. El conjunto de datos consta de 21 variables y 21,613 observaciones.\n",
        "\n",
        "**Diccionario de Datos**\n",
        "    \n",
        "* id - Identificador único para cada casa vendida\n",
        "* date - Fecha de la venta\n",
        "* price (target) - Precio de cada vivienda vendida\n",
        "* bedrooms - Número de dormitorios\n",
        "* bathrooms - Número de baños, donde 0.5 representa una habitación con inodoro pero sin ducha\n",
        "* sqft_living - Pies cuadrados del espacio habitable interior de los apartamentos\n",
        "* sqft_lot - Pies cuadrados del terreno\n",
        "* floors - Número de pisos\n",
        "* waterfront - Variable dummy que indica si el apartamento tiene vista al mar o no\n",
        "* view - Índice de 0 a 4 de qué tan buena es la vista de la propiedad\n",
        "* condition - Índice de 1 a 5 sobre la condición del apartamento,\n",
        "* grade - Índice del 1 al 13, en el que de 1 a 3 no llega a la construcción y diseño de edificios, 7 tiene un nivel promedio de construcción y diseño y 11 a 13 tiene un alto nivel de calidad de construcción y diseño.\n",
        "* sqft_above - Pies cuadrados del espacio interior de la vivienda que está por encima del nivel del suelo\n",
        "* sqft_basement - Pies cuadrados del espacio interior de la vivienda que está por debajo del nivel del suelo\n",
        "* yr_built - Año en que se construyó la casa inicialmente\n",
        "* yr_renovated - Año de la última renovación de la casa\n",
        "* zipcode - Área de código postal donde se encuentra la casa\n",
        "* lat - Latitud\n",
        "* long - Longitud\n",
        "* sqft_living15 - Pies cuadrados del espacio habitable interior de la vivienda para los 15 vecinos más cercanos\n",
        "* sqft_lot15 - Pies cuadrados de los lotes de terreno de los 15 vecinos más cercanos.\n",
        "\n",
        "\n",
        "**Instrucciones:**\n",
        "\n",
        "1.- Cargue el conjunto de datos y realice un análisis exploratorio apoyándose de visualizaciones para obtener un mejor entendimiento de los datos. Se recomienda el uso de [Kepler (Uber)](https://kepler.gl/) para generar intuición y posteriormente plasmar los hallazgos en DataBricks. **(5pts)**\n",
        "\n",
        "2.- Con el uso de Spark-SQL aplique la limpeza, transformaciones e ingeniería de variables que considere necesarias con el objetivo de cumplir con el requerimiento del punto 6. **(10pts)**\n",
        "\n",
        "3.- Con el uso de Spark-MLlib, entrene 3 modelos diferentes sobre la porción de entrenamiento y evalué sobre la porción de validación. Seleccione el mejor modelo y justifique su elección. **(5 pts)**\n",
        "\n",
        "4.- Con el uso de Hyperopt defina un espacio de búsqueda conformado por al menos 6 hiperparámetros para el modelo ganador y optimice con el algoritmo TPE (*Tree Parzen Estimator*). Se recomienda el uso de Mlflow para dar seguimiento a los experimentos realizados reduciendo los umbrales del espacio de búsqueda.**(5pts)**\n",
        "\n",
        "5.- Reentrene con la mejor configuración de hiperparámetros encontrada, construya un pipeline predictivo, genere predicciones y devuelva las métricas finales sobre la porción de prueba. Persista el pipeline en Azure Blob Storage.**(5pts)**\n",
        "\n",
        "6.- Genere una estrategia de uso del modelo para toma de decisiones. Determine las características de una vivienda \"barata\" y las acciones que implementaría para \"elevar\" el precio de la propiedad con el objetivo de realizar posteriormente una venta del mismo inmuble (House Flipping). **(5pts)**\n",
        "\n"
      ],
      "metadata": {
        "id": "AuDSIoX41Gx1",
        "application/vnd.databricks.v1+cell": {
          "title": "",
          "showTitle": false,
          "inputWidgets": {},
          "nuid": "8d337f40-7134-4d95-81e4-098e8f6d027c"
        }
      }
    },
    {
      "cell_type": "markdown",
      "source": [
        "#### 1.- Cargue el conjunto de datos y realice un análisis exploratorio apoyándose de visualizaciones para obtener un mejor entendimiento de los datos. Se recomienda el uso de [Kepler (Uber)](https://kepler.gl/) para generar intuición y posteriormente plasmar los hallazgos en DataBricks. **(5pts)**"
      ],
      "metadata": {
        "id": "Ij-vNNOICKH6",
        "application/vnd.databricks.v1+cell": {
          "title": "",
          "showTitle": false,
          "inputWidgets": {},
          "nuid": "c5f8c987-80db-4219-b108-e613fdadd94c"
        }
      }
    },
    {
      "cell_type": "code",
      "source": [],
      "metadata": {
        "application/vnd.databricks.v1+cell": {
          "title": "",
          "showTitle": false,
          "inputWidgets": {},
          "nuid": "9504937d-cd24-45ee-9664-f1cb7cb53b14"
        },
        "id": "DGAxgr8dWtnq"
      },
      "outputs": [],
      "execution_count": null
    },
    {
      "cell_type": "markdown",
      "source": [
        "#### 2.- Con el uso de Spark-SQL aplique la limpeza, transformaciones e ingeniería de variables que considere necesarias con el objetivo de cumplir con el requerimiento del punto 6. **(10pts)**"
      ],
      "metadata": {
        "id": "XOCl9i7UCKIO",
        "application/vnd.databricks.v1+cell": {
          "title": "",
          "showTitle": false,
          "inputWidgets": {},
          "nuid": "7b8739c6-8f13-4d1f-a61e-281630ac7989"
        }
      }
    },
    {
      "cell_type": "code",
      "source": [],
      "metadata": {
        "id": "Ps1xzow2CKIO",
        "application/vnd.databricks.v1+cell": {
          "title": "",
          "showTitle": false,
          "inputWidgets": {},
          "nuid": "e5c3c27c-a7d3-4f46-9ef5-6942d5999c13"
        }
      },
      "outputs": [],
      "execution_count": null
    },
    {
      "cell_type": "markdown",
      "source": [
        "#### 3.- Con el uso de Spark-MLlib, entrene 3 modelos diferentes sobre la porción de entrenamiento y evalué sobre la porción de validación. Seleccione el mejor modelo y justifique su elección. **(5 pts)**"
      ],
      "metadata": {
        "id": "6o1zDFvECKIO",
        "application/vnd.databricks.v1+cell": {
          "title": "",
          "showTitle": false,
          "inputWidgets": {},
          "nuid": "8cdea4dd-7a87-4ab8-a11d-54962f362177"
        }
      }
    },
    {
      "cell_type": "code",
      "source": [],
      "metadata": {
        "id": "qLjT14OgI-6C",
        "application/vnd.databricks.v1+cell": {
          "title": "",
          "showTitle": false,
          "inputWidgets": {},
          "nuid": "c3cc905d-7f13-454f-9682-39b53edca254"
        }
      },
      "outputs": [],
      "execution_count": null
    },
    {
      "cell_type": "markdown",
      "source": [
        "#### 4.- Con el uso de Hyperopt defina un espacio de búsqueda conformado por al menos 6 hiperparámetros para el modelo ganador y optimice con el algoritmo TPE (*Tree Parzen Estimator*). Se recomienda el uso de Mlflow para dar seguimiento a los experimentos realizados reduciendo los umbrales del espacio de búsqueda.**(5pts)**"
      ],
      "metadata": {
        "id": "6lX7iUw1CKIS",
        "application/vnd.databricks.v1+cell": {
          "title": "",
          "showTitle": false,
          "inputWidgets": {},
          "nuid": "77e530f8-ba3a-465b-b9a3-571dc84b9893"
        }
      }
    },
    {
      "cell_type": "code",
      "source": [],
      "metadata": {
        "id": "Lbhy1pXtJGGM",
        "application/vnd.databricks.v1+cell": {
          "title": "",
          "showTitle": false,
          "inputWidgets": {},
          "nuid": "ce0b7a83-9dbf-41d5-8018-8f7f606ca795"
        }
      },
      "outputs": [],
      "execution_count": null
    },
    {
      "cell_type": "markdown",
      "source": [
        "#### 5.- Reentrene con la mejor configuración de hiperparámetros encontrada, construya un pipeline predictivo, genere predicciones y devuelva las métricas finales sobre la porción de prueba. Persista el pipeline en Azure Blob Storage.**(5pts)**"
      ],
      "metadata": {
        "id": "oyhjQGe-gDyj"
      }
    },
    {
      "cell_type": "code",
      "source": [],
      "metadata": {
        "id": "K8lGIvP5gG-C"
      },
      "execution_count": null,
      "outputs": []
    },
    {
      "cell_type": "markdown",
      "source": [
        "#### 6.- Genere una estrategia de uso del modelo para toma de decisiones. Determine las características de una vivienda \"barata\" y las acciones que implementaría para \"elevar\" el precio de la propiedad con el objetivo de realizar posteriormente una venta del mismo inmuble (House Flipping). **(5pts)**\n"
      ],
      "metadata": {
        "id": "f5qHiZ8CgJkq"
      }
    },
    {
      "cell_type": "code",
      "source": [],
      "metadata": {
        "id": "bMqjHoFQgLML"
      },
      "execution_count": null,
      "outputs": []
    }
  ],
  "metadata": {
    "language_info": {
      "name": "python"
    },
    "kernelspec": {
      "name": "python3",
      "display_name": "Python 3"
    },
    "application/vnd.databricks.v1+notebook": {
      "notebookName": "4.7.8 Práctica 5",
      "dashboards": [],
      "notebookMetadata": {
        "pythonIndentUnit": 4
      },
      "language": "python",
      "widgets": {},
      "notebookOrigID": 1937668173370119
    },
    "colab": {
      "provenance": []
    },
    "accelerator": "GPU"
  },
  "nbformat": 4,
  "nbformat_minor": 0
}